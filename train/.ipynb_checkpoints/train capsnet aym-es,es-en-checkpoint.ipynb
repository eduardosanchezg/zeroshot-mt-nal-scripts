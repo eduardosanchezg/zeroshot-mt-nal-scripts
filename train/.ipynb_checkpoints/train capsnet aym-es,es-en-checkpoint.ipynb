{
 "cells": [
  {
   "cell_type": "markdown",
   "metadata": {
    "gradient": {
     "editing": false
    }
   },
   "source": [
    "## ENVIRONMENT VARIABLES"
   ]
  },
  {
   "cell_type": "code",
   "execution_count": 1,
   "metadata": {
    "gradient": {
     "editing": false
    }
   },
   "outputs": [],
   "source": [
    "EN_ES_CORPUS_DIR = \"/notebooks/master-thesis/corpora/tatoeba-challenge/en-es/\""
   ]
  },
  {
   "cell_type": "code",
   "execution_count": 2,
   "metadata": {
    "gradient": {
     "editing": false
    }
   },
   "outputs": [],
   "source": [
    "NAH_ES_CORPUS_DIR = \"/notebooks/master-thesis/corpora/americasnlp2021/data/nahuatl-spanish\""
   ]
  },
  {
   "cell_type": "code",
   "execution_count": 3,
   "metadata": {
    "gradient": {
     "editing": false
    }
   },
   "outputs": [],
   "source": [
    "tokenizer_path = \"/storage/master-thesis/models/capsnet__nah-es_es-en/tokenizers/nah-es-en/\""
   ]
  },
  {
   "cell_type": "code",
   "execution_count": 4,
   "metadata": {
    "gradient": {
     "editing": false
    }
   },
   "outputs": [
    {
     "name": "stdout",
     "output_type": "stream",
     "text": [
      "env: TOKENIZER_PATH=/storage/master-thesis/models/capsnet__nah-es_es-en/tokenizers/nah-es-en\n"
     ]
    }
   ],
   "source": [
    "%env TOKENIZER_PATH = /storage/master-thesis/models/capsnet__nah-es_es-en/tokenizers/nah-es-en"
   ]
  },
  {
   "cell_type": "code",
   "execution_count": 5,
   "metadata": {
    "gradient": {
     "editing": false
    }
   },
   "outputs": [],
   "source": [
    "tokenized_path_es_en = \"/storage/master-thesis/models/capsnet__nah-es_es-en/tokenizers/nah-es-en/es-en/\"\n",
    "tokenized_path_nah_es = \"/storage/master-thesis/models/capsnet__nah-es_es-en/tokenizers/nah-es-en/nah-es/\""
   ]
  },
  {
   "cell_type": "code",
   "execution_count": 6,
   "metadata": {
    "gradient": {
     "editing": false
    }
   },
   "outputs": [
    {
     "name": "stdout",
     "output_type": "stream",
     "text": [
      "env: TOKENIZED_PATH_ES_EN=/storage/master-thesis/models/capsnet__nah-es_es-en/tokenizers/nah-es-en/es-en\n",
      "env: TOKENIZED_PATH_NAH_ES=/storage/master-thesis/models/capsnet__nah-es_es-en/tokenizers/nah-es-en/nah-es\n"
     ]
    }
   ],
   "source": [
    "%env TOKENIZED_PATH_ES_EN = /storage/master-thesis/models/capsnet__nah-es_es-en/tokenizers/nah-es-en/es-en\n",
    "%env TOKENIZED_PATH_NAH_ES = /storage/master-thesis/models/capsnet__nah-es_es-en/tokenizers/nah-es-en/nah-es"
   ]
  },
  {
   "cell_type": "code",
   "execution_count": 7,
   "metadata": {
    "gradient": {
     "editing": false
    }
   },
   "outputs": [
    {
     "name": "stdout",
     "output_type": "stream",
     "text": [
      "env: BIN_DIR=/storage/master-thesis/models/capsnet__nah-es_es-en/tokenizers/nah-es-en/bin\n"
     ]
    }
   ],
   "source": [
    "%env BIN_DIR = /storage/master-thesis/models/capsnet__nah-es_es-en/tokenizers/nah-es-en/bin"
   ]
  },
  {
   "cell_type": "code",
   "execution_count": 8,
   "metadata": {},
   "outputs": [],
   "source": [
    "! mkdir -p $TOKENIZED_PATH_ES_EN\n",
    "! mkdir -p $TOKENIZED_PATH_NAH_ES\n",
    "! mkdir -p $BIN_DIR"
   ]
  },
  {
   "cell_type": "code",
   "execution_count": 13,
   "metadata": {
    "gradient": {
     "editing": false
    }
   },
   "outputs": [
    {
     "name": "stdout",
     "output_type": "stream",
     "text": [
      "env: MODEL_DIR=/storage/master-thesis/models/capsnet__nah-es_es-en\n"
     ]
    }
   ],
   "source": [
    "%env MODEL_DIR = /storage/master-thesis/models/capsnet__nah-es_es-en"
   ]
  },
  {
   "cell_type": "code",
   "execution_count": 46,
   "metadata": {
    "gradient": {
     "editing": false
    }
   },
   "outputs": [
    {
     "name": "stdout",
     "output_type": "stream",
     "text": [
      "env: CODE_STORAGE=/storage/code/\n"
     ]
    }
   ],
   "source": [
    "%env CODE_STORAGE = /storage/code/"
   ]
  },
  {
   "cell_type": "code",
   "execution_count": 11,
   "metadata": {
    "gradient": {
     "editing": false
    }
   },
   "outputs": [
    {
     "name": "stdout",
     "output_type": "stream",
     "text": [
      "LANG=\n",
      "LANGUAGE=\n",
      "LC_CTYPE=\"POSIX\"\n",
      "LC_NUMERIC=\"POSIX\"\n",
      "LC_TIME=\"POSIX\"\n",
      "LC_COLLATE=\"POSIX\"\n",
      "LC_MONETARY=\"POSIX\"\n",
      "LC_MESSAGES=\"POSIX\"\n",
      "LC_PAPER=\"POSIX\"\n",
      "LC_NAME=\"POSIX\"\n",
      "LC_ADDRESS=\"POSIX\"\n",
      "LC_TELEPHONE=\"POSIX\"\n",
      "LC_MEASUREMENT=\"POSIX\"\n",
      "LC_IDENTIFICATION=\"POSIX\"\n",
      "LC_ALL=\n"
     ]
    }
   ],
   "source": [
    "! locale"
   ]
  },
  {
   "cell_type": "code",
   "execution_count": null,
   "metadata": {
    "gradient": {
     "editing": false
    }
   },
   "outputs": [
    {
     "name": "stdout",
     "output_type": "stream",
     "text": [
      "/bin/sh: 1: update-locale: not found\n",
      "env: LANG=en_US.UTF-8\n",
      "env: LC_CTYPE=en_US.UTF-8\n",
      "env: LC_ALL=en_US.UTF-8\n"
     ]
    }
   ],
   "source": [
    "! update-locale LANG=en_US.UTF-8 LANGUAGE=en.UTF-8\n",
    "\n",
    "%env LANG=en_US.UTF-8\n",
    "%env LC_CTYPE=en_US.UTF-8\n",
    "%env LC_ALL=en_US.UTF-8"
   ]
  },
  {
   "cell_type": "code",
   "execution_count": null,
   "metadata": {
    "gradient": {}
   },
   "outputs": [
    {
     "name": "stdout",
     "output_type": "stream",
     "text": [
      "cat: /etc/rc.conf: No such file or directory\n"
     ]
    }
   ],
   "source": [
    "! cat /etc/rc.conf"
   ]
  },
  {
   "cell_type": "markdown",
   "metadata": {},
   "source": [
    "## Libraries"
   ]
  },
  {
   "cell_type": "code",
   "execution_count": 14,
   "metadata": {
    "gradient": {}
   },
   "outputs": [
    {
     "name": "stdout",
     "output_type": "stream",
     "text": [
      "Requirement already satisfied: tokenizers==0.10.3 in /usr/local/lib/python3.6/dist-packages (0.10.3)\n",
      "\u001b[33mWARNING: You are using pip version 20.2.4; however, version 21.3.1 is available.\n",
      "You should consider upgrading via the '/usr/bin/python3 -m pip install --upgrade pip' command.\u001b[0m\n",
      "Note: you may need to restart the kernel to use updated packages.\n"
     ]
    }
   ],
   "source": [
    "pip install tokenizers==0.10.3"
   ]
  },
  {
   "cell_type": "code",
   "execution_count": 15,
   "metadata": {},
   "outputs": [
    {
     "name": "stdout",
     "output_type": "stream",
     "text": [
      "Found existing installation: torch 1.9.1\n",
      "Uninstalling torch-1.9.1:\n",
      "  Successfully uninstalled torch-1.9.1\n",
      "\u001b[33mWARNING: Skipping torchvision as it is not installed.\u001b[0m\n",
      "\u001b[33mWARNING: Skipping torchaudio as it is not installed.\u001b[0m\n",
      "Note: you may need to restart the kernel to use updated packages.\n"
     ]
    }
   ],
   "source": [
    "pip uninstall torch torchvision torchaudio -y"
   ]
  },
  {
   "cell_type": "code",
   "execution_count": 16,
   "metadata": {},
   "outputs": [
    {
     "name": "stdout",
     "output_type": "stream",
     "text": [
      "Looking in indexes: https://pypi.org/simple, https://download.pytorch.org/whl/cu113\n",
      "Collecting torch\n",
      "  Downloading https://download.pytorch.org/whl/cu113/torch-1.10.2%2Bcu113-cp36-cp36m-linux_x86_64.whl (1821.5 MB)\n",
      "\u001b[K     |###########                     | 648.0 MB 135.5 MB/s eta 0:00:09MB 107.8 MB/s eta 0:00:15     |##########                      | 573.3 MB 141.5 MB/s eta 0:00:09"
     ]
    },
    {
     "name": "stderr",
     "output_type": "stream",
     "text": [
      "IOPub data rate exceeded.\n",
      "The notebook server will temporarily stop sending output\n",
      "to the client in order to avoid crashing it.\n",
      "To change this limit, set the config variable\n",
      "`--NotebookApp.iopub_data_rate_limit`.\n",
      "\n",
      "Current values:\n",
      "NotebookApp.iopub_data_rate_limit=1000000.0 (bytes/sec)\n",
      "NotebookApp.rate_limit_window=3.0 (secs)\n",
      "\n"
     ]
    },
    {
     "name": "stdout",
     "output_type": "stream",
     "text": [
      "\u001b[K     |###################             | 1114.6 MB 139.9 MB/s eta 0:00:06"
     ]
    },
    {
     "name": "stderr",
     "output_type": "stream",
     "text": [
      "IOPub data rate exceeded.\n",
      "The notebook server will temporarily stop sending output\n",
      "to the client in order to avoid crashing it.\n",
      "To change this limit, set the config variable\n",
      "`--NotebookApp.iopub_data_rate_limit`.\n",
      "\n",
      "Current values:\n",
      "NotebookApp.iopub_data_rate_limit=1000000.0 (bytes/sec)\n",
      "NotebookApp.rate_limit_window=3.0 (secs)\n",
      "\n"
     ]
    },
    {
     "name": "stdout",
     "output_type": "stream",
     "text": [
      "\u001b[K     |############################    | 1597.2 MB 127.1 MB/s eta 0:00:02"
     ]
    },
    {
     "name": "stderr",
     "output_type": "stream",
     "text": [
      "IOPub data rate exceeded.\n",
      "The notebook server will temporarily stop sending output\n",
      "to the client in order to avoid crashing it.\n",
      "To change this limit, set the config variable\n",
      "`--NotebookApp.iopub_data_rate_limit`.\n",
      "\n",
      "Current values:\n",
      "NotebookApp.iopub_data_rate_limit=1000000.0 (bytes/sec)\n",
      "NotebookApp.rate_limit_window=3.0 (secs)\n",
      "\n"
     ]
    },
    {
     "name": "stdout",
     "output_type": "stream",
     "text": [
      "\u001b[K     |################################| 1821.5 MB 7.5 kB/s s eta 0:00:01\n",
      "\u001b[?25hCollecting torchvision\n",
      "  Downloading https://download.pytorch.org/whl/cu113/torchvision-0.11.3%2Bcu113-cp36-cp36m-linux_x86_64.whl (24.6 MB)\n",
      "\u001b[K     |################################| 24.6 MB 6.9 MB/s eta 0:00:01\n",
      "\u001b[?25hCollecting torchaudio\n",
      "  Downloading https://download.pytorch.org/whl/cu113/torchaudio-0.10.2%2Bcu113-cp36-cp36m-linux_x86_64.whl (2.9 MB)\n",
      "\u001b[K     |################################| 2.9 MB 7.8 MB/s eta 0:00:01\n",
      "\u001b[?25hRequirement already satisfied: dataclasses; python_version < \"3.7\" in /usr/local/lib/python3.6/dist-packages (from torch) (0.8)\n",
      "Requirement already satisfied: typing-extensions in /usr/local/lib/python3.6/dist-packages (from torch) (3.10.0.2)\n",
      "Requirement already satisfied: numpy in /usr/local/lib/python3.6/dist-packages (from torchvision) (1.18.5)\n",
      "Requirement already satisfied: pillow!=8.3.0,>=5.3.0 in /usr/local/lib/python3.6/dist-packages (from torchvision) (8.3.2)\n",
      "Installing collected packages: torch, torchvision, torchaudio\n",
      "Successfully installed torch-1.10.2+cu113 torchaudio-0.10.2+cu113 torchvision-0.11.3+cu113\n",
      "\u001b[33mWARNING: You are using pip version 20.2.4; however, version 21.3.1 is available.\n",
      "You should consider upgrading via the '/usr/bin/python3 -m pip install --upgrade pip' command.\u001b[0m\n",
      "Note: you may need to restart the kernel to use updated packages.\n"
     ]
    }
   ],
   "source": [
    "pip install torch torchvision torchaudio --extra-index-url https://download.pytorch.org/whl/cu113"
   ]
  },
  {
   "cell_type": "code",
   "execution_count": 17,
   "metadata": {},
   "outputs": [
    {
     "name": "stdout",
     "output_type": "stream",
     "text": [
      "Found existing installation: fairseq 0.10.2\n",
      "Uninstalling fairseq-0.10.2:\n",
      "  Successfully uninstalled fairseq-0.10.2\n",
      "Note: you may need to restart the kernel to use updated packages.\n"
     ]
    }
   ],
   "source": [
    "pip uninstall fairseq -y"
   ]
  },
  {
   "cell_type": "code",
   "execution_count": 18,
   "metadata": {
    "gradient": {}
   },
   "outputs": [
    {
     "name": "stdout",
     "output_type": "stream",
     "text": [
      "Collecting fairseq\n",
      "  Downloading fairseq-0.12.2-cp36-cp36m-manylinux_2_5_x86_64.manylinux1_x86_64.whl (11.0 MB)\n",
      "\u001b[K     |################################| 11.0 MB 17.1 MB/s eta 0:00:01\n",
      "\u001b[?25hRequirement already satisfied: regex in /usr/local/lib/python3.6/dist-packages (from fairseq) (2020.11.13)\n",
      "Requirement already satisfied: cython in /usr/local/lib/python3.6/dist-packages (from fairseq) (0.29.24)\n",
      "Requirement already satisfied: dataclasses; python_version < \"3.7\" in /usr/local/lib/python3.6/dist-packages (from fairseq) (0.8)\n",
      "Collecting omegaconf<2.1\n",
      "  Downloading omegaconf-2.0.6-py3-none-any.whl (36 kB)\n",
      "Requirement already satisfied: torch in /usr/local/lib/python3.6/dist-packages (from fairseq) (1.10.2+cu113)\n",
      "Requirement already satisfied: sacrebleu>=1.4.12 in /usr/local/lib/python3.6/dist-packages (from fairseq) (2.0.0)\n",
      "Requirement already satisfied: torchaudio>=0.8.0 in /usr/local/lib/python3.6/dist-packages (from fairseq) (0.10.2+cu113)\n",
      "Requirement already satisfied: cffi in /usr/local/lib/python3.6/dist-packages (from fairseq) (1.14.3)\n",
      "Collecting hydra-core<1.1,>=1.0.7\n",
      "  Downloading hydra_core-1.0.7-py3-none-any.whl (123 kB)\n",
      "\u001b[K     |################################| 123 kB 107.1 MB/s eta 0:00:01\n",
      "\u001b[?25hRequirement already satisfied: numpy<1.20.0; python_version < \"3.7\" in /usr/local/lib/python3.6/dist-packages (from fairseq) (1.18.5)\n",
      "Collecting bitarray\n",
      "  Downloading bitarray-2.6.0-cp36-cp36m-manylinux_2_17_x86_64.manylinux2014_x86_64.whl (235 kB)\n",
      "\u001b[K     |################################| 235 kB 17.1 MB/s eta 0:00:01\n",
      "\u001b[?25hRequirement already satisfied: tqdm in /usr/local/lib/python3.6/dist-packages (from fairseq) (4.51.0)\n",
      "Requirement already satisfied: typing-extensions in /usr/local/lib/python3.6/dist-packages (from omegaconf<2.1->fairseq) (3.10.0.2)\n",
      "Requirement already satisfied: PyYAML>=5.1.* in /usr/local/lib/python3.6/dist-packages (from omegaconf<2.1->fairseq) (5.4.1)\n",
      "Requirement already satisfied: tabulate>=0.8.9 in /usr/local/lib/python3.6/dist-packages (from sacrebleu>=1.4.12->fairseq) (0.8.9)\n",
      "Requirement already satisfied: colorama in /usr/local/lib/python3.6/dist-packages (from sacrebleu>=1.4.12->fairseq) (0.4.4)\n",
      "Requirement already satisfied: portalocker in /usr/local/lib/python3.6/dist-packages (from sacrebleu>=1.4.12->fairseq) (2.3.2)\n",
      "Requirement already satisfied: pycparser in /usr/local/lib/python3.6/dist-packages (from cffi->fairseq) (2.20)\n",
      "Requirement already satisfied: importlib-resources; python_version < \"3.9\" in /usr/local/lib/python3.6/dist-packages (from hydra-core<1.1,>=1.0.7->fairseq) (5.2.2)\n",
      "Requirement already satisfied: antlr4-python3-runtime==4.8 in /usr/local/lib/python3.6/dist-packages (from hydra-core<1.1,>=1.0.7->fairseq) (4.8)\n",
      "Requirement already satisfied: zipp>=3.1.0; python_version < \"3.10\" in /usr/local/lib/python3.6/dist-packages (from importlib-resources; python_version < \"3.9\"->hydra-core<1.1,>=1.0.7->fairseq) (3.4.0)\n",
      "Installing collected packages: omegaconf, hydra-core, bitarray, fairseq\n",
      "  Attempting uninstall: omegaconf\n",
      "    Found existing installation: omegaconf 2.1.1\n",
      "    Uninstalling omegaconf-2.1.1:\n",
      "      Successfully uninstalled omegaconf-2.1.1\n",
      "  Attempting uninstall: hydra-core\n",
      "    Found existing installation: hydra-core 1.1.1\n",
      "    Uninstalling hydra-core-1.1.1:\n",
      "      Successfully uninstalled hydra-core-1.1.1\n",
      "Successfully installed bitarray-2.6.0 fairseq-0.12.2 hydra-core-1.0.7 omegaconf-2.0.6\n",
      "\u001b[33mWARNING: You are using pip version 20.2.4; however, version 21.3.1 is available.\n",
      "You should consider upgrading via the '/usr/bin/python3 -m pip install --upgrade pip' command.\u001b[0m\n",
      "Note: you may need to restart the kernel to use updated packages.\n"
     ]
    }
   ],
   "source": [
    "pip install fairseq"
   ]
  },
  {
   "cell_type": "code",
   "execution_count": 19,
   "metadata": {},
   "outputs": [
    {
     "name": "stdout",
     "output_type": "stream",
     "text": [
      "Found existing installation: apex 0.1\n",
      "Uninstalling apex-0.1:\n",
      "  Successfully uninstalled apex-0.1\n"
     ]
    }
   ],
   "source": [
    "! pip uninstall apex -y"
   ]
  },
  {
   "cell_type": "code",
   "execution_count": 20,
   "metadata": {},
   "outputs": [
    {
     "name": "stdout",
     "output_type": "stream",
     "text": [
      "rm: cannot remove 'apex': No such file or directory\n"
     ]
    }
   ],
   "source": [
    "rm -r apex"
   ]
  },
  {
   "cell_type": "code",
   "execution_count": null,
   "metadata": {},
   "outputs": [],
   "source": [
    "#! git clone https://github.com/NVIDIA/apex\n",
    "\n",
    "! pip install -v --disable-pip-version-check --no-cache-dir apex"
   ]
  },
  {
   "cell_type": "code",
   "execution_count": 22,
   "metadata": {},
   "outputs": [
    {
     "name": "stdout",
     "output_type": "stream",
     "text": [
      "Collecting tensorboardX\n",
      "  Downloading tensorboardX-2.5.1-py2.py3-none-any.whl (125 kB)\n",
      "\u001b[K     |################################| 125 kB 31.2 MB/s eta 0:00:01\n",
      "\u001b[?25hRequirement already satisfied: protobuf<=3.20.1,>=3.8.0 in /usr/local/lib/python3.6/dist-packages (from tensorboardX) (3.13.0)\n",
      "Requirement already satisfied: numpy in /usr/local/lib/python3.6/dist-packages (from tensorboardX) (1.18.5)\n",
      "Requirement already satisfied: setuptools in /usr/local/lib/python3.6/dist-packages (from protobuf<=3.20.1,>=3.8.0->tensorboardX) (50.3.2)\n",
      "Requirement already satisfied: six>=1.9 in /usr/local/lib/python3.6/dist-packages (from protobuf<=3.20.1,>=3.8.0->tensorboardX) (1.15.0)\n",
      "Installing collected packages: tensorboardX\n",
      "Successfully installed tensorboardX-2.5.1\n",
      "\u001b[33mWARNING: You are using pip version 20.2.4; however, version 21.3.1 is available.\n",
      "You should consider upgrading via the '/usr/bin/python3 -m pip install --upgrade pip' command.\u001b[0m\n",
      "Note: you may need to restart the kernel to use updated packages.\n"
     ]
    }
   ],
   "source": [
    "pip install tensorboardX"
   ]
  },
  {
   "cell_type": "markdown",
   "metadata": {},
   "source": [
    "## Converting tatoeba format to standard format"
   ]
  },
  {
   "cell_type": "code",
   "execution_count": null,
   "metadata": {
    "gradient": {}
   },
   "outputs": [],
   "source": [
    "import csv\n",
    "\n",
    "with open(EN_ES_CORPUS_DIR + \"original/valid.txt\", encoding='utf8') as f:\n",
    "    es = open(EN_ES_CORPUS_DIR + \"dev.es\", 'w', encoding='utf8')\n",
    "    en = open(EN_ES_CORPUS_DIR + \"dev.en\", 'w', encoding='utf8')\n",
    "    for line in csv.reader(f, delimiter=\"\\t\"):\n",
    "        es.write(line[3] + \"\\n\")\n",
    "        en.write(line[2] + \"\\n\")\n",
    "    en.close()\n",
    "    es.close()\n",
    "    \n",
    "with open(EN_ES_CORPUS_DIR + \"original/dev.txt\", encoding='utf8') as f:\n",
    "    es = open(EN_ES_CORPUS_DIR + \"train.es\", 'w', encoding='utf8')\n",
    "    en = open(EN_ES_CORPUS_DIR + \"train.en\", 'w', encoding='utf8')\n",
    "    for line in csv.reader(f, delimiter=\"\\t\"):\n",
    "        if \"\\n\" in line[2] or \"\\n\" in line[3]:\n",
    "            continue\n",
    "        if len(line) != 4:\n",
    "            continue\n",
    "            \n",
    "        es.write(line[3] + \"\\n\")\n",
    "        en.write(line[2] + \"\\n\")\n",
    "        \n",
    "    en.close()\n",
    "    es.close()\n",
    "        "
   ]
  },
  {
   "cell_type": "markdown",
   "metadata": {},
   "source": [
    "### Tokenizing data"
   ]
  },
  {
   "cell_type": "code",
   "execution_count": 12,
   "metadata": {
    "gradient": {}
   },
   "outputs": [],
   "source": [
    "from tokenizers import Tokenizer\n",
    "from tokenizers.models import WordPiece\n",
    "\n",
    "en_es_nah_tokenizer = Tokenizer(WordPiece(unk_token=\"[UNK]\"))"
   ]
  },
  {
   "cell_type": "code",
   "execution_count": 13,
   "metadata": {
    "gradient": {}
   },
   "outputs": [],
   "source": [
    "from tokenizers.trainers import WordPieceTrainer\n",
    "\n",
    "en_es_nah_trainer = WordPieceTrainer(special_tokens=[\"[UNK]\", \"[CLS]\", \"[SEP]\", \"[PAD]\", \"[MASK]\"], show_progress=True)"
   ]
  },
  {
   "cell_type": "code",
   "execution_count": 14,
   "metadata": {
    "gradient": {}
   },
   "outputs": [],
   "source": [
    "from tokenizers.pre_tokenizers import Whitespace\n",
    "\n",
    "en_es_nah_tokenizer.pre_tokenizer = Whitespace()\n",
    "\n",
    "en_files = [f\"/notebooks/master-thesis/corpora/tatoeba-challenge/en-es/{split}.en\" for split in [\"dev\", \"train\"]]\n",
    "es_files = [f\"/notebooks/master-thesis/corpora/tatoeba-challenge/en-es/{split}.es\" for split in [\"dev\", \"train\"]]\n",
    "nah_files = [f\"/notebooks/master-thesis/corpora/americasnlp2021/data/nahuatl-spanish/{split}.nah\" for split in [\"dev\", \"train\"]]\n",
    "es2_files = [f\"/notebooks/master-thesis/corpora/americasnlp2021/data/nahuatl-spanish/{split}.es\" for split in [\"dev\", \"train\"]]\n",
    "\n",
    "files = en_files + es_files + es2_files + nah_files\n",
    "#print(files)\n",
    "en_es_nah_tokenizer.train(files= files, trainer=en_es_nah_trainer)"
   ]
  },
  {
   "cell_type": "code",
   "execution_count": 15,
   "metadata": {
    "gradient": {}
   },
   "outputs": [],
   "source": [
    "from pathlib import Path\n",
    "\n",
    "\n",
    "\n",
    "def tokenize_files(tokenizer, files, extension, output_path):\n",
    "    for file in files:\n",
    "        print(f\"Reading file {file}\")\n",
    "        with open(file, encoding='utf8') as f:\n",
    "          lines = f.readlines()\n",
    "          tokenized_lines = tokenizer.encode_batch(lines)\n",
    "          tokenized_name = Path(file).stem\n",
    "          tokenized_name = output_path + tokenized_name + \".\" + extension\n",
    "          print(tokenized_name)\n",
    "          with open(tokenized_name, 'w', encoding='utf8') as wf:\n",
    "\n",
    "            wf.writelines([\" \".join(t.tokens) + \"\\n\" for t in tokenized_lines])"
   ]
  },
  {
   "cell_type": "code",
   "execution_count": 16,
   "metadata": {
    "gradient": {}
   },
   "outputs": [],
   "source": [
    "en_es_nah_tokenizer.save(tokenizer_path + \"nah-es-en-tokenizer.json\")"
   ]
  },
  {
   "cell_type": "code",
   "execution_count": 17,
   "metadata": {
    "gradient": {}
   },
   "outputs": [
    {
     "name": "stdout",
     "output_type": "stream",
     "text": [
      "<tokenizers.Tokenizer object at 0x264c110>\n"
     ]
    }
   ],
   "source": [
    "print(en_es_nah_tokenizer)"
   ]
  },
  {
   "cell_type": "code",
   "execution_count": 18,
   "metadata": {
    "gradient": {}
   },
   "outputs": [
    {
     "name": "stdout",
     "output_type": "stream",
     "text": [
      "['we', 'hold', 'this', 'truth', 'to', 'be', 'self', 'evident', '##ly', 'that', 'everyone', 'is', 'created', 'equal', '?']\n"
     ]
    }
   ],
   "source": [
    "tok = en_es_nah_tokenizer.encode(\"we hold this truth to be self evidently that everyone is created equal?\")\n",
    "print(tok.tokens)"
   ]
  },
  {
   "cell_type": "code",
   "execution_count": 19,
   "metadata": {
    "gradient": {}
   },
   "outputs": [
    {
     "name": "stdout",
     "output_type": "stream",
     "text": [
      "Reading file /notebooks/master-thesis/corpora/tatoeba-challenge/en-es/dev.en\n",
      "/storage/master-thesis/models/capsnet__nah-es_es-en/tokenizers/nah-es-en/es-en/dev.en\n",
      "Reading file /notebooks/master-thesis/corpora/tatoeba-challenge/en-es/train.en\n",
      "/storage/master-thesis/models/capsnet__nah-es_es-en/tokenizers/nah-es-en/es-en/train.en\n",
      "Reading file /notebooks/master-thesis/corpora/tatoeba-challenge/en-es/dev.es\n",
      "/storage/master-thesis/models/capsnet__nah-es_es-en/tokenizers/nah-es-en/es-en/dev.es\n",
      "Reading file /notebooks/master-thesis/corpora/tatoeba-challenge/en-es/train.es\n",
      "/storage/master-thesis/models/capsnet__nah-es_es-en/tokenizers/nah-es-en/es-en/train.es\n",
      "Reading file /notebooks/master-thesis/corpora/americasnlp2021/data/nahuatl-spanish/dev.nah\n",
      "/storage/master-thesis/models/capsnet__nah-es_es-en/tokenizers/nah-es-en/nah-es/dev.nah\n",
      "Reading file /notebooks/master-thesis/corpora/americasnlp2021/data/nahuatl-spanish/train.nah\n",
      "/storage/master-thesis/models/capsnet__nah-es_es-en/tokenizers/nah-es-en/nah-es/train.nah\n",
      "Reading file /notebooks/master-thesis/corpora/americasnlp2021/data/nahuatl-spanish/dev.es\n",
      "/storage/master-thesis/models/capsnet__nah-es_es-en/tokenizers/nah-es-en/nah-es/dev.es\n",
      "Reading file /notebooks/master-thesis/corpora/americasnlp2021/data/nahuatl-spanish/train.es\n",
      "/storage/master-thesis/models/capsnet__nah-es_es-en/tokenizers/nah-es-en/nah-es/train.es\n"
     ]
    }
   ],
   "source": [
    "tokenize_files(en_es_nah_tokenizer, en_files, \"en\", tokenized_path_es_en)\n",
    "tokenize_files(en_es_nah_tokenizer, es_files, \"es\", tokenized_path_es_en)\n",
    "\n",
    "tokenize_files(en_es_nah_tokenizer, nah_files, \"nah\", tokenized_path_nah_es)\n",
    "tokenize_files(en_es_nah_tokenizer, es2_files, \"es\", tokenized_path_nah_es)"
   ]
  },
  {
   "cell_type": "markdown",
   "metadata": {},
   "source": [
    "## Binarizing data"
   ]
  },
  {
   "cell_type": "code",
   "execution_count": 20,
   "metadata": {
    "gradient": {}
   },
   "outputs": [
    {
     "name": "stdout",
     "output_type": "stream",
     "text": [
      "rm: cannot remove '/storage/master-thesis/models/capsnet__nah-es_es-en/tokenizers/nah-es-en/bin/dict.nah.txt': No such file or directory\n",
      "rm: cannot remove '/storage/master-thesis/models/capsnet__nah-es_es-en/tokenizers/nah-es-en/bin/dict.es.txt': No such file or directory\n",
      "rm: cannot remove '/storage/master-thesis/models/capsnet__nah-es_es-en/tokenizers/nah-es-en/bin/dict.en.txt': No such file or directory\n"
     ]
    }
   ],
   "source": [
    "### Removing previous dict files\n",
    "! rm $BIN_DIR/dict.nah.txt\n",
    "! rm $BIN_DIR/dict.es.txt\n",
    "! rm $BIN_DIR/dict.en.txt"
   ]
  },
  {
   "cell_type": "code",
   "execution_count": 21,
   "metadata": {
    "gradient": {}
   },
   "outputs": [],
   "source": [
    "## Concatenating all training data\n",
    "! cat $TOKENIZED_PATH_NAH_ES/train.nah $TOKENIZED_PATH_NAH_ES/train.es $TOKENIZED_PATH_ES_EN/train.es $TOKENIZED_PATH_ES_EN/train.en > $BIN_DIR/train.all"
   ]
  },
  {
   "cell_type": "code",
   "execution_count": 22,
   "metadata": {
    "gradient": {}
   },
   "outputs": [
    {
     "name": "stdout",
     "output_type": "stream",
     "text": [
      "2022-10-29 18:00:09 | INFO | fairseq_cli.preprocess | Namespace(aim_repo=None, aim_run_hash=None, align_suffix=None, alignfile=None, all_gather_list_size=16384, amp=False, amp_batch_retries=2, amp_init_scale=128, amp_scale_window=None, azureml_logging=False, bf16=False, bpe=None, cpu=False, criterion='cross_entropy', dataset_impl='mmap', destdir='/storage/master-thesis/models/capsnet__nah-es_es-en/tokenizers/nah-es-en/bin', dict_only=False, empty_cache_freq=0, fp16=False, fp16_init_scale=128, fp16_no_flatten_grads=False, fp16_scale_tolerance=0.0, fp16_scale_window=None, joined_dictionary=False, log_file=None, log_format=None, log_interval=100, lr_scheduler='fixed', memory_efficient_bf16=False, memory_efficient_fp16=False, min_loss_scale=0.0001, model_parallel_size=1, no_progress_bar=False, nwordssrc=-1, nwordstgt=-1, on_cpu_convert_precision=False, only_source=True, optimizer=None, padding_factor=8, plasma_path='/tmp/plasma', profile=False, quantization_config_path=None, reset_logging=False, scoring='bleu', seed=1, source_lang='all', srcdict=None, suppress_crashes=False, target_lang=None, task='translation', tensorboard_logdir=None, testpref=None, tgtdict=None, threshold_loss_scale=None, thresholdsrc=0, thresholdtgt=0, tokenizer=None, tpu=False, trainpref='/storage/master-thesis/models/capsnet__nah-es_es-en/tokenizers/nah-es-en/bin/train', use_plasma_view=False, user_dir=None, validpref=None, wandb_project=None, workers=20)\n",
      "2022-10-29 18:00:12 | INFO | fairseq_cli.preprocess | [all] Dictionary: 28912 types\n",
      "2022-10-29 18:00:18 | INFO | fairseq_cli.preprocess | [all] /storage/master-thesis/models/capsnet__nah-es_es-en/tokenizers/nah-es-en/bin/train.all: 426884 sents, 4903920 tokens, 0.0% replaced (by <unk>)\n",
      "2022-10-29 18:00:18 | INFO | fairseq_cli.preprocess | Wrote preprocessed data to /storage/master-thesis/models/capsnet__nah-es_es-en/tokenizers/nah-es-en/bin\n"
     ]
    }
   ],
   "source": [
    "! fairseq-preprocess --source-lang all \\\n",
    "    --trainpref $BIN_DIR/train \\\n",
    "    --destdir $BIN_DIR \\\n",
    "    --workers 20 \\\n",
    "    --only-source"
   ]
  },
  {
   "cell_type": "code",
   "execution_count": 23,
   "metadata": {
    "gradient": {}
   },
   "outputs": [
    {
     "name": "stdout",
     "output_type": "stream",
     "text": [
      "2022-10-29 18:00:22 | INFO | fairseq_cli.preprocess | Namespace(aim_repo=None, aim_run_hash=None, align_suffix=None, alignfile=None, all_gather_list_size=16384, amp=False, amp_batch_retries=2, amp_init_scale=128, amp_scale_window=None, azureml_logging=False, bf16=False, bpe=None, cpu=False, criterion='cross_entropy', dataset_impl='mmap', destdir='/storage/master-thesis/models/capsnet__nah-es_es-en/tokenizers/nah-es-en/bin', dict_only=False, empty_cache_freq=0, fp16=False, fp16_init_scale=128, fp16_no_flatten_grads=False, fp16_scale_tolerance=0.0, fp16_scale_window=None, joined_dictionary=False, log_file=None, log_format=None, log_interval=100, lr_scheduler='fixed', memory_efficient_bf16=False, memory_efficient_fp16=False, min_loss_scale=0.0001, model_parallel_size=1, no_progress_bar=False, nwordssrc=-1, nwordstgt=-1, on_cpu_convert_precision=False, only_source=False, optimizer=None, padding_factor=8, plasma_path='/tmp/plasma', profile=False, quantization_config_path=None, reset_logging=False, scoring='bleu', seed=1, source_lang='nah', srcdict='/storage/master-thesis/models/capsnet__nah-es_es-en/tokenizers/nah-es-en/bin/dict.all.txt', suppress_crashes=False, target_lang='es', task='translation', tensorboard_logdir=None, testpref=None, tgtdict='/storage/master-thesis/models/capsnet__nah-es_es-en/tokenizers/nah-es-en/bin/dict.all.txt', threshold_loss_scale=None, thresholdsrc=0, thresholdtgt=0, tokenizer=None, tpu=False, trainpref='/storage/master-thesis/models/capsnet__nah-es_es-en/tokenizers/nah-es-en/nah-es/train', use_plasma_view=False, user_dir=None, validpref='/storage/master-thesis/models/capsnet__nah-es_es-en/tokenizers/nah-es-en/nah-es/dev', wandb_project=None, workers=20)\n",
      "2022-10-29 18:00:22 | INFO | fairseq_cli.preprocess | [nah] Dictionary: 28912 types\n",
      "2022-10-29 18:00:23 | INFO | fairseq_cli.preprocess | [nah] /storage/master-thesis/models/capsnet__nah-es_es-en/tokenizers/nah-es-en/nah-es/train.nah: 16145 sents, 529302 tokens, 0.0% replaced (by <unk>)\n",
      "2022-10-29 18:00:23 | INFO | fairseq_cli.preprocess | [nah] Dictionary: 28912 types\n",
      "2022-10-29 18:00:23 | INFO | fairseq_cli.preprocess | [nah] /storage/master-thesis/models/capsnet__nah-es_es-en/tokenizers/nah-es-en/nah-es/dev.nah: 671 sents, 9095 tokens, 0.44% replaced (by <unk>)\n",
      "2022-10-29 18:00:23 | INFO | fairseq_cli.preprocess | [es] Dictionary: 28912 types\n",
      "2022-10-29 18:00:24 | INFO | fairseq_cli.preprocess | [es] /storage/master-thesis/models/capsnet__nah-es_es-en/tokenizers/nah-es-en/nah-es/train.es: 16145 sents, 544036 tokens, 0.0% replaced (by <unk>)\n",
      "2022-10-29 18:00:24 | INFO | fairseq_cli.preprocess | [es] Dictionary: 28912 types\n",
      "2022-10-29 18:00:24 | INFO | fairseq_cli.preprocess | [es] /storage/master-thesis/models/capsnet__nah-es_es-en/tokenizers/nah-es-en/nah-es/dev.es: 671 sents, 8705 tokens, 0.172% replaced (by <unk>)\n",
      "2022-10-29 18:00:24 | INFO | fairseq_cli.preprocess | Wrote preprocessed data to /storage/master-thesis/models/capsnet__nah-es_es-en/tokenizers/nah-es-en/bin\n"
     ]
    }
   ],
   "source": [
    "! fairseq-preprocess --source-lang nah --target-lang es \\\n",
    "    --trainpref $TOKENIZED_PATH_NAH_ES/train --validpref $TOKENIZED_PATH_NAH_ES/dev \\\n",
    "    --destdir $BIN_DIR \\\n",
    "    --srcdict $BIN_DIR/dict.all.txt \\\n",
    "    --tgtdict $BIN_DIR/dict.all.txt \\\n",
    "    --workers 20"
   ]
  },
  {
   "cell_type": "markdown",
   "metadata": {},
   "source": [
    "### Reusing es dict from quy-es preprocessing"
   ]
  },
  {
   "cell_type": "code",
   "execution_count": 24,
   "metadata": {
    "gradient": {}
   },
   "outputs": [
    {
     "name": "stdout",
     "output_type": "stream",
     "text": [
      "2022-10-29 18:00:26 | INFO | fairseq_cli.preprocess | Namespace(aim_repo=None, aim_run_hash=None, align_suffix=None, alignfile=None, all_gather_list_size=16384, amp=False, amp_batch_retries=2, amp_init_scale=128, amp_scale_window=None, azureml_logging=False, bf16=False, bpe=None, cpu=False, criterion='cross_entropy', dataset_impl='mmap', destdir='/storage/master-thesis/models/capsnet__nah-es_es-en/tokenizers/nah-es-en/bin', dict_only=False, empty_cache_freq=0, fp16=False, fp16_init_scale=128, fp16_no_flatten_grads=False, fp16_scale_tolerance=0.0, fp16_scale_window=None, joined_dictionary=False, log_file=None, log_format=None, log_interval=100, lr_scheduler='fixed', memory_efficient_bf16=False, memory_efficient_fp16=False, min_loss_scale=0.0001, model_parallel_size=1, no_progress_bar=False, nwordssrc=-1, nwordstgt=-1, on_cpu_convert_precision=False, only_source=False, optimizer=None, padding_factor=8, plasma_path='/tmp/plasma', profile=False, quantization_config_path=None, reset_logging=False, scoring='bleu', seed=1, source_lang='es', srcdict='/storage/master-thesis/models/capsnet__nah-es_es-en/tokenizers/nah-es-en/bin/dict.all.txt', suppress_crashes=False, target_lang='en', task='translation', tensorboard_logdir=None, testpref=None, tgtdict='/storage/master-thesis/models/capsnet__nah-es_es-en/tokenizers/nah-es-en/bin/dict.all.txt', threshold_loss_scale=None, thresholdsrc=0, thresholdtgt=0, tokenizer=None, tpu=False, trainpref='/storage/master-thesis/models/capsnet__nah-es_es-en/tokenizers/nah-es-en/es-en/train', use_plasma_view=False, user_dir=None, validpref='/storage/master-thesis/models/capsnet__nah-es_es-en/tokenizers/nah-es-en/es-en/dev', wandb_project=None, workers=20)\n",
      "2022-10-29 18:00:27 | INFO | fairseq_cli.preprocess | [es] Dictionary: 28912 types\n",
      "2022-10-29 18:00:29 | INFO | fairseq_cli.preprocess | [es] /storage/master-thesis/models/capsnet__nah-es_es-en/tokenizers/nah-es-en/es-en/train.es: 197297 sents, 1874490 tokens, 0.0% replaced (by <unk>)\n",
      "2022-10-29 18:00:29 | INFO | fairseq_cli.preprocess | [es] Dictionary: 28912 types\n",
      "2022-10-29 18:00:30 | INFO | fairseq_cli.preprocess | [es] /storage/master-thesis/models/capsnet__nah-es_es-en/tokenizers/nah-es-en/es-en/dev.es: 4643 sents, 51250 tokens, 0.041% replaced (by <unk>)\n",
      "2022-10-29 18:00:30 | INFO | fairseq_cli.preprocess | [en] Dictionary: 28912 types\n",
      "2022-10-29 18:00:32 | INFO | fairseq_cli.preprocess | [en] /storage/master-thesis/models/capsnet__nah-es_es-en/tokenizers/nah-es-en/es-en/train.en: 197297 sents, 1956092 tokens, 0.0% replaced (by <unk>)\n",
      "2022-10-29 18:00:32 | INFO | fairseq_cli.preprocess | [en] Dictionary: 28912 types\n",
      "2022-10-29 18:00:32 | INFO | fairseq_cli.preprocess | [en] /storage/master-thesis/models/capsnet__nah-es_es-en/tokenizers/nah-es-en/es-en/dev.en: 4643 sents, 53166 tokens, 0.0414% replaced (by <unk>)\n",
      "2022-10-29 18:00:32 | INFO | fairseq_cli.preprocess | Wrote preprocessed data to /storage/master-thesis/models/capsnet__nah-es_es-en/tokenizers/nah-es-en/bin\n"
     ]
    }
   ],
   "source": [
    "! fairseq-preprocess --source-lang es --target-lang en \\\n",
    "    --trainpref $TOKENIZED_PATH_ES_EN/train --validpref $TOKENIZED_PATH_ES_EN/dev \\\n",
    "    --destdir $BIN_DIR \\\n",
    "    --srcdict $BIN_DIR/dict.all.txt \\\n",
    "    --tgtdict $BIN_DIR/dict.all.txt \\\n",
    "    --workers 20"
   ]
  },
  {
   "cell_type": "markdown",
   "metadata": {},
   "source": [
    "## Training model"
   ]
  },
  {
   "cell_type": "code",
   "execution_count": 59,
   "metadata": {
    "gradient": {}
   },
   "outputs": [
    {
     "name": "stdout",
     "output_type": "stream",
     "text": [
      "[Errno 2] No such file or directory: '$CODE_STORAGE'\n",
      "/\n"
     ]
    }
   ],
   "source": [
    "# cd \"$CODE_STORAGE\""
   ]
  },
  {
   "cell_type": "code",
   "execution_count": 71,
   "metadata": {},
   "outputs": [
    {
     "name": "stdout",
     "output_type": "stream",
     "text": [
      "/storage/code\n"
     ]
    }
   ],
   "source": [
    "cd /storage/code"
   ]
  },
  {
   "cell_type": "code",
   "execution_count": 72,
   "metadata": {},
   "outputs": [],
   "source": [
    "! rm -r fairseq-dynamic-routing-plugin"
   ]
  },
  {
   "cell_type": "code",
   "execution_count": 73,
   "metadata": {
    "gradient": {}
   },
   "outputs": [
    {
     "name": "stdout",
     "output_type": "stream",
     "text": [
      "Cloning into 'fairseq-dynamic-routing-plugin'...\n",
      "remote: Enumerating objects: 32879, done.\u001b[K\n",
      "remote: Counting objects: 100% (21/21), done.\u001b[K\n",
      "remote: Compressing objects: 100% (21/21), done.\u001b[K\n",
      "remote: Total 32879 (delta 9), reused 0 (delta 0), pack-reused 32858\u001b[K\n",
      "Receiving objects: 100% (32879/32879), 13.90 MiB | 39.31 MiB/s, done.\n",
      "Resolving deltas: 100% (24198/24198), done.\n"
     ]
    }
   ],
   "source": [
    "! git clone https://github.com/eduardosanchezg/fairseq-dynamic-routing-plugin.git"
   ]
  },
  {
   "cell_type": "code",
   "execution_count": 74,
   "metadata": {},
   "outputs": [
    {
     "name": "stdout",
     "output_type": "stream",
     "text": [
      "/notebooks\n"
     ]
    }
   ],
   "source": [
    "cd ../../notebooks"
   ]
  },
  {
   "cell_type": "code",
   "execution_count": 12,
   "metadata": {},
   "outputs": [
    {
     "name": "stdout",
     "output_type": "stream",
     "text": [
      "[Errno 2] No such file or directory: '$MODEL_DIR'\n",
      "/notebooks\n"
     ]
    }
   ],
   "source": [
    "cd $MODEL_DIR"
   ]
  },
  {
   "cell_type": "code",
   "execution_count": 75,
   "metadata": {},
   "outputs": [
    {
     "name": "stdout",
     "output_type": "stream",
     "text": [
      "2022-10-29 21:47:53 | INFO | fairseq_cli.train | {'_name': None, 'common': {'_name': None, 'no_progress_bar': False, 'log_interval': 100, 'log_format': None, 'log_file': None, 'aim_repo': None, 'aim_run_hash': None, 'tensorboard_logdir': None, 'wandb_project': None, 'azureml_logging': False, 'seed': 1, 'cpu': False, 'tpu': False, 'bf16': False, 'memory_efficient_bf16': False, 'fp16': True, 'memory_efficient_fp16': False, 'fp16_no_flatten_grads': False, 'fp16_init_scale': 128, 'fp16_scale_window': None, 'fp16_scale_tolerance': 0.0, 'on_cpu_convert_precision': False, 'min_loss_scale': 0.0001, 'threshold_loss_scale': None, 'amp': False, 'amp_batch_retries': 2, 'amp_init_scale': 128, 'amp_scale_window': None, 'user_dir': '/storage/code//fairseq-dynamic-routing-plugin/examples/dynamic_routing/dynamic_routing_src/', 'empty_cache_freq': 0, 'all_gather_list_size': 16384, 'model_parallel_size': 1, 'quantization_config_path': None, 'profile': False, 'reset_logging': False, 'suppress_crashes': False, 'use_plasma_view': False, 'plasma_path': '/tmp/plasma'}, 'common_eval': {'_name': None, 'path': None, 'post_process': None, 'quiet': False, 'model_overrides': '{}', 'results_path': None}, 'distributed_training': {'_name': None, 'distributed_world_size': 1, 'distributed_num_procs': 1, 'distributed_rank': 0, 'distributed_backend': 'nccl', 'distributed_init_method': None, 'distributed_port': -1, 'device_id': 0, 'distributed_no_spawn': False, 'ddp_backend': 'pytorch_ddp', 'ddp_comm_hook': 'none', 'bucket_cap_mb': 25, 'fix_batches_to_gpus': False, 'find_unused_parameters': False, 'gradient_as_bucket_view': False, 'fast_stat_sync': False, 'heartbeat_timeout': -1, 'broadcast_buffers': False, 'slowmo_momentum': None, 'slowmo_base_algorithm': 'localsgd', 'localsgd_frequency': 3, 'nprocs_per_node': 1, 'pipeline_model_parallel': False, 'pipeline_balance': None, 'pipeline_devices': None, 'pipeline_chunks': 0, 'pipeline_encoder_balance': None, 'pipeline_encoder_devices': None, 'pipeline_decoder_balance': None, 'pipeline_decoder_devices': None, 'pipeline_checkpoint': 'never', 'zero_sharding': 'none', 'fp16': True, 'memory_efficient_fp16': False, 'tpu': False, 'no_reshard_after_forward': False, 'fp32_reduce_scatter': False, 'cpu_offload': False, 'use_sharded_state': False, 'not_fsdp_flatten_parameters': False}, 'dataset': {'_name': None, 'num_workers': 1, 'skip_invalid_size_inputs_valid_test': False, 'max_tokens': 4096, 'batch_size': None, 'required_batch_size_multiple': 8, 'required_seq_len_multiple': 1, 'dataset_impl': None, 'data_buffer_size': 10, 'train_subset': 'train', 'valid_subset': 'valid', 'combine_valid_subsets': None, 'ignore_unused_valid_subsets': False, 'validate_interval': 1, 'validate_interval_updates': 0, 'validate_after_updates': 0, 'fixed_validation_seed': None, 'disable_validation': False, 'max_tokens_valid': 4096, 'batch_size_valid': None, 'max_valid_steps': None, 'curriculum': 0, 'gen_subset': 'test', 'num_shards': 1, 'shard_id': 0, 'grouped_shuffling': False, 'update_epoch_batch_itr': False, 'update_ordered_indices_seed': False}, 'optimization': {'_name': None, 'max_epoch': 200, 'max_update': 0, 'stop_time_hours': 0.0, 'clip_norm': 0.0, 'sentence_avg': False, 'update_freq': [1], 'lr': [0.0005], 'stop_min_lr': -1.0, 'use_bmuf': False, 'skip_remainder_batch': False}, 'checkpoint': {'_name': None, 'save_dir': '/storage/master-thesis/models/capsnet__nah-es_es-en/', 'restore_file': '/storage/master-thesis/models/capsnet__nah-es_es-en/checkpoint_last.pt', 'continue_once': None, 'finetune_from_model': None, 'reset_dataloader': False, 'reset_lr_scheduler': False, 'reset_meters': False, 'reset_optimizer': True, 'optimizer_overrides': '{}', 'save_interval': 1, 'save_interval_updates': 0, 'keep_interval_updates': -1, 'keep_interval_updates_pattern': -1, 'keep_last_epochs': 2, 'keep_best_checkpoints': -1, 'no_save': False, 'no_epoch_checkpoints': False, 'no_last_checkpoints': False, 'no_save_optimizer_state': False, 'best_checkpoint_metric': 'loss', 'maximize_best_checkpoint_metric': False, 'patience': 10, 'checkpoint_suffix': '', 'checkpoint_shard_count': 1, 'load_checkpoint_on_all_dp_ranks': False, 'write_checkpoints_asynchronously': False, 'model_parallel_size': 1}, 'bmuf': {'_name': None, 'block_lr': 1.0, 'block_momentum': 0.875, 'global_sync_iter': 50, 'warmup_iterations': 500, 'use_nbm': False, 'average_sync': False, 'distributed_world_size': 1}, 'generation': {'_name': None, 'beam': 5, 'nbest': 1, 'max_len_a': 0.0, 'max_len_b': 200, 'min_len': 1, 'match_source_len': False, 'unnormalized': False, 'no_early_stop': False, 'no_beamable_mm': False, 'lenpen': 1.0, 'unkpen': 0.0, 'replace_unk': None, 'sacrebleu': False, 'score_reference': False, 'prefix_size': 0, 'no_repeat_ngram_size': 0, 'sampling': False, 'sampling_topk': -1, 'sampling_topp': -1.0, 'constraints': None, 'temperature': 1.0, 'diverse_beam_groups': -1, 'diverse_beam_strength': 0.5, 'diversity_rate': -1.0, 'print_alignment': None, 'print_step': False, 'lm_path': None, 'lm_weight': 0.0, 'iter_decode_eos_penalty': 0.0, 'iter_decode_max_iter': 10, 'iter_decode_force_max_iter': False, 'iter_decode_with_beam': 1, 'iter_decode_with_external_reranker': False, 'retain_iter_history': False, 'retain_dropout': False, 'retain_dropout_modules': None, 'decoding_format': None, 'no_seed_provided': False, 'eos_token': None}, 'eval_lm': {'_name': None, 'output_word_probs': False, 'output_word_stats': False, 'context_window': 0, 'softmax_batch': 9223372036854775807}, 'interactive': {'_name': None, 'buffer_size': 0, 'input': '-'}, 'model': Namespace(_name='capsnet_transformer', activation_dropout=0.0, activation_fn='relu', adam_betas='(0.9, 0.98)', adam_eps=1e-08, adaptive_input=False, adaptive_softmax_cutoff=None, adaptive_softmax_dropout=0, aim_repo=None, aim_run_hash=None, all_gather_list_size=16384, amp=False, amp_batch_retries=2, amp_init_scale=128, amp_scale_window=None, arch='capsnet_transformer', attention_dropout=0.0, azureml_logging=False, batch_size=None, batch_size_valid=None, best_checkpoint_metric='loss', bf16=False, bpe=None, broadcast_buffers=False, bucket_cap_mb=25, checkpoint_activations=False, checkpoint_shard_count=1, checkpoint_suffix='', clip_norm=0.0, combine_valid_subsets=None, continue_once=None, cpu=False, cpu_offload=False, criterion='label_smoothed_cross_entropy', cross_self_attention=False, curriculum=0, data='/storage/master-thesis/models/capsnet__nah-es_es-en/tokenizers/nah-es-en/bin', data_buffer_size=10, dataset_impl=None, ddp_backend='pytorch_ddp', ddp_comm_hook='none', decoder_attention_heads=8, decoder_embed_dim=512, decoder_embed_path=None, decoder_ffn_embed_dim=2048, decoder_input_dim=512, decoder_langtok=True, decoder_layerdrop=0, decoder_layers=6, decoder_layers_to_keep=None, decoder_learned_pos=False, decoder_normalize_before=False, decoder_output_dim=512, device_id=0, disable_validation=False, distributed_backend='nccl', distributed_init_method=None, distributed_no_spawn=False, distributed_num_procs=1, distributed_port=-1, distributed_rank=0, distributed_world_size=1, dropout=0.3, ema_decay=0.9999, ema_fp32=False, ema_seed_model=None, ema_start_update=0, ema_update_freq=1, empty_cache_freq=0, enable_lang_ids=False, enable_reservsed_directions_shared_datasets=False, encoder_attention_heads=8, encoder_embed_dim=512, encoder_embed_path=None, encoder_ffn_embed_dim=2048, encoder_langtok='src', encoder_layerdrop=0, encoder_layers=6, encoder_layers_to_keep=None, encoder_learned_pos=False, encoder_normalize_before=False, eos=2, extra_data=None, extra_lang_pairs=None, fast_stat_sync=False, find_unused_parameters=False, finetune_from_model=None, fix_batches_to_gpus=False, fixed_dictionary=None, fixed_validation_seed=None, fp16=True, fp16_adam_stats=False, fp16_init_scale=128, fp16_no_flatten_grads=False, fp16_scale_tolerance=0.0, fp16_scale_window=None, fp32_reduce_scatter=False, gen_subset='test', gradient_as_bucket_view=False, grouped_shuffling=False, heartbeat_timeout=-1, ignore_prefix_size=0, ignore_unused_valid_subsets=False, keep_best_checkpoints=-1, keep_inference_langtok=False, keep_interval_updates=-1, keep_interval_updates_pattern=-1, keep_last_epochs=2, label_smoothing=0.1, lang_dict=None, lang_pairs='nah-es,es-en', lang_tok_replacing_bos_eos=False, lang_tok_style='multilingual', langs=None, langtoks=None, langtoks_specs=['main'], layernorm_embedding=False, left_pad_source='True', left_pad_target='False', load_alignments=False, load_checkpoint_on_all_dp_ranks=False, localsgd_frequency=3, log_file=None, log_format=None, log_interval=100, lr=[0.0005], lr_scheduler='inverse_sqrt', max_epoch=200, max_tokens=4096, max_tokens_valid=4096, max_update=0, max_valid_steps=None, maximize_best_checkpoint_metric=False, memory_efficient_bf16=False, memory_efficient_fp16=False, min_loss_scale=0.0001, model_parallel_size=1, no_cross_attention=False, no_epoch_checkpoints=False, no_last_checkpoints=False, no_progress_bar=False, no_reshard_after_forward=False, no_save=False, no_save_optimizer_state=False, no_scale_embedding=False, no_seed_provided=False, no_token_positional_embeddings=False, not_fsdp_flatten_parameters=False, nprocs_per_node=1, num_shards=1, num_workers=1, offload_activations=False, on_cpu_convert_precision=False, optimizer='adam', optimizer_overrides='{}', pad=1, patience=10, pipeline_balance=None, pipeline_checkpoint='never', pipeline_chunks=0, pipeline_decoder_balance=None, pipeline_decoder_devices=None, pipeline_devices=None, pipeline_encoder_balance=None, pipeline_encoder_devices=None, pipeline_model_parallel=False, plasma_path='/tmp/plasma', profile=False, quant_noise_pq=0, quant_noise_pq_block_size=8, quant_noise_scalar=0, quantization_config_path=None, report_accuracy=False, required_batch_size_multiple=8, required_seq_len_multiple=1, reset_dataloader=False, reset_logging=False, reset_lr_scheduler=False, reset_meters=False, reset_optimizer=True, restore_file='/storage/master-thesis/models/capsnet__nah-es_es-en/checkpoint_last.pt', sampling_method='concat', sampling_temperature=1.5, sampling_weights=None, sampling_weights_from_file=None, save_dir='/storage/master-thesis/models/capsnet__nah-es_es-en/', save_interval=1, save_interval_updates=0, scoring='bleu', seed=1, sentence_avg=False, shard_id=0, share_all_embeddings=True, share_decoder_input_output_embed=False, skip_invalid_size_inputs_valid_test=False, skip_remainder_batch=False, slowmo_base_algorithm='localsgd', slowmo_momentum=None, source_dict=None, source_lang=None, stop_min_lr=-1.0, stop_time_hours=0, store_ema=False, suppress_crashes=False, target_dict=None, target_lang=None, task='translation_multi_simple_epoch', tensorboard_logdir=None, threshold_loss_scale=None, tie_adaptive_weights=False, tokenizer=None, tpu=False, train_subset='train', truncate_source=False, unk=3, update_epoch_batch_itr=False, update_freq=[1], update_ordered_indices_seed=False, upsample_primary=1, use_bmuf=False, use_old_adam=False, use_plasma_view=False, use_sharded_state=False, user_dir='/storage/code//fairseq-dynamic-routing-plugin/examples/dynamic_routing/dynamic_routing_src/', valid_subset='valid', validate_after_updates=0, validate_interval=1, validate_interval_updates=0, virtual_data_size=None, virtual_epoch_size=None, wandb_project=None, warmup_init_lr=-1, warmup_updates=4000, weight_decay=0.0001, write_checkpoints_asynchronously=False, zero_sharding='none'), 'task': Namespace(_name='translation_multi_simple_epoch', activation_dropout=0.0, activation_fn='relu', adam_betas='(0.9, 0.98)', adam_eps=1e-08, adaptive_input=False, adaptive_softmax_cutoff=None, adaptive_softmax_dropout=0, aim_repo=None, aim_run_hash=None, all_gather_list_size=16384, amp=False, amp_batch_retries=2, amp_init_scale=128, amp_scale_window=None, arch='capsnet_transformer', attention_dropout=0.0, azureml_logging=False, batch_size=None, batch_size_valid=None, best_checkpoint_metric='loss', bf16=False, bpe=None, broadcast_buffers=False, bucket_cap_mb=25, checkpoint_activations=False, checkpoint_shard_count=1, checkpoint_suffix='', clip_norm=0.0, combine_valid_subsets=None, continue_once=None, cpu=False, cpu_offload=False, criterion='label_smoothed_cross_entropy', cross_self_attention=False, curriculum=0, data='/storage/master-thesis/models/capsnet__nah-es_es-en/tokenizers/nah-es-en/bin', data_buffer_size=10, dataset_impl=None, ddp_backend='pytorch_ddp', ddp_comm_hook='none', decoder_attention_heads=8, decoder_embed_dim=512, decoder_embed_path=None, decoder_ffn_embed_dim=2048, decoder_input_dim=512, decoder_langtok=True, decoder_layerdrop=0, decoder_layers=6, decoder_layers_to_keep=None, decoder_learned_pos=False, decoder_normalize_before=False, decoder_output_dim=512, device_id=0, disable_validation=False, distributed_backend='nccl', distributed_init_method=None, distributed_no_spawn=False, distributed_num_procs=1, distributed_port=-1, distributed_rank=0, distributed_world_size=1, dropout=0.3, ema_decay=0.9999, ema_fp32=False, ema_seed_model=None, ema_start_update=0, ema_update_freq=1, empty_cache_freq=0, enable_lang_ids=False, enable_reservsed_directions_shared_datasets=False, encoder_attention_heads=8, encoder_embed_dim=512, encoder_embed_path=None, encoder_ffn_embed_dim=2048, encoder_langtok='src', encoder_layerdrop=0, encoder_layers=6, encoder_layers_to_keep=None, encoder_learned_pos=False, encoder_normalize_before=False, eos=2, extra_data=None, extra_lang_pairs=None, fast_stat_sync=False, find_unused_parameters=False, finetune_from_model=None, fix_batches_to_gpus=False, fixed_dictionary=None, fixed_validation_seed=None, fp16=True, fp16_adam_stats=False, fp16_init_scale=128, fp16_no_flatten_grads=False, fp16_scale_tolerance=0.0, fp16_scale_window=None, fp32_reduce_scatter=False, gen_subset='test', gradient_as_bucket_view=False, grouped_shuffling=False, heartbeat_timeout=-1, ignore_prefix_size=0, ignore_unused_valid_subsets=False, keep_best_checkpoints=-1, keep_inference_langtok=False, keep_interval_updates=-1, keep_interval_updates_pattern=-1, keep_last_epochs=2, label_smoothing=0.1, lang_dict=None, lang_pairs='nah-es,es-en', lang_tok_replacing_bos_eos=False, lang_tok_style='multilingual', langs=None, langtoks=None, langtoks_specs=['main'], layernorm_embedding=False, left_pad_source='True', left_pad_target='False', load_alignments=False, load_checkpoint_on_all_dp_ranks=False, localsgd_frequency=3, log_file=None, log_format=None, log_interval=100, lr=[0.0005], lr_scheduler='inverse_sqrt', max_epoch=200, max_source_positions=1024, max_target_positions=1024, max_tokens=4096, max_tokens_valid=4096, max_update=0, max_valid_steps=None, maximize_best_checkpoint_metric=False, memory_efficient_bf16=False, memory_efficient_fp16=False, min_loss_scale=0.0001, model_parallel_size=1, no_cross_attention=False, no_epoch_checkpoints=False, no_last_checkpoints=False, no_progress_bar=False, no_reshard_after_forward=False, no_save=False, no_save_optimizer_state=False, no_scale_embedding=False, no_seed_provided=False, no_token_positional_embeddings=False, not_fsdp_flatten_parameters=False, nprocs_per_node=1, num_shards=1, num_workers=1, offload_activations=False, on_cpu_convert_precision=False, optimizer='adam', optimizer_overrides='{}', pad=1, patience=10, pipeline_balance=None, pipeline_checkpoint='never', pipeline_chunks=0, pipeline_decoder_balance=None, pipeline_decoder_devices=None, pipeline_devices=None, pipeline_encoder_balance=None, pipeline_encoder_devices=None, pipeline_model_parallel=False, plasma_path='/tmp/plasma', profile=False, quant_noise_pq=0, quant_noise_pq_block_size=8, quant_noise_scalar=0, quantization_config_path=None, report_accuracy=False, required_batch_size_multiple=8, required_seq_len_multiple=1, reset_dataloader=False, reset_logging=False, reset_lr_scheduler=False, reset_meters=False, reset_optimizer=True, restore_file='/storage/master-thesis/models/capsnet__nah-es_es-en/checkpoint_last.pt', sampling_method='concat', sampling_temperature=1.5, sampling_weights=None, sampling_weights_from_file=None, save_dir='/storage/master-thesis/models/capsnet__nah-es_es-en/', save_interval=1, save_interval_updates=0, scoring='bleu', seed=1, sentence_avg=False, shard_id=0, share_all_embeddings=True, share_decoder_input_output_embed=False, skip_invalid_size_inputs_valid_test=False, skip_remainder_batch=False, slowmo_base_algorithm='localsgd', slowmo_momentum=None, source_dict=None, source_lang=None, stop_min_lr=-1.0, stop_time_hours=0, store_ema=False, suppress_crashes=False, target_dict=None, target_lang=None, task='translation_multi_simple_epoch', tensorboard_logdir=None, threshold_loss_scale=None, tie_adaptive_weights=False, tokenizer=None, tpu=False, train_subset='train', truncate_source=False, unk=3, update_epoch_batch_itr=False, update_freq=[1], update_ordered_indices_seed=False, upsample_primary=1, use_bmuf=False, use_old_adam=False, use_plasma_view=False, use_sharded_state=False, user_dir='/storage/code//fairseq-dynamic-routing-plugin/examples/dynamic_routing/dynamic_routing_src/', valid_subset='valid', validate_after_updates=0, validate_interval=1, validate_interval_updates=0, virtual_data_size=None, virtual_epoch_size=None, wandb_project=None, warmup_init_lr=-1, warmup_updates=4000, weight_decay=0.0001, write_checkpoints_asynchronously=False, zero_sharding='none'), 'criterion': {'_name': 'label_smoothed_cross_entropy', 'label_smoothing': 0.1, 'report_accuracy': False, 'ignore_prefix_size': 0, 'sentence_avg': False}, 'optimizer': {'_name': 'adam', 'adam_betas': '(0.9, 0.98)', 'adam_eps': 1e-08, 'weight_decay': 0.0001, 'use_old_adam': False, 'fp16_adam_stats': False, 'tpu': False, 'lr': [0.0005]}, 'lr_scheduler': {'_name': 'inverse_sqrt', 'warmup_updates': 4000, 'warmup_init_lr': -1.0, 'lr': [0.0005]}, 'scoring': {'_name': 'bleu', 'pad': 1, 'eos': 2, 'unk': 3}, 'bpe': None, 'tokenizer': None, 'ema': {'_name': None, 'store_ema': False, 'ema_decay': 0.9999, 'ema_start_update': 0, 'ema_seed_model': None, 'ema_update_freq': 1, 'ema_fp32': False}}\n",
      "2022-10-29 21:47:53 | WARNING | fairseq.data.multilingual.multilingual_data_manager | External language dictionary is not provided; use lang-pairs to infer the set of supported languages. The language ordering is not stable which might cause misalignment in pretraining and finetuning.\n",
      "2022-10-29 21:47:53 | INFO | fairseq.data.multilingual.multilingual_data_manager | inferred language list: ['en', 'es', 'nah']\n",
      "2022-10-29 21:47:53 | INFO | fairseq.data.multilingual.multilingual_data_manager | [nah] dictionary: 28915 types\n",
      "2022-10-29 21:47:53 | INFO | fairseq.data.multilingual.multilingual_data_manager | [es] dictionary: 28915 types\n",
      "INITIALIZED!!!!!!\n",
      "2022-10-29 21:47:54 | INFO | fairseq_cli.train | CapsNetTransformerModel(\n",
      "  (encoder): CapsNetTransformerEncoder(\n",
      "    (dropout_module): FairseqDropout()\n",
      "    (embed_tokens): Embedding(28915, 512, padding_idx=1)\n",
      "    (embed_positions): SinusoidalPositionalEmbedding()\n",
      "    (layers): ModuleList(\n",
      "      (0): CapsNetTransformerEncoderLayer(\n",
      "        (self_attn): MultiheadAttention(\n",
      "          (dropout_module): FairseqDropout()\n",
      "          (k_proj): Linear(in_features=512, out_features=512, bias=True)\n",
      "          (v_proj): Linear(in_features=512, out_features=512, bias=True)\n",
      "          (q_proj): Linear(in_features=512, out_features=512, bias=True)\n",
      "          (out_proj): Linear(in_features=512, out_features=512, bias=True)\n",
      "        )\n",
      "        (self_attn_layer_norm): LayerNorm((512,), eps=1e-05, elementwise_affine=True)\n",
      "        (dropout_module): FairseqDropout()\n",
      "        (activation_dropout_module): FairseqDropout()\n",
      "        (fc1): Linear(in_features=512, out_features=2048, bias=True)\n",
      "        (fc2): Linear(in_features=2048, out_features=512, bias=True)\n",
      "        (final_layer_norm): LayerNorm((512,), eps=1e-05, elementwise_affine=True)\n",
      "        (self_attn_layer): ModifiedMultiheadAttention(\n",
      "          (dropout_module): FairseqDropout()\n",
      "          (k_proj): Linear(in_features=512, out_features=512, bias=True)\n",
      "          (v_proj): Linear(in_features=512, out_features=512, bias=True)\n",
      "          (q_proj): Linear(in_features=512, out_features=512, bias=True)\n",
      "          (out_proj): Linear(in_features=512, out_features=512, bias=True)\n",
      "        )\n",
      "      )\n",
      "      (1): TransformerEncoderLayerBase(\n",
      "        (self_attn): MultiheadAttention(\n",
      "          (dropout_module): FairseqDropout()\n",
      "          (k_proj): Linear(in_features=512, out_features=512, bias=True)\n",
      "          (v_proj): Linear(in_features=512, out_features=512, bias=True)\n",
      "          (q_proj): Linear(in_features=512, out_features=512, bias=True)\n",
      "          (out_proj): Linear(in_features=512, out_features=512, bias=True)\n",
      "        )\n",
      "        (self_attn_layer_norm): LayerNorm((512,), eps=1e-05, elementwise_affine=True)\n",
      "        (dropout_module): FairseqDropout()\n",
      "        (activation_dropout_module): FairseqDropout()\n",
      "        (fc1): Linear(in_features=512, out_features=2048, bias=True)\n",
      "        (fc2): Linear(in_features=2048, out_features=512, bias=True)\n",
      "        (final_layer_norm): LayerNorm((512,), eps=1e-05, elementwise_affine=True)\n",
      "      )\n",
      "      (2): TransformerEncoderLayerBase(\n",
      "        (self_attn): MultiheadAttention(\n",
      "          (dropout_module): FairseqDropout()\n",
      "          (k_proj): Linear(in_features=512, out_features=512, bias=True)\n",
      "          (v_proj): Linear(in_features=512, out_features=512, bias=True)\n",
      "          (q_proj): Linear(in_features=512, out_features=512, bias=True)\n",
      "          (out_proj): Linear(in_features=512, out_features=512, bias=True)\n",
      "        )\n",
      "        (self_attn_layer_norm): LayerNorm((512,), eps=1e-05, elementwise_affine=True)\n",
      "        (dropout_module): FairseqDropout()\n",
      "        (activation_dropout_module): FairseqDropout()\n",
      "        (fc1): Linear(in_features=512, out_features=2048, bias=True)\n",
      "        (fc2): Linear(in_features=2048, out_features=512, bias=True)\n",
      "        (final_layer_norm): LayerNorm((512,), eps=1e-05, elementwise_affine=True)\n",
      "      )\n",
      "      (3): TransformerEncoderLayerBase(\n",
      "        (self_attn): MultiheadAttention(\n",
      "          (dropout_module): FairseqDropout()\n",
      "          (k_proj): Linear(in_features=512, out_features=512, bias=True)\n",
      "          (v_proj): Linear(in_features=512, out_features=512, bias=True)\n",
      "          (q_proj): Linear(in_features=512, out_features=512, bias=True)\n",
      "          (out_proj): Linear(in_features=512, out_features=512, bias=True)\n",
      "        )\n",
      "        (self_attn_layer_norm): LayerNorm((512,), eps=1e-05, elementwise_affine=True)\n",
      "        (dropout_module): FairseqDropout()\n",
      "        (activation_dropout_module): FairseqDropout()\n",
      "        (fc1): Linear(in_features=512, out_features=2048, bias=True)\n",
      "        (fc2): Linear(in_features=2048, out_features=512, bias=True)\n",
      "        (final_layer_norm): LayerNorm((512,), eps=1e-05, elementwise_affine=True)\n",
      "      )\n",
      "      (4): TransformerEncoderLayerBase(\n",
      "        (self_attn): MultiheadAttention(\n",
      "          (dropout_module): FairseqDropout()\n",
      "          (k_proj): Linear(in_features=512, out_features=512, bias=True)\n",
      "          (v_proj): Linear(in_features=512, out_features=512, bias=True)\n",
      "          (q_proj): Linear(in_features=512, out_features=512, bias=True)\n",
      "          (out_proj): Linear(in_features=512, out_features=512, bias=True)\n",
      "        )\n",
      "        (self_attn_layer_norm): LayerNorm((512,), eps=1e-05, elementwise_affine=True)\n",
      "        (dropout_module): FairseqDropout()\n",
      "        (activation_dropout_module): FairseqDropout()\n",
      "        (fc1): Linear(in_features=512, out_features=2048, bias=True)\n",
      "        (fc2): Linear(in_features=2048, out_features=512, bias=True)\n",
      "        (final_layer_norm): LayerNorm((512,), eps=1e-05, elementwise_affine=True)\n",
      "      )\n",
      "      (5): TransformerEncoderLayerBase(\n",
      "        (self_attn): MultiheadAttention(\n",
      "          (dropout_module): FairseqDropout()\n",
      "          (k_proj): Linear(in_features=512, out_features=512, bias=True)\n",
      "          (v_proj): Linear(in_features=512, out_features=512, bias=True)\n",
      "          (q_proj): Linear(in_features=512, out_features=512, bias=True)\n",
      "          (out_proj): Linear(in_features=512, out_features=512, bias=True)\n",
      "        )\n",
      "        (self_attn_layer_norm): LayerNorm((512,), eps=1e-05, elementwise_affine=True)\n",
      "        (dropout_module): FairseqDropout()\n",
      "        (activation_dropout_module): FairseqDropout()\n",
      "        (fc1): Linear(in_features=512, out_features=2048, bias=True)\n",
      "        (fc2): Linear(in_features=2048, out_features=512, bias=True)\n",
      "        (final_layer_norm): LayerNorm((512,), eps=1e-05, elementwise_affine=True)\n",
      "      )\n",
      "    )\n",
      "  )\n",
      "  (decoder): TransformerDecoderBase(\n",
      "    (dropout_module): FairseqDropout()\n",
      "    (embed_tokens): Embedding(28915, 512, padding_idx=1)\n",
      "    (embed_positions): SinusoidalPositionalEmbedding()\n",
      "    (layers): ModuleList(\n",
      "      (0): TransformerDecoderLayerBase(\n",
      "        (dropout_module): FairseqDropout()\n",
      "        (self_attn): MultiheadAttention(\n",
      "          (dropout_module): FairseqDropout()\n",
      "          (k_proj): Linear(in_features=512, out_features=512, bias=True)\n",
      "          (v_proj): Linear(in_features=512, out_features=512, bias=True)\n",
      "          (q_proj): Linear(in_features=512, out_features=512, bias=True)\n",
      "          (out_proj): Linear(in_features=512, out_features=512, bias=True)\n",
      "        )\n",
      "        (activation_dropout_module): FairseqDropout()\n",
      "        (self_attn_layer_norm): LayerNorm((512,), eps=1e-05, elementwise_affine=True)\n",
      "        (encoder_attn): MultiheadAttention(\n",
      "          (dropout_module): FairseqDropout()\n",
      "          (k_proj): Linear(in_features=512, out_features=512, bias=True)\n",
      "          (v_proj): Linear(in_features=512, out_features=512, bias=True)\n",
      "          (q_proj): Linear(in_features=512, out_features=512, bias=True)\n",
      "          (out_proj): Linear(in_features=512, out_features=512, bias=True)\n",
      "        )\n",
      "        (encoder_attn_layer_norm): LayerNorm((512,), eps=1e-05, elementwise_affine=True)\n",
      "        (fc1): Linear(in_features=512, out_features=2048, bias=True)\n",
      "        (fc2): Linear(in_features=2048, out_features=512, bias=True)\n",
      "        (final_layer_norm): LayerNorm((512,), eps=1e-05, elementwise_affine=True)\n",
      "      )\n",
      "      (1): TransformerDecoderLayerBase(\n",
      "        (dropout_module): FairseqDropout()\n",
      "        (self_attn): MultiheadAttention(\n",
      "          (dropout_module): FairseqDropout()\n",
      "          (k_proj): Linear(in_features=512, out_features=512, bias=True)\n",
      "          (v_proj): Linear(in_features=512, out_features=512, bias=True)\n",
      "          (q_proj): Linear(in_features=512, out_features=512, bias=True)\n",
      "          (out_proj): Linear(in_features=512, out_features=512, bias=True)\n",
      "        )\n",
      "        (activation_dropout_module): FairseqDropout()\n",
      "        (self_attn_layer_norm): LayerNorm((512,), eps=1e-05, elementwise_affine=True)\n",
      "        (encoder_attn): MultiheadAttention(\n",
      "          (dropout_module): FairseqDropout()\n",
      "          (k_proj): Linear(in_features=512, out_features=512, bias=True)\n",
      "          (v_proj): Linear(in_features=512, out_features=512, bias=True)\n",
      "          (q_proj): Linear(in_features=512, out_features=512, bias=True)\n",
      "          (out_proj): Linear(in_features=512, out_features=512, bias=True)\n",
      "        )\n",
      "        (encoder_attn_layer_norm): LayerNorm((512,), eps=1e-05, elementwise_affine=True)\n",
      "        (fc1): Linear(in_features=512, out_features=2048, bias=True)\n",
      "        (fc2): Linear(in_features=2048, out_features=512, bias=True)\n",
      "        (final_layer_norm): LayerNorm((512,), eps=1e-05, elementwise_affine=True)\n",
      "      )\n",
      "      (2): TransformerDecoderLayerBase(\n",
      "        (dropout_module): FairseqDropout()\n",
      "        (self_attn): MultiheadAttention(\n",
      "          (dropout_module): FairseqDropout()\n",
      "          (k_proj): Linear(in_features=512, out_features=512, bias=True)\n",
      "          (v_proj): Linear(in_features=512, out_features=512, bias=True)\n",
      "          (q_proj): Linear(in_features=512, out_features=512, bias=True)\n",
      "          (out_proj): Linear(in_features=512, out_features=512, bias=True)\n",
      "        )\n",
      "        (activation_dropout_module): FairseqDropout()\n",
      "        (self_attn_layer_norm): LayerNorm((512,), eps=1e-05, elementwise_affine=True)\n",
      "        (encoder_attn): MultiheadAttention(\n",
      "          (dropout_module): FairseqDropout()\n",
      "          (k_proj): Linear(in_features=512, out_features=512, bias=True)\n",
      "          (v_proj): Linear(in_features=512, out_features=512, bias=True)\n",
      "          (q_proj): Linear(in_features=512, out_features=512, bias=True)\n",
      "          (out_proj): Linear(in_features=512, out_features=512, bias=True)\n",
      "        )\n",
      "        (encoder_attn_layer_norm): LayerNorm((512,), eps=1e-05, elementwise_affine=True)\n",
      "        (fc1): Linear(in_features=512, out_features=2048, bias=True)\n",
      "        (fc2): Linear(in_features=2048, out_features=512, bias=True)\n",
      "        (final_layer_norm): LayerNorm((512,), eps=1e-05, elementwise_affine=True)\n",
      "      )\n",
      "      (3): TransformerDecoderLayerBase(\n",
      "        (dropout_module): FairseqDropout()\n",
      "        (self_attn): MultiheadAttention(\n",
      "          (dropout_module): FairseqDropout()\n",
      "          (k_proj): Linear(in_features=512, out_features=512, bias=True)\n",
      "          (v_proj): Linear(in_features=512, out_features=512, bias=True)\n",
      "          (q_proj): Linear(in_features=512, out_features=512, bias=True)\n",
      "          (out_proj): Linear(in_features=512, out_features=512, bias=True)\n",
      "        )\n",
      "        (activation_dropout_module): FairseqDropout()\n",
      "        (self_attn_layer_norm): LayerNorm((512,), eps=1e-05, elementwise_affine=True)\n",
      "        (encoder_attn): MultiheadAttention(\n",
      "          (dropout_module): FairseqDropout()\n",
      "          (k_proj): Linear(in_features=512, out_features=512, bias=True)\n",
      "          (v_proj): Linear(in_features=512, out_features=512, bias=True)\n",
      "          (q_proj): Linear(in_features=512, out_features=512, bias=True)\n",
      "          (out_proj): Linear(in_features=512, out_features=512, bias=True)\n",
      "        )\n",
      "        (encoder_attn_layer_norm): LayerNorm((512,), eps=1e-05, elementwise_affine=True)\n",
      "        (fc1): Linear(in_features=512, out_features=2048, bias=True)\n",
      "        (fc2): Linear(in_features=2048, out_features=512, bias=True)\n",
      "        (final_layer_norm): LayerNorm((512,), eps=1e-05, elementwise_affine=True)\n",
      "      )\n",
      "      (4): TransformerDecoderLayerBase(\n",
      "        (dropout_module): FairseqDropout()\n",
      "        (self_attn): MultiheadAttention(\n",
      "          (dropout_module): FairseqDropout()\n",
      "          (k_proj): Linear(in_features=512, out_features=512, bias=True)\n",
      "          (v_proj): Linear(in_features=512, out_features=512, bias=True)\n",
      "          (q_proj): Linear(in_features=512, out_features=512, bias=True)\n",
      "          (out_proj): Linear(in_features=512, out_features=512, bias=True)\n",
      "        )\n",
      "        (activation_dropout_module): FairseqDropout()\n",
      "        (self_attn_layer_norm): LayerNorm((512,), eps=1e-05, elementwise_affine=True)\n",
      "        (encoder_attn): MultiheadAttention(\n",
      "          (dropout_module): FairseqDropout()\n",
      "          (k_proj): Linear(in_features=512, out_features=512, bias=True)\n",
      "          (v_proj): Linear(in_features=512, out_features=512, bias=True)\n",
      "          (q_proj): Linear(in_features=512, out_features=512, bias=True)\n",
      "          (out_proj): Linear(in_features=512, out_features=512, bias=True)\n",
      "        )\n",
      "        (encoder_attn_layer_norm): LayerNorm((512,), eps=1e-05, elementwise_affine=True)\n",
      "        (fc1): Linear(in_features=512, out_features=2048, bias=True)\n",
      "        (fc2): Linear(in_features=2048, out_features=512, bias=True)\n",
      "        (final_layer_norm): LayerNorm((512,), eps=1e-05, elementwise_affine=True)\n",
      "      )\n",
      "      (5): TransformerDecoderLayerBase(\n",
      "        (dropout_module): FairseqDropout()\n",
      "        (self_attn): MultiheadAttention(\n",
      "          (dropout_module): FairseqDropout()\n",
      "          (k_proj): Linear(in_features=512, out_features=512, bias=True)\n",
      "          (v_proj): Linear(in_features=512, out_features=512, bias=True)\n",
      "          (q_proj): Linear(in_features=512, out_features=512, bias=True)\n",
      "          (out_proj): Linear(in_features=512, out_features=512, bias=True)\n",
      "        )\n",
      "        (activation_dropout_module): FairseqDropout()\n",
      "        (self_attn_layer_norm): LayerNorm((512,), eps=1e-05, elementwise_affine=True)\n",
      "        (encoder_attn): MultiheadAttention(\n",
      "          (dropout_module): FairseqDropout()\n",
      "          (k_proj): Linear(in_features=512, out_features=512, bias=True)\n",
      "          (v_proj): Linear(in_features=512, out_features=512, bias=True)\n",
      "          (q_proj): Linear(in_features=512, out_features=512, bias=True)\n",
      "          (out_proj): Linear(in_features=512, out_features=512, bias=True)\n",
      "        )\n",
      "        (encoder_attn_layer_norm): LayerNorm((512,), eps=1e-05, elementwise_affine=True)\n",
      "        (fc1): Linear(in_features=512, out_features=2048, bias=True)\n",
      "        (fc2): Linear(in_features=2048, out_features=512, bias=True)\n",
      "        (final_layer_norm): LayerNorm((512,), eps=1e-05, elementwise_affine=True)\n",
      "      )\n",
      "    )\n",
      "    (output_projection): Linear(in_features=512, out_features=28915, bias=False)\n",
      "  )\n",
      ")\n",
      "2022-10-29 21:47:54 | INFO | fairseq_cli.train | task: TranslationMultiSimpleEpochTask\n",
      "2022-10-29 21:47:54 | INFO | fairseq_cli.train | model: CapsNetTransformerModel\n",
      "2022-10-29 21:47:54 | INFO | fairseq_cli.train | criterion: LabelSmoothedCrossEntropyCriterion\n",
      "2022-10-29 21:47:54 | INFO | fairseq_cli.train | num. shared model params: 79,157,760 (num. trained: 79,157,760)\n",
      "2022-10-29 21:47:54 | INFO | fairseq_cli.train | num. expert model params: 0 (num. trained: 0)\n",
      "2022-10-29 21:47:54 | INFO | fairseq.tasks.translation_multi_simple_epoch | loading data for valid epoch=1/None\n",
      "2022-10-29 21:47:54 | INFO | fairseq.tasks.translation_multi_simple_epoch | mem usage: N/A\n",
      "2022-10-29 21:47:54 | INFO | fairseq.data.multilingual.multilingual_data_manager | langtoks settings: {'main': ('src', 'tgt')}\n",
      "2022-10-29 21:47:54 | INFO | fairseq.data.multilingual.multilingual_data_manager | [valid] num of shards: {'main:nah-es': 1, 'main:es-en': 1}\n",
      "2022-10-29 21:47:54 | INFO | fairseq.data.multilingual.multilingual_data_manager | main:nah-es src_langtok: 28914; tgt_langtok: 28913\n",
      "2022-10-29 21:47:54 | INFO | fairseq.data.data_utils | loaded 671 examples from: /storage/master-thesis/models/capsnet__nah-es_es-en/tokenizers/nah-es-en/bin/valid.nah-es.nah\n",
      "2022-10-29 21:47:54 | INFO | fairseq.data.data_utils | loaded 671 examples from: /storage/master-thesis/models/capsnet__nah-es_es-en/tokenizers/nah-es-en/bin/valid.nah-es.es\n",
      "2022-10-29 21:47:54 | INFO | fairseq.data.multilingual.multilingual_data_manager | /storage/master-thesis/models/capsnet__nah-es_es-en/tokenizers/nah-es-en/bin valid nah-es 671 examples\n",
      "2022-10-29 21:47:54 | INFO | fairseq.data.multilingual.multilingual_data_manager | main:es-en src_langtok: 28913; tgt_langtok: 28912\n",
      "2022-10-29 21:47:54 | INFO | fairseq.data.data_utils | loaded 4,643 examples from: /storage/master-thesis/models/capsnet__nah-es_es-en/tokenizers/nah-es-en/bin/valid.es-en.es\n",
      "2022-10-29 21:47:54 | INFO | fairseq.data.data_utils | loaded 4,643 examples from: /storage/master-thesis/models/capsnet__nah-es_es-en/tokenizers/nah-es-en/bin/valid.es-en.en\n",
      "2022-10-29 21:47:54 | INFO | fairseq.data.multilingual.multilingual_data_manager | /storage/master-thesis/models/capsnet__nah-es_es-en/tokenizers/nah-es-en/bin valid es-en 4643 examples\n",
      "2022-10-29 21:47:59 | INFO | fairseq.trainer | detected shared parameter: encoder.embed_tokens.weight <- decoder.embed_tokens.weight\n",
      "2022-10-29 21:47:59 | INFO | fairseq.trainer | detected shared parameter: encoder.embed_tokens.weight <- decoder.output_projection.weight\n",
      "2022-10-29 21:47:59 | INFO | fairseq.trainer | detected shared parameter: encoder.layers.0.dynamic_routing_weights <- encoder.layers.0.self_attn_layer.dynamic_routing_weights\n",
      "2022-10-29 21:47:59 | INFO | fairseq.utils | ***********************CUDA enviroments for all 1 workers***********************\n",
      "2022-10-29 21:47:59 | INFO | fairseq.utils | rank   0: capabilities =  8.6  ; total memory = 15.740 GB ; name = NVIDIA RTX A4000                        \n",
      "2022-10-29 21:47:59 | INFO | fairseq.utils | ***********************CUDA enviroments for all 1 workers***********************\n",
      "2022-10-29 21:47:59 | INFO | fairseq_cli.train | training on 1 devices (GPUs/TPUs)\n",
      "2022-10-29 21:47:59 | INFO | fairseq_cli.train | max tokens per device = 4096 and max sentences per device = None\n",
      "2022-10-29 21:47:59 | INFO | fairseq.trainer | Preparing to load checkpoint /storage/master-thesis/models/capsnet__nah-es_es-en/checkpoint_last.pt\n",
      "2022-10-29 21:47:59 | INFO | fairseq.trainer | Loaded checkpoint /storage/master-thesis/models/capsnet__nah-es_es-en/checkpoint_last.pt (epoch 28 @ 0 updates)\n",
      "2022-10-29 21:47:59 | INFO | fairseq.trainer | loading train data for epoch 28\n",
      "2022-10-29 21:47:59 | INFO | fairseq.tasks.translation_multi_simple_epoch | loading data for train epoch=28/None\n",
      "2022-10-29 21:47:59 | INFO | fairseq.tasks.translation_multi_simple_epoch | mem usage: N/A\n",
      "2022-10-29 21:47:59 | INFO | fairseq.data.multilingual.multilingual_data_manager | langtoks settings: {'main': ('src', 'tgt')}\n",
      "2022-10-29 21:47:59 | INFO | fairseq.data.multilingual.multilingual_data_manager | [train] num of shards: {'main:nah-es': 1, 'main:es-en': 1}\n",
      "2022-10-29 21:47:59 | INFO | fairseq.data.multilingual.multilingual_data_manager | main:nah-es src_langtok: 28914; tgt_langtok: 28913\n",
      "2022-10-29 21:47:59 | INFO | fairseq.data.data_utils | loaded 16,145 examples from: /storage/master-thesis/models/capsnet__nah-es_es-en/tokenizers/nah-es-en/bin/train.nah-es.nah\n",
      "2022-10-29 21:47:59 | INFO | fairseq.data.data_utils | loaded 16,145 examples from: /storage/master-thesis/models/capsnet__nah-es_es-en/tokenizers/nah-es-en/bin/train.nah-es.es\n",
      "2022-10-29 21:47:59 | INFO | fairseq.data.multilingual.multilingual_data_manager | /storage/master-thesis/models/capsnet__nah-es_es-en/tokenizers/nah-es-en/bin train nah-es 16145 examples\n",
      "2022-10-29 21:47:59 | INFO | fairseq.data.multilingual.multilingual_data_manager | main:es-en src_langtok: 28913; tgt_langtok: 28912\n",
      "2022-10-29 21:47:59 | INFO | fairseq.data.data_utils | loaded 197,297 examples from: /storage/master-thesis/models/capsnet__nah-es_es-en/tokenizers/nah-es-en/bin/train.es-en.es\n",
      "2022-10-29 21:47:59 | INFO | fairseq.data.data_utils | loaded 197,297 examples from: /storage/master-thesis/models/capsnet__nah-es_es-en/tokenizers/nah-es-en/bin/train.es-en.en\n",
      "2022-10-29 21:47:59 | INFO | fairseq.data.multilingual.multilingual_data_manager | /storage/master-thesis/models/capsnet__nah-es_es-en/tokenizers/nah-es-en/bin train es-en 197297 examples\n",
      "2022-10-29 21:47:59 | INFO | fairseq.data.multilingual.multilingual_data_manager | estimated total data sizes of all shards used in sampling ratios: [('main:nah-es', 16145), ('main:es-en', 197297)]. Note that if the data a shard has not been loaded yet, use the max known data size to approximate\n",
      "2022-10-29 21:47:59 | INFO | fairseq.data.multilingual.sampling_method | selected sampler: concat\n",
      "2022-10-29 21:47:59 | INFO | fairseq.data.multilingual.sampled_multi_dataset | [train] Raw sizes: {'main:nah-es': 16145, 'main:es-en': 197297}; raw total size: 213442\n",
      "2022-10-29 21:47:59 | INFO | fairseq.data.multilingual.sampled_multi_dataset | [train] Resampled sizes: {'main:nah-es': 16145, 'main:es-en': 197297}; resampled total size: 213442\n",
      "2022-10-29 21:47:59 | INFO | fairseq.data.multilingual.sampled_multi_dataset | [train] A concat dataset\n",
      "2022-10-29 21:47:59 | INFO | fairseq.data.multilingual.sampled_multi_dataset | [train] virtual dataset established time: 0:00:00.015459\n",
      "2022-10-29 21:47:59 | INFO | fairseq.tasks.translation_multi_simple_epoch | start batch sampler: mem usage: N/A\n",
      "2022-10-29 21:47:59 | INFO | fairseq.data.multilingual.sampled_multi_dataset | sizes() calling time: 0:00:00.002329\n",
      "2022-10-29 21:48:00 | INFO | fairseq.tasks.translation_multi_simple_epoch | [train] @batch_sampler order indices time: 0:00:00.045983\n",
      "2022-10-29 21:48:00 | INFO | fairseq.tasks.translation_multi_simple_epoch | mem usage: N/A\n",
      "2022-10-29 21:48:00 | WARNING | fairseq.tasks.fairseq_task | 16 samples have invalid sizes and will be skipped, max_positions=(1024, 1024), first few sample ids=[3456, 779, 2750, 3774, 9221, 879, 5531, 6082, 9703, 4441]\n",
      "2022-10-29 21:48:00 | INFO | fairseq.tasks.translation_multi_simple_epoch | [train] @batch_sampler filter_by_size time: 0:00:00.002767\n",
      "2022-10-29 21:48:00 | INFO | fairseq.tasks.translation_multi_simple_epoch | mem usage: N/A\n",
      "2022-10-29 21:48:00 | INFO | fairseq.tasks.translation_multi_simple_epoch | [train] @batch_sampler batch_by_size time: 0:00:00.005648\n",
      "2022-10-29 21:48:00 | INFO | fairseq.tasks.translation_multi_simple_epoch | [train] per epoch batch_sampler set-up time: 0:00:00.055150\n",
      "2022-10-29 21:48:00 | INFO | fairseq.tasks.translation_multi_simple_epoch | mem usage: N/A\n",
      "2022-10-29 21:48:00 | INFO | fairseq.data.iterators | grouped total_num_itrs = 779\n",
      "epoch 028:   0%|                                        | 0/779 [00:00<?, ?it/s]2022-10-29 21:48:00 | INFO | fairseq.trainer | begin training epoch 28\n",
      "2022-10-29 21:48:00 | INFO | fairseq_cli.train | Start iterating over samples\n",
      "epoch 028:  38%|3| 297/779 [00:51<01:25,  5.62it/s, loss=2.919, nll_loss=1.108, 2022-10-29 21:48:52 | INFO | fairseq.trainer | NOTE: gradient overflow detected, ignoring gradient, setting loss scale to: 64.0\n",
      "epoch 028: 100%|9| 778/779 [02:15<00:00,  6.18it/s, loss=2.822, nll_loss=1.006, 2022-10-29 21:50:15 | INFO | fairseq_cli.train | begin validation on \"valid\" subset\n",
      "2022-10-29 21:50:15 | INFO | fairseq.tasks.translation_multi_simple_epoch | start batch sampler: mem usage: N/A\n",
      "2022-10-29 21:50:15 | INFO | fairseq.tasks.translation_multi_simple_epoch | [valid] @batch_sampler order indices time: 0:00:00.001500\n",
      "2022-10-29 21:50:15 | INFO | fairseq.tasks.translation_multi_simple_epoch | mem usage: N/A\n",
      "2022-10-29 21:50:15 | INFO | fairseq.tasks.translation_multi_simple_epoch | [valid] @batch_sampler filter_by_size time: 0:00:00.041717\n",
      "2022-10-29 21:50:15 | INFO | fairseq.tasks.translation_multi_simple_epoch | mem usage: N/A\n",
      "2022-10-29 21:50:15 | INFO | fairseq.tasks.translation_multi_simple_epoch | [valid] @batch_sampler batch_by_size time: 0:00:00.031688\n",
      "2022-10-29 21:50:15 | INFO | fairseq.tasks.translation_multi_simple_epoch | [valid] per epoch batch_sampler set-up time: 0:00:00.075581\n",
      "2022-10-29 21:50:15 | INFO | fairseq.tasks.translation_multi_simple_epoch | mem usage: N/A\n",
      "\n",
      "epoch 028 | valid on 'valid' subset:   0%|               | 0/26 [00:00<?, ?it/s]\u001b[A\n",
      "epoch 028 | valid on 'valid' subset:   4%|2      | 1/26 [00:00<00:02,  9.36it/s]\u001b[A\n",
      "epoch 028 | valid on 'valid' subset:  12%|8      | 3/26 [00:00<00:02, 10.51it/s]\u001b[A\n",
      "epoch 028 | valid on 'valid' subset:  19%|#3     | 5/26 [00:00<00:01, 11.43it/s]\u001b[A\n",
      "epoch 028 | valid on 'valid' subset:  27%|#8     | 7/26 [00:00<00:01, 12.15it/s]\u001b[A\n",
      "epoch 028 | valid on 'valid' subset:  35%|##4    | 9/26 [00:00<00:01, 12.71it/s]\u001b[A\n",
      "epoch 028 | valid on 'valid' subset:  42%|##5   | 11/26 [00:00<00:01, 13.18it/s]\u001b[A\n",
      "epoch 028 | valid on 'valid' subset:  50%|###   | 13/26 [00:00<00:00, 13.30it/s]\u001b[A\n",
      "epoch 028 | valid on 'valid' subset:  58%|###4  | 15/26 [00:01<00:00, 13.41it/s]\u001b[A\n",
      "epoch 028 | valid on 'valid' subset:  65%|###9  | 17/26 [00:01<00:00, 13.60it/s]\u001b[A\n",
      "epoch 028 | valid on 'valid' subset:  73%|####3 | 19/26 [00:01<00:00, 13.67it/s]\u001b[A\n",
      "epoch 028 | valid on 'valid' subset:  81%|####8 | 21/26 [00:01<00:00, 13.66it/s]\u001b[A\n",
      "epoch 028 | valid on 'valid' subset:  88%|#####3| 23/26 [00:01<00:00, 13.68it/s]\u001b[A\n",
      "epoch 028 | valid on 'valid' subset:  96%|#####7| 25/26 [00:01<00:00, 14.24it/s]\u001b[A\n",
      "                                                                                \u001b[A2022-10-29 21:50:17 | INFO | valid | epoch 028 | valid on 'valid' subset | loss 4.414 | nll_loss 2.696 | ppl 6.48 | wps 36654 | wpb 2584 | bsz 204.4 | num_updates 778\n",
      "2022-10-29 21:50:17 | INFO | fairseq.checkpoint_utils | Preparing to save checkpoint for epoch 28 @ 778 updates\n",
      "2022-10-29 21:50:17 | INFO | fairseq.trainer | Saving checkpoint to /storage/master-thesis/models/capsnet__nah-es_es-en/checkpoint28.pt\n",
      "2022-10-29 21:50:19 | INFO | fairseq.trainer | Finished saving checkpoint to /storage/master-thesis/models/capsnet__nah-es_es-en/checkpoint28.pt\n",
      "2022-10-29 21:50:21 | INFO | fairseq.checkpoint_utils | Saved checkpoint /storage/master-thesis/models/capsnet__nah-es_es-en/checkpoint28.pt (epoch 28 @ 778 updates, score 4.414) (writing took 3.968734472990036 seconds)\n",
      "2022-10-29 21:50:21 | INFO | fairseq_cli.train | end of epoch 28 (average epoch stats below)\n",
      "2022-10-29 21:50:21 | INFO | train | epoch 028 | loss 2.872 | nll_loss 1.058 | ppl 2.08 | wps 18883.6 | ups 5.5 | wpb 3434.9 | bsz 274.3 | num_updates 778 | lr 9.725e-05 | gnorm 0.816 | loss_scale 64 | train_wall 134 | gb_free 12 | wall 143\n",
      "2022-10-29 21:50:21 | INFO | fairseq.tasks.translation_multi_simple_epoch | start batch sampler: mem usage: N/A\n",
      "2022-10-29 21:50:21 | INFO | fairseq.tasks.translation_multi_simple_epoch | [train] @batch_sampler order indices time: 0:00:00.050652\n",
      "2022-10-29 21:50:21 | INFO | fairseq.tasks.translation_multi_simple_epoch | mem usage: N/A\n",
      "2022-10-29 21:50:21 | WARNING | fairseq.tasks.fairseq_task | 16 samples have invalid sizes and will be skipped, max_positions=(1024, 1024), first few sample ids=[3456, 779, 2750, 3774, 9221, 879, 5531, 6082, 9703, 4441]\n",
      "2022-10-29 21:50:21 | INFO | fairseq.tasks.translation_multi_simple_epoch | [train] @batch_sampler filter_by_size time: 0:00:00.003572\n",
      "2022-10-29 21:50:21 | INFO | fairseq.tasks.translation_multi_simple_epoch | mem usage: N/A\n",
      "2022-10-29 21:50:21 | INFO | fairseq.tasks.translation_multi_simple_epoch | [train] @batch_sampler batch_by_size time: 0:00:00.005490\n",
      "2022-10-29 21:50:21 | INFO | fairseq.tasks.translation_multi_simple_epoch | [train] per epoch batch_sampler set-up time: 0:00:00.060533\n",
      "2022-10-29 21:50:21 | INFO | fairseq.tasks.translation_multi_simple_epoch | mem usage: N/A\n",
      "2022-10-29 21:50:21 | INFO | fairseq.data.iterators | grouped total_num_itrs = 779\n",
      "epoch 029:   0%|                                        | 0/779 [00:00<?, ?it/s]2022-10-29 21:50:21 | INFO | fairseq.trainer | begin training epoch 29\n",
      "2022-10-29 21:50:21 | INFO | fairseq_cli.train | Start iterating over samples\n",
      "Exception ignored in: <bound method _MultiProcessingDataLoaderIter.__del__ of <torch.utils.data.dataloader._MultiProcessingDataLoaderIter object at 0x7f22040d9cc0>>\n",
      "Traceback (most recent call last):\n",
      "  File \"/usr/local/lib/python3.6/dist-packages/torch/utils/data/dataloader.py\", line 1328, in __del__\n",
      "    self._shutdown_workers()\n",
      "  File \"/usr/local/lib/python3.6/dist-packages/torch/utils/data/dataloader.py\", line 1320, in _shutdown_workers\n",
      "    if w.is_alive():\n",
      "  File \"/usr/lib/python3.6/multiprocessing/process.py\", line 134, in is_alive\n",
      "    assert self._parent_pid == os.getpid(), 'can only test a child process'\n",
      "AssertionError: can only test a child process\n",
      "epoch 029:   3%| | 22/779 [00:03<02:03,  6.11it/s, loss=2.862, nll_loss=1.05, ppException ignored in: <bound method _MultiProcessingDataLoaderIter.__del__ of <torch.utils.data.dataloader._MultiProcessingDataLoaderIter object at 0x7f22242cbc50>>\n",
      "Traceback (most recent call last):\n",
      "  File \"/usr/local/lib/python3.6/dist-packages/torch/utils/data/dataloader.py\", line 1328, in __del__\n",
      "    self._shutdown_workers()\n",
      "  File \"/usr/local/lib/python3.6/dist-packages/torch/utils/data/dataloader.py\", line 1320, in _shutdown_workers\n",
      "    if w.is_alive():\n",
      "  File \"/usr/lib/python3.6/multiprocessing/process.py\", line 134, in is_alive\n",
      "    assert self._parent_pid == os.getpid(), 'can only test a child process'\n",
      "AssertionError: can only test a child process\n",
      "epoch 029:  80%|7| 623/779 [01:48<00:28,  5.52it/s, loss=3.051, nll_loss=1.261, 2022-10-29 21:52:10 | INFO | fairseq.trainer | NOTE: gradient overflow detected, ignoring gradient, setting loss scale to: 32.0\n",
      "epoch 029: 100%|9| 778/779 [02:15<00:00,  5.77it/s, loss=3.067, nll_loss=1.283, 2022-10-29 21:52:38 | INFO | fairseq_cli.train | begin validation on \"valid\" subset\n",
      "2022-10-29 21:52:38 | INFO | fairseq.tasks.translation_multi_simple_epoch | start batch sampler: mem usage: N/A\n",
      "2022-10-29 21:52:38 | INFO | fairseq.tasks.translation_multi_simple_epoch | [valid] @batch_sampler order indices time: 0:00:00.001444\n",
      "2022-10-29 21:52:38 | INFO | fairseq.tasks.translation_multi_simple_epoch | mem usage: N/A\n",
      "2022-10-29 21:52:38 | INFO | fairseq.tasks.translation_multi_simple_epoch | [valid] @batch_sampler filter_by_size time: 0:00:00.040502\n",
      "2022-10-29 21:52:38 | INFO | fairseq.tasks.translation_multi_simple_epoch | mem usage: N/A\n",
      "2022-10-29 21:52:38 | INFO | fairseq.tasks.translation_multi_simple_epoch | [valid] @batch_sampler batch_by_size time: 0:00:00.029597\n",
      "2022-10-29 21:52:38 | INFO | fairseq.tasks.translation_multi_simple_epoch | [valid] per epoch batch_sampler set-up time: 0:00:00.072260\n",
      "2022-10-29 21:52:38 | INFO | fairseq.tasks.translation_multi_simple_epoch | mem usage: N/A\n",
      "\n",
      "epoch 029 | valid on 'valid' subset:   0%|               | 0/26 [00:00<?, ?it/s]\u001b[A\n",
      "epoch 029 | valid on 'valid' subset:   4%|2      | 1/26 [00:00<00:03,  8.01it/s]\u001b[A\n",
      "epoch 029 | valid on 'valid' subset:  12%|8      | 3/26 [00:00<00:02,  9.16it/s]\u001b[AException ignored in: <bound method _MultiProcessingDataLoaderIter.__del__ of <torch.utils.data.dataloader._MultiProcessingDataLoaderIter object at 0x7f22242cbc50>>\n",
      "Traceback (most recent call last):\n",
      "  File \"/usr/local/lib/python3.6/dist-packages/torch/utils/data/dataloader.py\", line 1328, in __del__\n",
      "    self._shutdown_workers()\n",
      "  File \"/usr/local/lib/python3.6/dist-packages/torch/utils/data/dataloader.py\", line 1320, in _shutdown_workers\n",
      "    if w.is_alive():\n",
      "  File \"/usr/lib/python3.6/multiprocessing/process.py\", line 134, in is_alive\n",
      "    assert self._parent_pid == os.getpid(), 'can only test a child process'\n",
      "AssertionError: can only test a child process\n",
      "\n",
      "epoch 029 | valid on 'valid' subset:  19%|#3     | 5/26 [00:00<00:02, 10.37it/s]\u001b[A\n",
      "epoch 029 | valid on 'valid' subset:  27%|#8     | 7/26 [00:00<00:01, 11.29it/s]\u001b[A\n",
      "epoch 029 | valid on 'valid' subset:  35%|##4    | 9/26 [00:00<00:01, 12.05it/s]\u001b[A\n",
      "epoch 029 | valid on 'valid' subset:  42%|##5   | 11/26 [00:00<00:01, 12.63it/s]\u001b[A\n",
      "epoch 029 | valid on 'valid' subset:  50%|###   | 13/26 [00:00<00:00, 13.01it/s]\u001b[A\n",
      "epoch 029 | valid on 'valid' subset:  58%|###4  | 15/26 [00:01<00:00, 13.45it/s]\u001b[A\n",
      "epoch 029 | valid on 'valid' subset:  65%|###9  | 17/26 [00:01<00:00, 13.62it/s]\u001b[A\n",
      "epoch 029 | valid on 'valid' subset:  73%|####3 | 19/26 [00:01<00:00, 13.66it/s]\u001b[A\n",
      "epoch 029 | valid on 'valid' subset:  81%|####8 | 21/26 [00:01<00:00, 13.74it/s]\u001b[A\n",
      "epoch 029 | valid on 'valid' subset:  88%|#####3| 23/26 [00:01<00:00, 13.91it/s]\u001b[A\n",
      "epoch 029 | valid on 'valid' subset:  96%|#####7| 25/26 [00:01<00:00, 14.42it/s]\u001b[A\n",
      "                                                                                \u001b[A2022-10-29 21:52:40 | INFO | valid | epoch 029 | valid on 'valid' subset | loss 4.429 | nll_loss 2.723 | ppl 6.6 | wps 37076.8 | wpb 2584 | bsz 204.4 | num_updates 1556 | best_loss 4.414\n",
      "2022-10-29 21:52:40 | INFO | fairseq.checkpoint_utils | Preparing to save checkpoint for epoch 29 @ 1556 updates\n",
      "2022-10-29 21:52:40 | INFO | fairseq.trainer | Saving checkpoint to /storage/master-thesis/models/capsnet__nah-es_es-en/checkpoint29.pt\n",
      "2022-10-29 21:52:42 | INFO | fairseq.trainer | Finished saving checkpoint to /storage/master-thesis/models/capsnet__nah-es_es-en/checkpoint29.pt\n",
      "2022-10-29 21:52:43 | INFO | fairseq.checkpoint_utils | Saved checkpoint /storage/master-thesis/models/capsnet__nah-es_es-en/checkpoint29.pt (epoch 29 @ 1556 updates, score 4.429) (writing took 3.1454890612512827 seconds)\n",
      "2022-10-29 21:52:43 | INFO | fairseq_cli.train | end of epoch 29 (average epoch stats below)\n",
      "2022-10-29 21:52:43 | INFO | train | epoch 029 | loss 2.903 | nll_loss 1.097 | ppl 2.14 | wps 18891.3 | ups 5.5 | wpb 3433.1 | bsz 273.5 | num_updates 1556 | lr 0.0001945 | gnorm 0.868 | loss_scale 32 | train_wall 134 | gb_free 12 | wall 284\n",
      "2022-10-29 21:52:43 | INFO | fairseq.tasks.translation_multi_simple_epoch | start batch sampler: mem usage: N/A\n",
      "2022-10-29 21:52:43 | INFO | fairseq.tasks.translation_multi_simple_epoch | [train] @batch_sampler order indices time: 0:00:00.046887\n",
      "2022-10-29 21:52:43 | INFO | fairseq.tasks.translation_multi_simple_epoch | mem usage: N/A\n",
      "2022-10-29 21:52:43 | WARNING | fairseq.tasks.fairseq_task | 16 samples have invalid sizes and will be skipped, max_positions=(1024, 1024), first few sample ids=[3456, 779, 2750, 3774, 9221, 879, 5531, 6082, 9703, 4441]\n",
      "2022-10-29 21:52:43 | INFO | fairseq.tasks.translation_multi_simple_epoch | [train] @batch_sampler filter_by_size time: 0:00:00.002863\n",
      "2022-10-29 21:52:43 | INFO | fairseq.tasks.translation_multi_simple_epoch | mem usage: N/A\n",
      "2022-10-29 21:52:43 | INFO | fairseq.tasks.translation_multi_simple_epoch | [train] @batch_sampler batch_by_size time: 0:00:00.005208\n",
      "2022-10-29 21:52:43 | INFO | fairseq.tasks.translation_multi_simple_epoch | [train] per epoch batch_sampler set-up time: 0:00:00.055729\n",
      "2022-10-29 21:52:43 | INFO | fairseq.tasks.translation_multi_simple_epoch | mem usage: N/A\n",
      "2022-10-29 21:52:43 | INFO | fairseq.data.iterators | grouped total_num_itrs = 779\n",
      "epoch 030:   0%|                                        | 0/779 [00:00<?, ?it/s]2022-10-29 21:52:43 | INFO | fairseq.trainer | begin training epoch 30\n",
      "2022-10-29 21:52:43 | INFO | fairseq_cli.train | Start iterating over samples\n",
      "Exception ignored in: <bound method _MultiProcessingDataLoaderIter.__del__ of <torch.utils.data.dataloader._MultiProcessingDataLoaderIter object at 0x7f2206fe2128>>\n",
      "Traceback (most recent call last):\n",
      "  File \"/usr/local/lib/python3.6/dist-packages/torch/utils/data/dataloader.py\", line 1328, in __del__\n",
      "    self._shutdown_workers()\n",
      "  File \"/usr/local/lib/python3.6/dist-packages/torch/utils/data/dataloader.py\", line 1320, in _shutdown_workers\n",
      "    if w.is_alive():\n",
      "  File \"/usr/lib/python3.6/multiprocessing/process.py\", line 134, in is_alive\n",
      "    assert self._parent_pid == os.getpid(), 'can only test a child process'\n",
      "AssertionError: can only test a child process\n",
      "epoch 030:   0%|                                | 2/779 [00:00<02:22,  5.45it/s]Exception ignored in: <bound method _MultiProcessingDataLoaderIter.__del__ of <torch.utils.data.dataloader._MultiProcessingDataLoaderIter object at 0x7f22242cbc50>>\n",
      "Traceback (most recent call last):\n",
      "  File \"/usr/local/lib/python3.6/dist-packages/torch/utils/data/dataloader.py\", line 1328, in __del__\n",
      "    self._shutdown_workers()\n",
      "  File \"/usr/local/lib/python3.6/dist-packages/torch/utils/data/dataloader.py\", line 1320, in _shutdown_workers\n",
      "    if w.is_alive():\n",
      "  File \"/usr/lib/python3.6/multiprocessing/process.py\", line 134, in is_alive\n",
      "    assert self._parent_pid == os.getpid(), 'can only test a child process'\n",
      "AssertionError: can only test a child process\n",
      "Exception ignored in: <bound method _MultiProcessingDataLoaderIter.__del__ of <torch.utils.data.dataloader._MultiProcessingDataLoaderIter object at 0x7f2206feb9e8>>\n",
      "Traceback (most recent call last):\n",
      "  File \"/usr/local/lib/python3.6/dist-packages/torch/utils/data/dataloader.py\", line 1328, in __del__\n",
      "    self._shutdown_workers()\n",
      "  File \"/usr/local/lib/python3.6/dist-packages/torch/utils/data/dataloader.py\", line 1320, in _shutdown_workers\n",
      "    if w.is_alive():\n",
      "  File \"/usr/lib/python3.6/multiprocessing/process.py\", line 134, in is_alive\n",
      "    assert self._parent_pid == os.getpid(), 'can only test a child process'\n",
      "AssertionError: can only test a child process\n",
      "epoch 030:  92%|9| 719/779 [02:06<00:10,  5.59it/s, loss=2.955, nll_loss=1.163, 2022-10-29 21:54:49 | INFO | fairseq.trainer | NOTE: gradient overflow detected, ignoring gradient, setting loss scale to: 16.0\n",
      "epoch 030: 100%|9| 778/779 [02:16<00:00,  5.84it/s, loss=2.954, nll_loss=1.164, 2022-10-29 21:54:59 | INFO | fairseq_cli.train | begin validation on \"valid\" subset\n",
      "2022-10-29 21:54:59 | INFO | fairseq.tasks.translation_multi_simple_epoch | start batch sampler: mem usage: N/A\n",
      "2022-10-29 21:54:59 | INFO | fairseq.tasks.translation_multi_simple_epoch | [valid] @batch_sampler order indices time: 0:00:00.001336\n",
      "2022-10-29 21:54:59 | INFO | fairseq.tasks.translation_multi_simple_epoch | mem usage: N/A\n",
      "2022-10-29 21:54:59 | INFO | fairseq.tasks.translation_multi_simple_epoch | [valid] @batch_sampler filter_by_size time: 0:00:00.038817\n",
      "2022-10-29 21:54:59 | INFO | fairseq.tasks.translation_multi_simple_epoch | mem usage: N/A\n",
      "2022-10-29 21:54:59 | INFO | fairseq.tasks.translation_multi_simple_epoch | [valid] @batch_sampler batch_by_size time: 0:00:00.030072\n",
      "2022-10-29 21:54:59 | INFO | fairseq.tasks.translation_multi_simple_epoch | [valid] per epoch batch_sampler set-up time: 0:00:00.070804\n",
      "2022-10-29 21:54:59 | INFO | fairseq.tasks.translation_multi_simple_epoch | mem usage: N/A\n",
      "\n",
      "epoch 030 | valid on 'valid' subset:   0%|               | 0/26 [00:00<?, ?it/s]\u001b[A\n",
      "epoch 030 | valid on 'valid' subset:   4%|2      | 1/26 [00:00<00:02,  9.11it/s]\u001b[A\n",
      "epoch 030 | valid on 'valid' subset:  12%|8      | 3/26 [00:00<00:02, 10.31it/s]\u001b[A\n",
      "epoch 030 | valid on 'valid' subset:  19%|#3     | 5/26 [00:00<00:01, 11.30it/s]\u001b[A\n",
      "epoch 030 | valid on 'valid' subset:  27%|#8     | 7/26 [00:00<00:01, 11.90it/s]\u001b[A\n",
      "epoch 030 | valid on 'valid' subset:  35%|##4    | 9/26 [00:00<00:01, 12.23it/s]\u001b[A\n",
      "epoch 030 | valid on 'valid' subset:  42%|##5   | 11/26 [00:00<00:01, 12.82it/s]\u001b[A\n",
      "epoch 030 | valid on 'valid' subset:  50%|###   | 13/26 [00:00<00:00, 13.27it/s]\u001b[A\n",
      "epoch 030 | valid on 'valid' subset:  58%|###4  | 15/26 [00:01<00:00, 13.48it/s]\u001b[A\n",
      "epoch 030 | valid on 'valid' subset:  65%|###9  | 17/26 [00:01<00:00, 13.70it/s]\u001b[A\n",
      "epoch 030 | valid on 'valid' subset:  73%|####3 | 19/26 [00:01<00:00, 13.67it/s]\u001b[A\n",
      "epoch 030 | valid on 'valid' subset:  81%|####8 | 21/26 [00:01<00:00, 13.65it/s]\u001b[A\n",
      "epoch 030 | valid on 'valid' subset:  88%|#####3| 23/26 [00:01<00:00, 13.71it/s]\u001b[A\n",
      "epoch 030 | valid on 'valid' subset:  96%|#####7| 25/26 [00:01<00:00, 14.23it/s]\u001b[A\n",
      "                                                                                \u001b[A2022-10-29 21:55:01 | INFO | valid | epoch 030 | valid on 'valid' subset | loss 4.456 | nll_loss 2.756 | ppl 6.76 | wps 36539.3 | wpb 2584 | bsz 204.4 | num_updates 2334 | best_loss 4.414\n",
      "2022-10-29 21:55:01 | INFO | fairseq.checkpoint_utils | Preparing to save checkpoint for epoch 30 @ 2334 updates\n",
      "2022-10-29 21:55:01 | INFO | fairseq.trainer | Saving checkpoint to /storage/master-thesis/models/capsnet__nah-es_es-en/checkpoint30.pt\n",
      "2022-10-29 21:55:08 | INFO | fairseq.trainer | Finished saving checkpoint to /storage/master-thesis/models/capsnet__nah-es_es-en/checkpoint30.pt\n",
      "2022-10-29 21:55:09 | INFO | fairseq.checkpoint_utils | Saved checkpoint /storage/master-thesis/models/capsnet__nah-es_es-en/checkpoint30.pt (epoch 30 @ 2334 updates, score 4.456) (writing took 8.028829672373831 seconds)\n",
      "2022-10-29 21:55:09 | INFO | fairseq_cli.train | end of epoch 30 (average epoch stats below)\n",
      "2022-10-29 21:55:09 | INFO | train | epoch 030 | loss 2.957 | nll_loss 1.161 | ppl 2.24 | wps 18233.5 | ups 5.31 | wpb 3434.4 | bsz 274.3 | num_updates 2334 | lr 0.00029175 | gnorm 0.952 | loss_scale 16 | train_wall 134 | gb_free 11.8 | wall 431\n",
      "2022-10-29 21:55:09 | INFO | fairseq.tasks.translation_multi_simple_epoch | start batch sampler: mem usage: N/A\n",
      "2022-10-29 21:55:09 | INFO | fairseq.tasks.translation_multi_simple_epoch | [train] @batch_sampler order indices time: 0:00:00.044878\n",
      "2022-10-29 21:55:09 | INFO | fairseq.tasks.translation_multi_simple_epoch | mem usage: N/A\n",
      "2022-10-29 21:55:09 | WARNING | fairseq.tasks.fairseq_task | 16 samples have invalid sizes and will be skipped, max_positions=(1024, 1024), first few sample ids=[3456, 779, 2750, 3774, 9221, 879, 5531, 6082, 9703, 4441]\n",
      "2022-10-29 21:55:09 | INFO | fairseq.tasks.translation_multi_simple_epoch | [train] @batch_sampler filter_by_size time: 0:00:00.003664\n",
      "2022-10-29 21:55:09 | INFO | fairseq.tasks.translation_multi_simple_epoch | mem usage: N/A\n",
      "2022-10-29 21:55:09 | INFO | fairseq.tasks.translation_multi_simple_epoch | [train] @batch_sampler batch_by_size time: 0:00:00.005296\n",
      "2022-10-29 21:55:09 | INFO | fairseq.tasks.translation_multi_simple_epoch | [train] per epoch batch_sampler set-up time: 0:00:00.054580\n",
      "2022-10-29 21:55:09 | INFO | fairseq.tasks.translation_multi_simple_epoch | mem usage: N/A\n",
      "2022-10-29 21:55:09 | INFO | fairseq.data.iterators | grouped total_num_itrs = 779\n",
      "epoch 031:   0%|                                        | 0/779 [00:00<?, ?it/s]2022-10-29 21:55:09 | INFO | fairseq.trainer | begin training epoch 31\n",
      "2022-10-29 21:55:09 | INFO | fairseq_cli.train | Start iterating over samples\n",
      "epoch 031:  36%|3| 284/779 [00:49<01:27,  5.66it/s, loss=3.164, nll_loss=1.388, Exception ignored in: <bound method _MultiProcessingDataLoaderIter.__del__ of <torch.utils.data.dataloader._MultiProcessingDataLoaderIter object at 0x7f2206ff2dd8>>\n",
      "Traceback (most recent call last):\n",
      "  File \"/usr/local/lib/python3.6/dist-packages/torch/utils/data/dataloader.py\", line 1328, in __del__\n",
      "    self._shutdown_workers()\n",
      "  File \"/usr/local/lib/python3.6/dist-packages/torch/utils/data/dataloader.py\", line 1320, in _shutdown_workers\n",
      "    if w.is_alive():\n",
      "  File \"/usr/lib/python3.6/multiprocessing/process.py\", line 134, in is_alive\n",
      "    assert self._parent_pid == os.getpid(), 'can only test a child process'\n",
      "AssertionError: can only test a child process\n",
      "epoch 031: 100%|9| 778/779 [02:15<00:00,  5.62it/s, loss=3.047, nll_loss=1.267, 2022-10-29 21:57:25 | INFO | fairseq_cli.train | begin validation on \"valid\" subset\n",
      "2022-10-29 21:57:25 | INFO | fairseq.tasks.translation_multi_simple_epoch | start batch sampler: mem usage: N/A\n",
      "2022-10-29 21:57:25 | INFO | fairseq.tasks.translation_multi_simple_epoch | [valid] @batch_sampler order indices time: 0:00:00.001441\n",
      "2022-10-29 21:57:25 | INFO | fairseq.tasks.translation_multi_simple_epoch | mem usage: N/A\n",
      "2022-10-29 21:57:25 | INFO | fairseq.tasks.translation_multi_simple_epoch | [valid] @batch_sampler filter_by_size time: 0:00:00.038457\n",
      "2022-10-29 21:57:25 | INFO | fairseq.tasks.translation_multi_simple_epoch | mem usage: N/A\n",
      "2022-10-29 21:57:25 | INFO | fairseq.tasks.translation_multi_simple_epoch | [valid] @batch_sampler batch_by_size time: 0:00:00.029461\n",
      "2022-10-29 21:57:25 | INFO | fairseq.tasks.translation_multi_simple_epoch | [valid] per epoch batch_sampler set-up time: 0:00:00.069884\n",
      "2022-10-29 21:57:25 | INFO | fairseq.tasks.translation_multi_simple_epoch | mem usage: N/A\n",
      "\n",
      "epoch 031 | valid on 'valid' subset:   0%|               | 0/26 [00:00<?, ?it/s]\u001b[A\n",
      "epoch 031 | valid on 'valid' subset:   4%|2      | 1/26 [00:00<00:03,  7.56it/s]\u001b[A\n",
      "epoch 031 | valid on 'valid' subset:  12%|8      | 3/26 [00:00<00:02,  8.88it/s]\u001b[A\n",
      "epoch 031 | valid on 'valid' subset:  19%|#3     | 5/26 [00:00<00:02, 10.06it/s]\u001b[A\n",
      "epoch 031 | valid on 'valid' subset:  27%|#8     | 7/26 [00:00<00:01, 11.06it/s]\u001b[A\n",
      "epoch 031 | valid on 'valid' subset:  35%|##4    | 9/26 [00:00<00:01, 11.89it/s]\u001b[A\n",
      "epoch 031 | valid on 'valid' subset:  42%|##5   | 11/26 [00:00<00:01, 12.55it/s]\u001b[A\n",
      "epoch 031 | valid on 'valid' subset:  50%|###   | 13/26 [00:00<00:00, 13.07it/s]\u001b[A\n",
      "epoch 031 | valid on 'valid' subset:  58%|###4  | 15/26 [00:01<00:00, 13.54it/s]\u001b[A\n",
      "epoch 031 | valid on 'valid' subset:  65%|###9  | 17/26 [00:01<00:00, 13.93it/s]\u001b[A\n",
      "epoch 031 | valid on 'valid' subset:  73%|####3 | 19/26 [00:01<00:00, 14.16it/s]\u001b[A\n",
      "epoch 031 | valid on 'valid' subset:  81%|####8 | 21/26 [00:01<00:00, 14.25it/s]\u001b[A\n",
      "epoch 031 | valid on 'valid' subset:  88%|#####3| 23/26 [00:01<00:00, 14.32it/s]\u001b[A\n",
      "epoch 031 | valid on 'valid' subset:  96%|#####7| 25/26 [00:01<00:00, 14.73it/s]\u001b[A\n",
      "                                                                                \u001b[A2022-10-29 21:57:27 | INFO | valid | epoch 031 | valid on 'valid' subset | loss 4.508 | nll_loss 2.818 | ppl 7.05 | wps 38048.3 | wpb 2584 | bsz 204.4 | num_updates 3113 | best_loss 4.414\n",
      "2022-10-29 21:57:27 | INFO | fairseq.checkpoint_utils | Preparing to save checkpoint for epoch 31 @ 3113 updates\n",
      "2022-10-29 21:57:27 | INFO | fairseq.trainer | Saving checkpoint to /storage/master-thesis/models/capsnet__nah-es_es-en/checkpoint31.pt\n",
      "2022-10-29 21:57:34 | INFO | fairseq.trainer | Finished saving checkpoint to /storage/master-thesis/models/capsnet__nah-es_es-en/checkpoint31.pt\n",
      "2022-10-29 21:57:35 | INFO | fairseq.checkpoint_utils | Saved checkpoint /storage/master-thesis/models/capsnet__nah-es_es-en/checkpoint31.pt (epoch 31 @ 3113 updates, score 4.508) (writing took 8.036966500803828 seconds)\n",
      "2022-10-29 21:57:35 | INFO | fairseq_cli.train | end of epoch 31 (average epoch stats below)\n",
      "2022-10-29 21:57:35 | INFO | train | epoch 031 | loss 3.034 | nll_loss 1.249 | ppl 2.38 | wps 18360.6 | ups 5.35 | wpb 3434 | bsz 274 | num_updates 3113 | lr 0.000389125 | gnorm 1.03 | loss_scale 16 | train_wall 134 | gb_free 12.1 | wall 576\n",
      "2022-10-29 21:57:35 | INFO | fairseq.tasks.translation_multi_simple_epoch | start batch sampler: mem usage: N/A\n",
      "2022-10-29 21:57:35 | INFO | fairseq.tasks.translation_multi_simple_epoch | [train] @batch_sampler order indices time: 0:00:00.047130\n",
      "2022-10-29 21:57:35 | INFO | fairseq.tasks.translation_multi_simple_epoch | mem usage: N/A\n",
      "2022-10-29 21:57:35 | WARNING | fairseq.tasks.fairseq_task | 16 samples have invalid sizes and will be skipped, max_positions=(1024, 1024), first few sample ids=[3456, 779, 2750, 3774, 9221, 879, 5531, 6082, 9703, 4441]\n",
      "2022-10-29 21:57:35 | INFO | fairseq.tasks.translation_multi_simple_epoch | [train] @batch_sampler filter_by_size time: 0:00:00.003171\n",
      "2022-10-29 21:57:35 | INFO | fairseq.tasks.translation_multi_simple_epoch | mem usage: N/A\n",
      "2022-10-29 21:57:35 | INFO | fairseq.tasks.translation_multi_simple_epoch | [train] @batch_sampler batch_by_size time: 0:00:00.005357\n",
      "2022-10-29 21:57:35 | INFO | fairseq.tasks.translation_multi_simple_epoch | [train] per epoch batch_sampler set-up time: 0:00:00.056417\n",
      "2022-10-29 21:57:35 | INFO | fairseq.tasks.translation_multi_simple_epoch | mem usage: N/A\n",
      "2022-10-29 21:57:35 | INFO | fairseq.data.iterators | grouped total_num_itrs = 779\n",
      "epoch 032:   0%|                                        | 0/779 [00:00<?, ?it/s]2022-10-29 21:57:35 | INFO | fairseq.trainer | begin training epoch 32\n",
      "2022-10-29 21:57:35 | INFO | fairseq_cli.train | Start iterating over samples\n",
      "epoch 032:  31%|3| 240/779 [00:41<01:25,  6.30it/s, loss=3.007, nll_loss=1.218, Exception ignored in: <bound method _MultiProcessingDataLoaderIter.__del__ of <torch.utils.data.dataloader._MultiProcessingDataLoaderIter object at 0x7f2206ff2dd8>>\n",
      "Traceback (most recent call last):\n",
      "  File \"/usr/local/lib/python3.6/dist-packages/torch/utils/data/dataloader.py\", line 1328, in __del__\n",
      "    self._shutdown_workers()\n",
      "  File \"/usr/local/lib/python3.6/dist-packages/torch/utils/data/dataloader.py\", line 1320, in _shutdown_workers\n",
      "    if w.is_alive():\n",
      "  File \"/usr/lib/python3.6/multiprocessing/process.py\", line 134, in is_alive\n",
      "    assert self._parent_pid == os.getpid(), 'can only test a child process'\n",
      "AssertionError: can only test a child process\n",
      "Exception ignored in: <bound method _MultiProcessingDataLoaderIter.__del__ of <torch.utils.data.dataloader._MultiProcessingDataLoaderIter object at 0x7f2222010400>>\n",
      "Traceback (most recent call last):\n",
      "  File \"/usr/local/lib/python3.6/dist-packages/torch/utils/data/dataloader.py\", line 1328, in __del__\n",
      "    self._shutdown_workers()\n",
      "  File \"/usr/local/lib/python3.6/dist-packages/torch/utils/data/dataloader.py\", line 1320, in _shutdown_workers\n",
      "    if w.is_alive():\n",
      "  File \"/usr/lib/python3.6/multiprocessing/process.py\", line 134, in is_alive\n",
      "    assert self._parent_pid == os.getpid(), 'can only test a child process'\n",
      "AssertionError: can only test a child process\n",
      "epoch 032: 100%|9| 778/779 [02:15<00:00,  5.93it/s, loss=3.115, nll_loss=1.345, 2022-10-29 21:59:51 | INFO | fairseq_cli.train | begin validation on \"valid\" subset\n",
      "2022-10-29 21:59:51 | INFO | fairseq.tasks.translation_multi_simple_epoch | start batch sampler: mem usage: N/A\n",
      "2022-10-29 21:59:51 | INFO | fairseq.tasks.translation_multi_simple_epoch | [valid] @batch_sampler order indices time: 0:00:00.001353\n",
      "2022-10-29 21:59:51 | INFO | fairseq.tasks.translation_multi_simple_epoch | mem usage: N/A\n",
      "2022-10-29 21:59:51 | INFO | fairseq.tasks.translation_multi_simple_epoch | [valid] @batch_sampler filter_by_size time: 0:00:00.039222\n",
      "2022-10-29 21:59:51 | INFO | fairseq.tasks.translation_multi_simple_epoch | mem usage: N/A\n",
      "2022-10-29 21:59:51 | INFO | fairseq.tasks.translation_multi_simple_epoch | [valid] @batch_sampler batch_by_size time: 0:00:00.029773\n",
      "2022-10-29 21:59:51 | INFO | fairseq.tasks.translation_multi_simple_epoch | [valid] per epoch batch_sampler set-up time: 0:00:00.070978\n",
      "2022-10-29 21:59:51 | INFO | fairseq.tasks.translation_multi_simple_epoch | mem usage: N/A\n",
      "\n",
      "epoch 032 | valid on 'valid' subset:   0%|               | 0/26 [00:00<?, ?it/s]\u001b[A\n",
      "epoch 032 | valid on 'valid' subset:   4%|2      | 1/26 [00:00<00:03,  7.61it/s]\u001b[A\n",
      "epoch 032 | valid on 'valid' subset:  12%|8      | 3/26 [00:00<00:02,  8.90it/s]\u001b[A\n",
      "epoch 032 | valid on 'valid' subset:  19%|#3     | 5/26 [00:00<00:02, 10.14it/s]\u001b[A\n",
      "epoch 032 | valid on 'valid' subset:  27%|#8     | 7/26 [00:00<00:01, 11.00it/s]\u001b[A\n",
      "epoch 032 | valid on 'valid' subset:  35%|##4    | 9/26 [00:00<00:01, 11.73it/s]\u001b[A\n",
      "epoch 032 | valid on 'valid' subset:  42%|##5   | 11/26 [00:00<00:01, 12.44it/s]\u001b[A\n",
      "epoch 032 | valid on 'valid' subset:  50%|###   | 13/26 [00:00<00:00, 13.04it/s]\u001b[A\n",
      "epoch 032 | valid on 'valid' subset:  58%|###4  | 15/26 [00:01<00:00, 13.45it/s]\u001b[A\n",
      "epoch 032 | valid on 'valid' subset:  65%|###9  | 17/26 [00:01<00:00, 13.68it/s]\u001b[A\n",
      "epoch 032 | valid on 'valid' subset:  73%|####3 | 19/26 [00:01<00:00, 13.90it/s]\u001b[A\n",
      "epoch 032 | valid on 'valid' subset:  81%|####8 | 21/26 [00:01<00:00, 13.94it/s]\u001b[A\n",
      "epoch 032 | valid on 'valid' subset:  88%|#####3| 23/26 [00:01<00:00, 14.02it/s]\u001b[A\n",
      "epoch 032 | valid on 'valid' subset:  96%|#####7| 25/26 [00:01<00:00, 14.54it/s]\u001b[A\n",
      "                                                                                \u001b[A2022-10-29 21:59:53 | INFO | valid | epoch 032 | valid on 'valid' subset | loss 4.509 | nll_loss 2.814 | ppl 7.03 | wps 37497.8 | wpb 2584 | bsz 204.4 | num_updates 3892 | best_loss 4.414\n",
      "2022-10-29 21:59:53 | INFO | fairseq.checkpoint_utils | Preparing to save checkpoint for epoch 32 @ 3892 updates\n",
      "2022-10-29 21:59:53 | INFO | fairseq.trainer | Saving checkpoint to /storage/master-thesis/models/capsnet__nah-es_es-en/checkpoint32.pt\n",
      "2022-10-29 22:00:00 | INFO | fairseq.trainer | Finished saving checkpoint to /storage/master-thesis/models/capsnet__nah-es_es-en/checkpoint32.pt\n",
      "2022-10-29 22:00:01 | INFO | fairseq.checkpoint_utils | Saved checkpoint /storage/master-thesis/models/capsnet__nah-es_es-en/checkpoint32.pt (epoch 32 @ 3892 updates, score 4.509) (writing took 7.951797577552497 seconds)\n",
      "2022-10-29 22:00:01 | INFO | fairseq_cli.train | end of epoch 32 (average epoch stats below)\n",
      "2022-10-29 22:00:01 | INFO | train | epoch 032 | loss 3.126 | nll_loss 1.352 | ppl 2.55 | wps 18369.1 | ups 5.35 | wpb 3434 | bsz 274 | num_updates 3892 | lr 0.0004865 | gnorm 1.083 | loss_scale 16 | train_wall 134 | gb_free 12 | wall 722\n",
      "2022-10-29 22:00:01 | INFO | fairseq.tasks.translation_multi_simple_epoch | start batch sampler: mem usage: N/A\n",
      "2022-10-29 22:00:01 | INFO | fairseq.tasks.translation_multi_simple_epoch | [train] @batch_sampler order indices time: 0:00:00.043613\n",
      "2022-10-29 22:00:01 | INFO | fairseq.tasks.translation_multi_simple_epoch | mem usage: N/A\n",
      "2022-10-29 22:00:01 | WARNING | fairseq.tasks.fairseq_task | 16 samples have invalid sizes and will be skipped, max_positions=(1024, 1024), first few sample ids=[3456, 779, 2750, 3774, 9221, 879, 5531, 6082, 9703, 4441]\n",
      "2022-10-29 22:00:01 | INFO | fairseq.tasks.translation_multi_simple_epoch | [train] @batch_sampler filter_by_size time: 0:00:00.003215\n",
      "2022-10-29 22:00:01 | INFO | fairseq.tasks.translation_multi_simple_epoch | mem usage: N/A\n",
      "2022-10-29 22:00:01 | INFO | fairseq.tasks.translation_multi_simple_epoch | [train] @batch_sampler batch_by_size time: 0:00:00.005407\n",
      "2022-10-29 22:00:01 | INFO | fairseq.tasks.translation_multi_simple_epoch | [train] per epoch batch_sampler set-up time: 0:00:00.052992\n",
      "2022-10-29 22:00:01 | INFO | fairseq.tasks.translation_multi_simple_epoch | mem usage: N/A\n",
      "2022-10-29 22:00:01 | INFO | fairseq.data.iterators | grouped total_num_itrs = 779\n",
      "epoch 033:   0%|                                        | 0/779 [00:00<?, ?it/s]2022-10-29 22:00:01 | INFO | fairseq.trainer | begin training epoch 33\n",
      "2022-10-29 22:00:01 | INFO | fairseq_cli.train | Start iterating over samples\n",
      "epoch 033:  27%|2| 207/779 [00:35<01:43,  5.54it/s, loss=3.085, nll_loss=1.298, 2022-10-29 22:00:37 | INFO | fairseq.trainer | NOTE: gradient overflow detected, ignoring gradient, setting loss scale to: 8.0\n",
      "epoch 033:  34%|3| 266/779 [00:46<01:26,  5.95it/s, loss=3.117, nll_loss=1.341, Exception ignored in: <bound method _MultiProcessingDataLoaderIter.__del__ of <torch.utils.data.dataloader._MultiProcessingDataLoaderIter object at 0x7f2206ff2dd8>>\n",
      "Traceback (most recent call last):\n",
      "  File \"/usr/local/lib/python3.6/dist-packages/torch/utils/data/dataloader.py\", line 1328, in __del__\n",
      "    self._shutdown_workers()\n",
      "  File \"/usr/local/lib/python3.6/dist-packages/torch/utils/data/dataloader.py\", line 1320, in _shutdown_workers\n",
      "    if w.is_alive():\n",
      "  File \"/usr/lib/python3.6/multiprocessing/process.py\", line 134, in is_alive\n",
      "    assert self._parent_pid == os.getpid(), 'can only test a child process'\n",
      "AssertionError: can only test a child process\n",
      "Exception ignored in: <bound method _MultiProcessingDataLoaderIter.__del__ of <torch.utils.data.dataloader._MultiProcessingDataLoaderIter object at 0x7f2222010400>>\n",
      "Traceback (most recent call last):\n",
      "  File \"/usr/local/lib/python3.6/dist-packages/torch/utils/data/dataloader.py\", line 1328, in __del__\n",
      "    self._shutdown_workers()\n",
      "  File \"/usr/local/lib/python3.6/dist-packages/torch/utils/data/dataloader.py\", line 1320, in _shutdown_workers\n",
      "    if w.is_alive():\n",
      "  File \"/usr/lib/python3.6/multiprocessing/process.py\", line 134, in is_alive\n",
      "    assert self._parent_pid == os.getpid(), 'can only test a child process'\n",
      "AssertionError: can only test a child process\n",
      "Exception ignored in: <bound method _MultiProcessingDataLoaderIter.__del__ of <torch.utils.data.dataloader._MultiProcessingDataLoaderIter object at 0x7f222230da58>>\n",
      "Traceback (most recent call last):\n",
      "  File \"/usr/local/lib/python3.6/dist-packages/torch/utils/data/dataloader.py\", line 1328, in __del__\n",
      "    self._shutdown_workers()\n",
      "  File \"/usr/local/lib/python3.6/dist-packages/torch/utils/data/dataloader.py\", line 1320, in _shutdown_workers\n",
      "    if w.is_alive():\n",
      "  File \"/usr/lib/python3.6/multiprocessing/process.py\", line 134, in is_alive\n",
      "    assert self._parent_pid == os.getpid(), 'can only test a child process'\n",
      "AssertionError: can only test a child process\n",
      "epoch 033: 100%|9| 778/779 [02:15<00:00,  5.78it/s, loss=3.227, nll_loss=1.472, 2022-10-29 22:02:16 | INFO | fairseq_cli.train | begin validation on \"valid\" subset\n",
      "2022-10-29 22:02:16 | INFO | fairseq.tasks.translation_multi_simple_epoch | start batch sampler: mem usage: N/A\n",
      "2022-10-29 22:02:16 | INFO | fairseq.tasks.translation_multi_simple_epoch | [valid] @batch_sampler order indices time: 0:00:00.002384\n",
      "2022-10-29 22:02:16 | INFO | fairseq.tasks.translation_multi_simple_epoch | mem usage: N/A\n",
      "2022-10-29 22:02:16 | INFO | fairseq.tasks.translation_multi_simple_epoch | [valid] @batch_sampler filter_by_size time: 0:00:00.039784\n",
      "2022-10-29 22:02:16 | INFO | fairseq.tasks.translation_multi_simple_epoch | mem usage: N/A\n",
      "2022-10-29 22:02:16 | INFO | fairseq.tasks.translation_multi_simple_epoch | [valid] @batch_sampler batch_by_size time: 0:00:00.029847\n",
      "2022-10-29 22:02:16 | INFO | fairseq.tasks.translation_multi_simple_epoch | [valid] per epoch batch_sampler set-up time: 0:00:00.072582\n",
      "2022-10-29 22:02:16 | INFO | fairseq.tasks.translation_multi_simple_epoch | mem usage: N/A\n",
      "\n",
      "epoch 033 | valid on 'valid' subset:   0%|               | 0/26 [00:00<?, ?it/s]\u001b[A\n",
      "epoch 033 | valid on 'valid' subset:   4%|2      | 1/26 [00:00<00:03,  6.99it/s]\u001b[A\n",
      "epoch 033 | valid on 'valid' subset:  12%|8      | 3/26 [00:00<00:02,  8.26it/s]\u001b[A\n",
      "epoch 033 | valid on 'valid' subset:  19%|#3     | 5/26 [00:00<00:02,  9.57it/s]\u001b[A\n",
      "epoch 033 | valid on 'valid' subset:  27%|#8     | 7/26 [00:00<00:01, 10.64it/s]\u001b[A\n",
      "epoch 033 | valid on 'valid' subset:  35%|##4    | 9/26 [00:00<00:01, 11.46it/s]\u001b[A\n",
      "epoch 033 | valid on 'valid' subset:  42%|##5   | 11/26 [00:00<00:01, 12.21it/s]\u001b[A\n",
      "epoch 033 | valid on 'valid' subset:  50%|###   | 13/26 [00:00<00:01, 12.85it/s]\u001b[A\n",
      "epoch 033 | valid on 'valid' subset:  58%|###4  | 15/26 [00:01<00:00, 13.28it/s]\u001b[A\n",
      "epoch 033 | valid on 'valid' subset:  65%|###9  | 17/26 [00:01<00:00, 13.66it/s]\u001b[A\n",
      "epoch 033 | valid on 'valid' subset:  73%|####3 | 19/26 [00:01<00:00, 13.76it/s]\u001b[A\n",
      "epoch 033 | valid on 'valid' subset:  81%|####8 | 21/26 [00:01<00:00, 13.89it/s]\u001b[A\n",
      "epoch 033 | valid on 'valid' subset:  88%|#####3| 23/26 [00:01<00:00, 13.92it/s]\u001b[A\n",
      "epoch 033 | valid on 'valid' subset:  96%|#####7| 25/26 [00:01<00:00, 14.56it/s]\u001b[A\n",
      "                                                                                \u001b[A2022-10-29 22:02:18 | INFO | valid | epoch 033 | valid on 'valid' subset | loss 4.489 | nll_loss 2.796 | ppl 6.94 | wps 37598.7 | wpb 2584 | bsz 204.4 | num_updates 4670 | best_loss 4.414\n",
      "2022-10-29 22:02:18 | INFO | fairseq.checkpoint_utils | Preparing to save checkpoint for epoch 33 @ 4670 updates\n",
      "2022-10-29 22:02:18 | INFO | fairseq.trainer | Saving checkpoint to /storage/master-thesis/models/capsnet__nah-es_es-en/checkpoint33.pt\n",
      "2022-10-29 22:02:20 | INFO | fairseq.trainer | Finished saving checkpoint to /storage/master-thesis/models/capsnet__nah-es_es-en/checkpoint33.pt\n",
      "2022-10-29 22:02:21 | INFO | fairseq.checkpoint_utils | Saved checkpoint /storage/master-thesis/models/capsnet__nah-es_es-en/checkpoint33.pt (epoch 33 @ 4670 updates, score 4.489) (writing took 2.9733308413997293 seconds)\n",
      "2022-10-29 22:02:21 | INFO | fairseq_cli.train | end of epoch 33 (average epoch stats below)\n",
      "2022-10-29 22:02:21 | INFO | train | epoch 033 | loss 3.19 | nll_loss 1.424 | ppl 2.68 | wps 19019.2 | ups 5.54 | wpb 3434.9 | bsz 274.3 | num_updates 4670 | lr 0.000462745 | gnorm 1.138 | loss_scale 8 | train_wall 133 | gb_free 12.1 | wall 862\n",
      "2022-10-29 22:02:21 | INFO | fairseq.tasks.translation_multi_simple_epoch | start batch sampler: mem usage: N/A\n",
      "2022-10-29 22:02:21 | INFO | fairseq.tasks.translation_multi_simple_epoch | [train] @batch_sampler order indices time: 0:00:00.044095\n",
      "2022-10-29 22:02:21 | INFO | fairseq.tasks.translation_multi_simple_epoch | mem usage: N/A\n",
      "2022-10-29 22:02:21 | WARNING | fairseq.tasks.fairseq_task | 16 samples have invalid sizes and will be skipped, max_positions=(1024, 1024), first few sample ids=[3456, 779, 2750, 3774, 9221, 879, 5531, 6082, 9703, 4441]\n",
      "2022-10-29 22:02:21 | INFO | fairseq.tasks.translation_multi_simple_epoch | [train] @batch_sampler filter_by_size time: 0:00:00.002516\n",
      "2022-10-29 22:02:21 | INFO | fairseq.tasks.translation_multi_simple_epoch | mem usage: N/A\n",
      "2022-10-29 22:02:21 | INFO | fairseq.tasks.translation_multi_simple_epoch | [train] @batch_sampler batch_by_size time: 0:00:00.004821\n",
      "2022-10-29 22:02:21 | INFO | fairseq.tasks.translation_multi_simple_epoch | [train] per epoch batch_sampler set-up time: 0:00:00.052085\n",
      "2022-10-29 22:02:21 | INFO | fairseq.tasks.translation_multi_simple_epoch | mem usage: N/A\n",
      "2022-10-29 22:02:26 | INFO | fairseq.data.iterators | grouped total_num_itrs = 779\n",
      "epoch 034:   0%|                                        | 0/779 [00:00<?, ?it/s]2022-10-29 22:02:26 | INFO | fairseq.trainer | begin training epoch 34\n",
      "2022-10-29 22:02:26 | INFO | fairseq_cli.train | Start iterating over samples\n",
      "epoch 034:  35%|3| 270/779 [00:47<01:27,  5.83it/s, loss=3.344, nll_loss=1.587, Exception ignored in: <bound method _MultiProcessingDataLoaderIter.__del__ of <torch.utils.data.dataloader._MultiProcessingDataLoaderIter object at 0x7f2206ff2dd8>>\n",
      "Traceback (most recent call last):\n",
      "  File \"/usr/local/lib/python3.6/dist-packages/torch/utils/data/dataloader.py\", line 1328, in __del__\n",
      "    self._shutdown_workers()\n",
      "  File \"/usr/local/lib/python3.6/dist-packages/torch/utils/data/dataloader.py\", line 1320, in _shutdown_workers\n",
      "    if w.is_alive():\n",
      "  File \"/usr/lib/python3.6/multiprocessing/process.py\", line 134, in is_alive\n",
      "    assert self._parent_pid == os.getpid(), 'can only test a child process'\n",
      "AssertionError: can only test a child process\n",
      "Exception ignored in: <bound method _MultiProcessingDataLoaderIter.__del__ of <torch.utils.data.dataloader._MultiProcessingDataLoaderIter object at 0x7f2222010400>>\n",
      "Traceback (most recent call last):\n",
      "  File \"/usr/local/lib/python3.6/dist-packages/torch/utils/data/dataloader.py\", line 1328, in __del__\n",
      "    self._shutdown_workers()\n",
      "  File \"/usr/local/lib/python3.6/dist-packages/torch/utils/data/dataloader.py\", line 1320, in _shutdown_workers\n",
      "    if w.is_alive():\n",
      "  File \"/usr/lib/python3.6/multiprocessing/process.py\", line 134, in is_alive\n",
      "    assert self._parent_pid == os.getpid(), 'can only test a child process'\n",
      "AssertionError: can only test a child process\n",
      "Exception ignored in: <bound method _MultiProcessingDataLoaderIter.__del__ of <torch.utils.data.dataloader._MultiProcessingDataLoaderIter object at 0x7f222230da58>>\n",
      "Traceback (most recent call last):\n",
      "  File \"/usr/local/lib/python3.6/dist-packages/torch/utils/data/dataloader.py\", line 1328, in __del__\n",
      "    self._shutdown_workers()\n",
      "  File \"/usr/local/lib/python3.6/dist-packages/torch/utils/data/dataloader.py\", line 1320, in _shutdown_workers\n",
      "    if w.is_alive():\n",
      "  File \"/usr/lib/python3.6/multiprocessing/process.py\", line 134, in is_alive\n",
      "    assert self._parent_pid == os.getpid(), 'can only test a child process'\n",
      "AssertionError: can only test a child process\n",
      "Exception ignored in: <bound method _MultiProcessingDataLoaderIter.__del__ of <torch.utils.data.dataloader._MultiProcessingDataLoaderIter object at 0x7f2221e34ef0>>\n",
      "Traceback (most recent call last):\n",
      "  File \"/usr/local/lib/python3.6/dist-packages/torch/utils/data/dataloader.py\", line 1328, in __del__\n",
      "    self._shutdown_workers()\n",
      "  File \"/usr/local/lib/python3.6/dist-packages/torch/utils/data/dataloader.py\", line 1320, in _shutdown_workers\n",
      "    if w.is_alive():\n",
      "  File \"/usr/lib/python3.6/multiprocessing/process.py\", line 134, in is_alive\n",
      "    assert self._parent_pid == os.getpid(), 'can only test a child process'\n",
      "AssertionError: can only test a child process\n",
      "epoch 034: 100%|9| 778/779 [02:15<00:00,  5.56it/s, loss=3.181, nll_loss=1.418, 2022-10-29 22:04:42 | INFO | fairseq_cli.train | begin validation on \"valid\" subset\n",
      "2022-10-29 22:04:42 | INFO | fairseq.tasks.translation_multi_simple_epoch | start batch sampler: mem usage: N/A\n",
      "2022-10-29 22:04:42 | INFO | fairseq.tasks.translation_multi_simple_epoch | [valid] @batch_sampler order indices time: 0:00:00.002380\n",
      "2022-10-29 22:04:42 | INFO | fairseq.tasks.translation_multi_simple_epoch | mem usage: N/A\n",
      "2022-10-29 22:04:42 | INFO | fairseq.tasks.translation_multi_simple_epoch | [valid] @batch_sampler filter_by_size time: 0:00:00.040621\n",
      "2022-10-29 22:04:42 | INFO | fairseq.tasks.translation_multi_simple_epoch | mem usage: N/A\n",
      "2022-10-29 22:04:42 | INFO | fairseq.tasks.translation_multi_simple_epoch | [valid] @batch_sampler batch_by_size time: 0:00:00.030759\n",
      "2022-10-29 22:04:42 | INFO | fairseq.tasks.translation_multi_simple_epoch | [valid] per epoch batch_sampler set-up time: 0:00:00.074313\n",
      "2022-10-29 22:04:42 | INFO | fairseq.tasks.translation_multi_simple_epoch | mem usage: N/A\n",
      "\n",
      "epoch 034 | valid on 'valid' subset:   0%|               | 0/26 [00:00<?, ?it/s]\u001b[A\n",
      "epoch 034 | valid on 'valid' subset:   4%|2      | 1/26 [00:00<00:02,  9.32it/s]\u001b[A\n",
      "epoch 034 | valid on 'valid' subset:  12%|8      | 3/26 [00:00<00:02, 10.33it/s]\u001b[A\n",
      "epoch 034 | valid on 'valid' subset:  19%|#3     | 5/26 [00:00<00:01, 11.24it/s]\u001b[A\n",
      "epoch 034 | valid on 'valid' subset:  27%|#8     | 7/26 [00:00<00:01, 11.95it/s]\u001b[A\n",
      "epoch 034 | valid on 'valid' subset:  35%|##4    | 9/26 [00:00<00:01, 12.56it/s]\u001b[A\n",
      "epoch 034 | valid on 'valid' subset:  42%|##5   | 11/26 [00:00<00:01, 12.99it/s]\u001b[A\n",
      "epoch 034 | valid on 'valid' subset:  50%|###   | 13/26 [00:00<00:00, 13.39it/s]\u001b[A\n",
      "epoch 034 | valid on 'valid' subset:  58%|###4  | 15/26 [00:01<00:00, 13.77it/s]\u001b[A\n",
      "epoch 034 | valid on 'valid' subset:  65%|###9  | 17/26 [00:01<00:00, 13.99it/s]\u001b[A\n",
      "epoch 034 | valid on 'valid' subset:  73%|####3 | 19/26 [00:01<00:00, 14.16it/s]\u001b[A\n",
      "epoch 034 | valid on 'valid' subset:  81%|####8 | 21/26 [00:01<00:00, 14.22it/s]\u001b[A\n",
      "epoch 034 | valid on 'valid' subset:  88%|#####3| 23/26 [00:01<00:00, 14.25it/s]\u001b[A\n",
      "epoch 034 | valid on 'valid' subset:  96%|#####7| 25/26 [00:01<00:00, 14.79it/s]\u001b[A\n",
      "                                                                                \u001b[A2022-10-29 22:04:44 | INFO | valid | epoch 034 | valid on 'valid' subset | loss 4.509 | nll_loss 2.809 | ppl 7.01 | wps 37443.6 | wpb 2584 | bsz 204.4 | num_updates 5449 | best_loss 4.414\n",
      "2022-10-29 22:04:44 | INFO | fairseq.checkpoint_utils | Preparing to save checkpoint for epoch 34 @ 5449 updates\n",
      "2022-10-29 22:04:44 | INFO | fairseq.trainer | Saving checkpoint to /storage/master-thesis/models/capsnet__nah-es_es-en/checkpoint34.pt\n",
      "2022-10-29 22:04:46 | INFO | fairseq.trainer | Finished saving checkpoint to /storage/master-thesis/models/capsnet__nah-es_es-en/checkpoint34.pt\n",
      "2022-10-29 22:04:47 | INFO | fairseq.checkpoint_utils | Saved checkpoint /storage/master-thesis/models/capsnet__nah-es_es-en/checkpoint34.pt (epoch 34 @ 5449 updates, score 4.509) (writing took 2.9384107729420066 seconds)\n",
      "2022-10-29 22:04:47 | INFO | fairseq_cli.train | end of epoch 34 (average epoch stats below)\n",
      "2022-10-29 22:04:47 | INFO | train | epoch 034 | loss 3.145 | nll_loss 1.373 | ppl 2.59 | wps 18306.1 | ups 5.33 | wpb 3434 | bsz 274 | num_updates 5449 | lr 0.000428392 | gnorm 1.077 | loss_scale 8 | train_wall 134 | gb_free 12.2 | wall 1008\n",
      "2022-10-29 22:04:47 | INFO | fairseq.tasks.translation_multi_simple_epoch | start batch sampler: mem usage: N/A\n",
      "2022-10-29 22:04:47 | INFO | fairseq.tasks.translation_multi_simple_epoch | [train] @batch_sampler order indices time: 0:00:00.045073\n",
      "2022-10-29 22:04:47 | INFO | fairseq.tasks.translation_multi_simple_epoch | mem usage: N/A\n",
      "2022-10-29 22:04:47 | WARNING | fairseq.tasks.fairseq_task | 16 samples have invalid sizes and will be skipped, max_positions=(1024, 1024), first few sample ids=[3456, 779, 2750, 3774, 9221, 879, 5531, 6082, 9703, 4441]\n",
      "2022-10-29 22:04:47 | INFO | fairseq.tasks.translation_multi_simple_epoch | [train] @batch_sampler filter_by_size time: 0:00:00.003516\n",
      "2022-10-29 22:04:47 | INFO | fairseq.tasks.translation_multi_simple_epoch | mem usage: N/A\n",
      "2022-10-29 22:04:47 | INFO | fairseq.tasks.translation_multi_simple_epoch | [train] @batch_sampler batch_by_size time: 0:00:00.005448\n",
      "2022-10-29 22:04:47 | INFO | fairseq.tasks.translation_multi_simple_epoch | [train] per epoch batch_sampler set-up time: 0:00:00.054894\n",
      "2022-10-29 22:04:47 | INFO | fairseq.tasks.translation_multi_simple_epoch | mem usage: N/A\n",
      "2022-10-29 22:04:52 | INFO | fairseq.data.iterators | grouped total_num_itrs = 779\n",
      "epoch 035:   0%|                                        | 0/779 [00:00<?, ?it/s]2022-10-29 22:04:52 | INFO | fairseq.trainer | begin training epoch 35\n",
      "2022-10-29 22:04:52 | INFO | fairseq_cli.train | Start iterating over samples\n",
      "epoch 035:  24%|2| 184/779 [00:32<01:41,  5.85it/s, loss=3.161, nll_loss=1.384, Exception ignored in: <bound method _MultiProcessingDataLoaderIter.__del__ of <torch.utils.data.dataloader._MultiProcessingDataLoaderIter object at 0x7f2206ff2dd8>>\n",
      "Traceback (most recent call last):\n",
      "  File \"/usr/local/lib/python3.6/dist-packages/torch/utils/data/dataloader.py\", line 1328, in __del__\n",
      "    self._shutdown_workers()\n",
      "  File \"/usr/local/lib/python3.6/dist-packages/torch/utils/data/dataloader.py\", line 1320, in _shutdown_workers\n",
      "    if w.is_alive():\n",
      "  File \"/usr/lib/python3.6/multiprocessing/process.py\", line 134, in is_alive\n",
      "    assert self._parent_pid == os.getpid(), 'can only test a child process'\n",
      "AssertionError: can only test a child process\n",
      "Exception ignored in: <bound method _MultiProcessingDataLoaderIter.__del__ of <torch.utils.data.dataloader._MultiProcessingDataLoaderIter object at 0x7f2222010400>>\n",
      "Traceback (most recent call last):\n",
      "  File \"/usr/local/lib/python3.6/dist-packages/torch/utils/data/dataloader.py\", line 1328, in __del__\n",
      "    self._shutdown_workers()\n",
      "  File \"/usr/local/lib/python3.6/dist-packages/torch/utils/data/dataloader.py\", line 1320, in _shutdown_workers\n",
      "    if w.is_alive():\n",
      "  File \"/usr/lib/python3.6/multiprocessing/process.py\", line 134, in is_alive\n",
      "    assert self._parent_pid == os.getpid(), 'can only test a child process'\n",
      "AssertionError: can only test a child process\n",
      "Exception ignored in: <bound method _MultiProcessingDataLoaderIter.__del__ of <torch.utils.data.dataloader._MultiProcessingDataLoaderIter object at 0x7f222230da58>>\n",
      "Traceback (most recent call last):\n",
      "  File \"/usr/local/lib/python3.6/dist-packages/torch/utils/data/dataloader.py\", line 1328, in __del__\n",
      "    self._shutdown_workers()\n",
      "  File \"/usr/local/lib/python3.6/dist-packages/torch/utils/data/dataloader.py\", line 1320, in _shutdown_workers\n",
      "    if w.is_alive():\n",
      "  File \"/usr/lib/python3.6/multiprocessing/process.py\", line 134, in is_alive\n",
      "    assert self._parent_pid == os.getpid(), 'can only test a child process'\n",
      "AssertionError: can only test a child process\n",
      "Exception ignored in: <bound method _MultiProcessingDataLoaderIter.__del__ of <torch.utils.data.dataloader._MultiProcessingDataLoaderIter object at 0x7f2221e34ef0>>\n",
      "Traceback (most recent call last):\n",
      "  File \"/usr/local/lib/python3.6/dist-packages/torch/utils/data/dataloader.py\", line 1328, in __del__\n",
      "    self._shutdown_workers()\n",
      "  File \"/usr/local/lib/python3.6/dist-packages/torch/utils/data/dataloader.py\", line 1320, in _shutdown_workers\n",
      "    if w.is_alive():\n",
      "  File \"/usr/lib/python3.6/multiprocessing/process.py\", line 134, in is_alive\n",
      "    assert self._parent_pid == os.getpid(), 'can only test a child process'\n",
      "AssertionError: can only test a child process\n",
      "Exception ignored in: <bound method _MultiProcessingDataLoaderIter.__del__ of <torch.utils.data.dataloader._MultiProcessingDataLoaderIter object at 0x7f2222265908>>\n",
      "Traceback (most recent call last):\n",
      "  File \"/usr/local/lib/python3.6/dist-packages/torch/utils/data/dataloader.py\", line 1328, in __del__\n",
      "    self._shutdown_workers()\n",
      "  File \"/usr/local/lib/python3.6/dist-packages/torch/utils/data/dataloader.py\", line 1320, in _shutdown_workers\n",
      "    if w.is_alive():\n",
      "  File \"/usr/lib/python3.6/multiprocessing/process.py\", line 134, in is_alive\n",
      "    assert self._parent_pid == os.getpid(), 'can only test a child process'\n",
      "AssertionError: can only test a child process\n",
      "epoch 035: 100%|9| 778/779 [02:15<00:00,  5.93it/s, loss=3.147, nll_loss=1.38, p2022-10-29 22:07:08 | INFO | fairseq_cli.train | begin validation on \"valid\" subset\n",
      "2022-10-29 22:07:08 | INFO | fairseq.tasks.translation_multi_simple_epoch | start batch sampler: mem usage: N/A\n",
      "2022-10-29 22:07:08 | INFO | fairseq.tasks.translation_multi_simple_epoch | [valid] @batch_sampler order indices time: 0:00:00.001409\n",
      "2022-10-29 22:07:08 | INFO | fairseq.tasks.translation_multi_simple_epoch | mem usage: N/A\n",
      "2022-10-29 22:07:08 | INFO | fairseq.tasks.translation_multi_simple_epoch | [valid] @batch_sampler filter_by_size time: 0:00:00.039314\n",
      "2022-10-29 22:07:08 | INFO | fairseq.tasks.translation_multi_simple_epoch | mem usage: N/A\n",
      "2022-10-29 22:07:08 | INFO | fairseq.tasks.translation_multi_simple_epoch | [valid] @batch_sampler batch_by_size time: 0:00:00.029345\n",
      "2022-10-29 22:07:08 | INFO | fairseq.tasks.translation_multi_simple_epoch | [valid] per epoch batch_sampler set-up time: 0:00:00.070580\n",
      "2022-10-29 22:07:08 | INFO | fairseq.tasks.translation_multi_simple_epoch | mem usage: N/A\n",
      "\n",
      "epoch 035 | valid on 'valid' subset:   0%|               | 0/26 [00:00<?, ?it/s]\u001b[A\n",
      "epoch 035 | valid on 'valid' subset:   4%|2      | 1/26 [00:00<00:02,  9.29it/s]\u001b[A\n",
      "epoch 035 | valid on 'valid' subset:  12%|8      | 3/26 [00:00<00:02, 10.48it/s]\u001b[A\n",
      "epoch 035 | valid on 'valid' subset:  19%|#3     | 5/26 [00:00<00:01, 11.47it/s]\u001b[A\n",
      "epoch 035 | valid on 'valid' subset:  27%|#8     | 7/26 [00:00<00:01, 12.17it/s]\u001b[A\n",
      "epoch 035 | valid on 'valid' subset:  35%|##4    | 9/26 [00:00<00:01, 12.75it/s]\u001b[A\n",
      "epoch 035 | valid on 'valid' subset:  42%|##5   | 11/26 [00:00<00:01, 13.23it/s]\u001b[A\n",
      "epoch 035 | valid on 'valid' subset:  50%|###   | 13/26 [00:00<00:00, 13.60it/s]\u001b[A\n",
      "epoch 035 | valid on 'valid' subset:  58%|###4  | 15/26 [00:01<00:00, 13.92it/s]\u001b[A\n",
      "epoch 035 | valid on 'valid' subset:  65%|###9  | 17/26 [00:01<00:00, 14.15it/s]\u001b[A\n",
      "epoch 035 | valid on 'valid' subset:  73%|####3 | 19/26 [00:01<00:00, 14.23it/s]\u001b[A\n",
      "epoch 035 | valid on 'valid' subset:  81%|####8 | 21/26 [00:01<00:00, 14.24it/s]\u001b[A\n",
      "epoch 035 | valid on 'valid' subset:  88%|#####3| 23/26 [00:01<00:00, 14.31it/s]\u001b[A\n",
      "epoch 035 | valid on 'valid' subset:  96%|#####7| 25/26 [00:01<00:00, 14.69it/s]\u001b[A\n",
      "                                                                                \u001b[A2022-10-29 22:07:10 | INFO | valid | epoch 035 | valid on 'valid' subset | loss 4.468 | nll_loss 2.786 | ppl 6.9 | wps 37871.8 | wpb 2584 | bsz 204.4 | num_updates 6228 | best_loss 4.414\n",
      "2022-10-29 22:07:10 | INFO | fairseq.checkpoint_utils | Preparing to save checkpoint for epoch 35 @ 6228 updates\n",
      "2022-10-29 22:07:10 | INFO | fairseq.trainer | Saving checkpoint to /storage/master-thesis/models/capsnet__nah-es_es-en/checkpoint35.pt\n",
      "2022-10-29 22:07:12 | INFO | fairseq.trainer | Finished saving checkpoint to /storage/master-thesis/models/capsnet__nah-es_es-en/checkpoint35.pt\n",
      "2022-10-29 22:07:13 | INFO | fairseq.checkpoint_utils | Saved checkpoint /storage/master-thesis/models/capsnet__nah-es_es-en/checkpoint35.pt (epoch 35 @ 6228 updates, score 4.468) (writing took 3.049469355493784 seconds)\n",
      "2022-10-29 22:07:13 | INFO | fairseq_cli.train | end of epoch 35 (average epoch stats below)\n",
      "2022-10-29 22:07:13 | INFO | train | epoch 035 | loss 3.088 | nll_loss 1.31 | ppl 2.48 | wps 18331.2 | ups 5.34 | wpb 3434 | bsz 274 | num_updates 6228 | lr 0.000400706 | gnorm 1.005 | loss_scale 8 | train_wall 134 | gb_free 12.4 | wall 1154\n",
      "2022-10-29 22:07:13 | INFO | fairseq.tasks.translation_multi_simple_epoch | start batch sampler: mem usage: N/A\n",
      "2022-10-29 22:07:13 | INFO | fairseq.tasks.translation_multi_simple_epoch | [train] @batch_sampler order indices time: 0:00:00.044992\n",
      "2022-10-29 22:07:13 | INFO | fairseq.tasks.translation_multi_simple_epoch | mem usage: N/A\n",
      "2022-10-29 22:07:13 | WARNING | fairseq.tasks.fairseq_task | 16 samples have invalid sizes and will be skipped, max_positions=(1024, 1024), first few sample ids=[3456, 779, 2750, 3774, 9221, 879, 5531, 6082, 9703, 4441]\n",
      "2022-10-29 22:07:13 | INFO | fairseq.tasks.translation_multi_simple_epoch | [train] @batch_sampler filter_by_size time: 0:00:00.002980\n",
      "2022-10-29 22:07:13 | INFO | fairseq.tasks.translation_multi_simple_epoch | mem usage: N/A\n",
      "2022-10-29 22:07:13 | INFO | fairseq.tasks.translation_multi_simple_epoch | [train] @batch_sampler batch_by_size time: 0:00:00.005044\n",
      "2022-10-29 22:07:13 | INFO | fairseq.tasks.translation_multi_simple_epoch | [train] per epoch batch_sampler set-up time: 0:00:00.053717\n",
      "2022-10-29 22:07:13 | INFO | fairseq.tasks.translation_multi_simple_epoch | mem usage: N/A\n",
      "2022-10-29 22:07:18 | INFO | fairseq.data.iterators | grouped total_num_itrs = 779\n",
      "epoch 036:   0%|                                        | 0/779 [00:00<?, ?it/s]2022-10-29 22:07:18 | INFO | fairseq.trainer | begin training epoch 36\n",
      "2022-10-29 22:07:18 | INFO | fairseq_cli.train | Start iterating over samples\n",
      "epoch 036:  21%|2| 167/779 [00:28<01:49,  5.60it/s, loss=3.017, nll_loss=1.229, Exception ignored in: <bound method _MultiProcessingDataLoaderIter.__del__ of <torch.utils.data.dataloader._MultiProcessingDataLoaderIter object at 0x7f2206ff2dd8>>\n",
      "Traceback (most recent call last):\n",
      "  File \"/usr/local/lib/python3.6/dist-packages/torch/utils/data/dataloader.py\", line 1328, in __del__\n",
      "    self._shutdown_workers()\n",
      "  File \"/usr/local/lib/python3.6/dist-packages/torch/utils/data/dataloader.py\", line 1320, in _shutdown_workers\n",
      "    if w.is_alive():\n",
      "  File \"/usr/lib/python3.6/multiprocessing/process.py\", line 134, in is_alive\n",
      "    assert self._parent_pid == os.getpid(), 'can only test a child process'\n",
      "AssertionError: can only test a child process\n",
      "Exception ignored in: <bound method _MultiProcessingDataLoaderIter.__del__ of <torch.utils.data.dataloader._MultiProcessingDataLoaderIter object at 0x7f2222010400>>\n",
      "Traceback (most recent call last):\n",
      "  File \"/usr/local/lib/python3.6/dist-packages/torch/utils/data/dataloader.py\", line 1328, in __del__\n",
      "    self._shutdown_workers()\n",
      "  File \"/usr/local/lib/python3.6/dist-packages/torch/utils/data/dataloader.py\", line 1320, in _shutdown_workers\n",
      "    if w.is_alive():\n",
      "  File \"/usr/lib/python3.6/multiprocessing/process.py\", line 134, in is_alive\n",
      "    assert self._parent_pid == os.getpid(), 'can only test a child process'\n",
      "AssertionError: can only test a child process\n",
      "Exception ignored in: <bound method _MultiProcessingDataLoaderIter.__del__ of <torch.utils.data.dataloader._MultiProcessingDataLoaderIter object at 0x7f222230da58>>\n",
      "Traceback (most recent call last):\n",
      "  File \"/usr/local/lib/python3.6/dist-packages/torch/utils/data/dataloader.py\", line 1328, in __del__\n",
      "    self._shutdown_workers()\n",
      "  File \"/usr/local/lib/python3.6/dist-packages/torch/utils/data/dataloader.py\", line 1320, in _shutdown_workers\n",
      "    if w.is_alive():\n",
      "  File \"/usr/lib/python3.6/multiprocessing/process.py\", line 134, in is_alive\n",
      "    assert self._parent_pid == os.getpid(), 'can only test a child process'\n",
      "AssertionError: can only test a child process\n",
      "Exception ignored in: <bound method _MultiProcessingDataLoaderIter.__del__ of <torch.utils.data.dataloader._MultiProcessingDataLoaderIter object at 0x7f2221e34ef0>>\n",
      "Traceback (most recent call last):\n",
      "  File \"/usr/local/lib/python3.6/dist-packages/torch/utils/data/dataloader.py\", line 1328, in __del__\n",
      "    self._shutdown_workers()\n",
      "  File \"/usr/local/lib/python3.6/dist-packages/torch/utils/data/dataloader.py\", line 1320, in _shutdown_workers\n",
      "    if w.is_alive():\n",
      "  File \"/usr/lib/python3.6/multiprocessing/process.py\", line 134, in is_alive\n",
      "    assert self._parent_pid == os.getpid(), 'can only test a child process'\n",
      "AssertionError: can only test a child process\n",
      "Exception ignored in: <bound method _MultiProcessingDataLoaderIter.__del__ of <torch.utils.data.dataloader._MultiProcessingDataLoaderIter object at 0x7f2222265908>>\n",
      "Traceback (most recent call last):\n",
      "  File \"/usr/local/lib/python3.6/dist-packages/torch/utils/data/dataloader.py\", line 1328, in __del__\n",
      "    self._shutdown_workers()\n",
      "  File \"/usr/local/lib/python3.6/dist-packages/torch/utils/data/dataloader.py\", line 1320, in _shutdown_workers\n",
      "    if w.is_alive():\n",
      "  File \"/usr/lib/python3.6/multiprocessing/process.py\", line 134, in is_alive\n",
      "    assert self._parent_pid == os.getpid(), 'can only test a child process'\n",
      "AssertionError: can only test a child process\n",
      "Exception ignored in: <bound method _MultiProcessingDataLoaderIter.__del__ of <torch.utils.data.dataloader._MultiProcessingDataLoaderIter object at 0x7f222236eb70>>\n",
      "Traceback (most recent call last):\n",
      "  File \"/usr/local/lib/python3.6/dist-packages/torch/utils/data/dataloader.py\", line 1328, in __del__\n",
      "    self._shutdown_workers()\n",
      "  File \"/usr/local/lib/python3.6/dist-packages/torch/utils/data/dataloader.py\", line 1320, in _shutdown_workers\n",
      "    if w.is_alive():\n",
      "  File \"/usr/lib/python3.6/multiprocessing/process.py\", line 134, in is_alive\n",
      "    assert self._parent_pid == os.getpid(), 'can only test a child process'\n",
      "AssertionError: can only test a child process\n",
      "epoch 036: 100%|9| 778/779 [02:15<00:00,  5.73it/s, loss=3.057, nll_loss=1.279, 2022-10-29 22:09:34 | INFO | fairseq_cli.train | begin validation on \"valid\" subset\n",
      "2022-10-29 22:09:34 | INFO | fairseq.tasks.translation_multi_simple_epoch | start batch sampler: mem usage: N/A\n",
      "2022-10-29 22:09:34 | INFO | fairseq.tasks.translation_multi_simple_epoch | [valid] @batch_sampler order indices time: 0:00:00.002257\n",
      "2022-10-29 22:09:34 | INFO | fairseq.tasks.translation_multi_simple_epoch | mem usage: N/A\n",
      "2022-10-29 22:09:34 | INFO | fairseq.tasks.translation_multi_simple_epoch | [valid] @batch_sampler filter_by_size time: 0:00:00.041749\n",
      "2022-10-29 22:09:34 | INFO | fairseq.tasks.translation_multi_simple_epoch | mem usage: N/A\n",
      "2022-10-29 22:09:34 | INFO | fairseq.tasks.translation_multi_simple_epoch | [valid] @batch_sampler batch_by_size time: 0:00:00.030196\n",
      "2022-10-29 22:09:34 | INFO | fairseq.tasks.translation_multi_simple_epoch | [valid] per epoch batch_sampler set-up time: 0:00:00.074992\n",
      "2022-10-29 22:09:34 | INFO | fairseq.tasks.translation_multi_simple_epoch | mem usage: N/A\n",
      "\n",
      "epoch 036 | valid on 'valid' subset:   0%|               | 0/26 [00:00<?, ?it/s]\u001b[A\n",
      "epoch 036 | valid on 'valid' subset:   4%|2      | 1/26 [00:00<00:02,  8.77it/s]\u001b[A\n",
      "epoch 036 | valid on 'valid' subset:  12%|8      | 3/26 [00:00<00:02,  9.94it/s]\u001b[A\n",
      "epoch 036 | valid on 'valid' subset:  19%|#3     | 5/26 [00:00<00:01, 10.97it/s]\u001b[A\n",
      "epoch 036 | valid on 'valid' subset:  27%|#8     | 7/26 [00:00<00:01, 11.75it/s]\u001b[A\n",
      "epoch 036 | valid on 'valid' subset:  35%|##4    | 9/26 [00:00<00:01, 12.32it/s]\u001b[A\n",
      "epoch 036 | valid on 'valid' subset:  42%|##5   | 11/26 [00:00<00:01, 12.68it/s]\u001b[A\n",
      "epoch 036 | valid on 'valid' subset:  50%|###   | 13/26 [00:00<00:00, 13.05it/s]\u001b[A\n",
      "epoch 036 | valid on 'valid' subset:  58%|###4  | 15/26 [00:01<00:00, 13.47it/s]\u001b[A\n",
      "epoch 036 | valid on 'valid' subset:  65%|###9  | 17/26 [00:01<00:00, 13.66it/s]\u001b[A\n",
      "epoch 036 | valid on 'valid' subset:  73%|####3 | 19/26 [00:01<00:00, 13.76it/s]\u001b[A\n",
      "epoch 036 | valid on 'valid' subset:  81%|####8 | 21/26 [00:01<00:00, 13.78it/s]\u001b[A\n",
      "epoch 036 | valid on 'valid' subset:  88%|#####3| 23/26 [00:01<00:00, 13.83it/s]\u001b[A\n",
      "epoch 036 | valid on 'valid' subset:  96%|#####7| 25/26 [00:01<00:00, 14.32it/s]\u001b[A\n",
      "                                                                                \u001b[A2022-10-29 22:09:36 | INFO | valid | epoch 036 | valid on 'valid' subset | loss 4.448 | nll_loss 2.745 | ppl 6.7 | wps 36778.7 | wpb 2584 | bsz 204.4 | num_updates 7007 | best_loss 4.414\n",
      "2022-10-29 22:09:36 | INFO | fairseq.checkpoint_utils | Preparing to save checkpoint for epoch 36 @ 7007 updates\n",
      "2022-10-29 22:09:36 | INFO | fairseq.trainer | Saving checkpoint to /storage/master-thesis/models/capsnet__nah-es_es-en/checkpoint36.pt\n",
      "2022-10-29 22:09:38 | INFO | fairseq.trainer | Finished saving checkpoint to /storage/master-thesis/models/capsnet__nah-es_es-en/checkpoint36.pt\n",
      "2022-10-29 22:09:39 | INFO | fairseq.checkpoint_utils | Saved checkpoint /storage/master-thesis/models/capsnet__nah-es_es-en/checkpoint36.pt (epoch 36 @ 7007 updates, score 4.448) (writing took 3.080859827809036 seconds)\n",
      "2022-10-29 22:09:39 | INFO | fairseq_cli.train | end of epoch 36 (average epoch stats below)\n",
      "2022-10-29 22:09:39 | INFO | train | epoch 036 | loss 3.041 | nll_loss 1.257 | ppl 2.39 | wps 18330.3 | ups 5.34 | wpb 3434 | bsz 274 | num_updates 7007 | lr 0.000377776 | gnorm 1.026 | loss_scale 8 | train_wall 134 | gb_free 12.1 | wall 1300\n",
      "2022-10-29 22:09:39 | INFO | fairseq.tasks.translation_multi_simple_epoch | start batch sampler: mem usage: N/A\n",
      "2022-10-29 22:09:39 | INFO | fairseq.tasks.translation_multi_simple_epoch | [train] @batch_sampler order indices time: 0:00:00.046605\n",
      "2022-10-29 22:09:39 | INFO | fairseq.tasks.translation_multi_simple_epoch | mem usage: N/A\n",
      "2022-10-29 22:09:39 | WARNING | fairseq.tasks.fairseq_task | 16 samples have invalid sizes and will be skipped, max_positions=(1024, 1024), first few sample ids=[3456, 779, 2750, 3774, 9221, 879, 5531, 6082, 9703, 4441]\n",
      "2022-10-29 22:09:39 | INFO | fairseq.tasks.translation_multi_simple_epoch | [train] @batch_sampler filter_by_size time: 0:00:00.003142\n",
      "2022-10-29 22:09:39 | INFO | fairseq.tasks.translation_multi_simple_epoch | mem usage: N/A\n",
      "2022-10-29 22:09:39 | INFO | fairseq.tasks.translation_multi_simple_epoch | [train] @batch_sampler batch_by_size time: 0:00:00.005416\n",
      "2022-10-29 22:09:39 | INFO | fairseq.tasks.translation_multi_simple_epoch | [train] per epoch batch_sampler set-up time: 0:00:00.055909\n",
      "2022-10-29 22:09:39 | INFO | fairseq.tasks.translation_multi_simple_epoch | mem usage: N/A\n",
      "2022-10-29 22:09:44 | INFO | fairseq.data.iterators | grouped total_num_itrs = 779\n",
      "epoch 037:   0%|                                        | 0/779 [00:00<?, ?it/s]2022-10-29 22:09:44 | INFO | fairseq.trainer | begin training epoch 37\n",
      "2022-10-29 22:09:44 | INFO | fairseq_cli.train | Start iterating over samples\n",
      "epoch 037:  16%|1| 123/779 [00:21<01:41,  6.49it/s, loss=2.843, nll_loss=1.038, Exception ignored in: <bound method _MultiProcessingDataLoaderIter.__del__ of <torch.utils.data.dataloader._MultiProcessingDataLoaderIter object at 0x7f2206ff2dd8>>\n",
      "Traceback (most recent call last):\n",
      "  File \"/usr/local/lib/python3.6/dist-packages/torch/utils/data/dataloader.py\", line 1328, in __del__\n",
      "    self._shutdown_workers()\n",
      "  File \"/usr/local/lib/python3.6/dist-packages/torch/utils/data/dataloader.py\", line 1320, in _shutdown_workers\n",
      "    if w.is_alive():\n",
      "  File \"/usr/lib/python3.6/multiprocessing/process.py\", line 134, in is_alive\n",
      "    assert self._parent_pid == os.getpid(), 'can only test a child process'\n",
      "AssertionError: can only test a child process\n",
      "Exception ignored in: <bound method _MultiProcessingDataLoaderIter.__del__ of <torch.utils.data.dataloader._MultiProcessingDataLoaderIter object at 0x7f2222010400>>\n",
      "Traceback (most recent call last):\n",
      "  File \"/usr/local/lib/python3.6/dist-packages/torch/utils/data/dataloader.py\", line 1328, in __del__\n",
      "    self._shutdown_workers()\n",
      "  File \"/usr/local/lib/python3.6/dist-packages/torch/utils/data/dataloader.py\", line 1320, in _shutdown_workers\n",
      "    if w.is_alive():\n",
      "  File \"/usr/lib/python3.6/multiprocessing/process.py\", line 134, in is_alive\n",
      "    assert self._parent_pid == os.getpid(), 'can only test a child process'\n",
      "AssertionError: can only test a child process\n",
      "Exception ignored in: <bound method _MultiProcessingDataLoaderIter.__del__ of <torch.utils.data.dataloader._MultiProcessingDataLoaderIter object at 0x7f222230da58>>\n",
      "Traceback (most recent call last):\n",
      "  File \"/usr/local/lib/python3.6/dist-packages/torch/utils/data/dataloader.py\", line 1328, in __del__\n",
      "    self._shutdown_workers()\n",
      "  File \"/usr/local/lib/python3.6/dist-packages/torch/utils/data/dataloader.py\", line 1320, in _shutdown_workers\n",
      "    if w.is_alive():\n",
      "  File \"/usr/lib/python3.6/multiprocessing/process.py\", line 134, in is_alive\n",
      "    assert self._parent_pid == os.getpid(), 'can only test a child process'\n",
      "AssertionError: can only test a child process\n",
      "Exception ignored in: <bound method _MultiProcessingDataLoaderIter.__del__ of <torch.utils.data.dataloader._MultiProcessingDataLoaderIter object at 0x7f2221e34ef0>>\n",
      "Traceback (most recent call last):\n",
      "  File \"/usr/local/lib/python3.6/dist-packages/torch/utils/data/dataloader.py\", line 1328, in __del__\n",
      "    self._shutdown_workers()\n",
      "  File \"/usr/local/lib/python3.6/dist-packages/torch/utils/data/dataloader.py\", line 1320, in _shutdown_workers\n",
      "    if w.is_alive():\n",
      "  File \"/usr/lib/python3.6/multiprocessing/process.py\", line 134, in is_alive\n",
      "    assert self._parent_pid == os.getpid(), 'can only test a child process'\n",
      "AssertionError: can only test a child process\n",
      "Exception ignored in: <bound method _MultiProcessingDataLoaderIter.__del__ of <torch.utils.data.dataloader._MultiProcessingDataLoaderIter object at 0x7f2222265908>>\n",
      "Traceback (most recent call last):\n",
      "  File \"/usr/local/lib/python3.6/dist-packages/torch/utils/data/dataloader.py\", line 1328, in __del__\n",
      "    self._shutdown_workers()\n",
      "  File \"/usr/local/lib/python3.6/dist-packages/torch/utils/data/dataloader.py\", line 1320, in _shutdown_workers\n",
      "    if w.is_alive():\n",
      "  File \"/usr/lib/python3.6/multiprocessing/process.py\", line 134, in is_alive\n",
      "    assert self._parent_pid == os.getpid(), 'can only test a child process'\n",
      "AssertionError: can only test a child process\n",
      "Exception ignored in: <bound method _MultiProcessingDataLoaderIter.__del__ of <torch.utils.data.dataloader._MultiProcessingDataLoaderIter object at 0x7f222236eb70>>\n",
      "Traceback (most recent call last):\n",
      "  File \"/usr/local/lib/python3.6/dist-packages/torch/utils/data/dataloader.py\", line 1328, in __del__\n",
      "    self._shutdown_workers()\n",
      "  File \"/usr/local/lib/python3.6/dist-packages/torch/utils/data/dataloader.py\", line 1320, in _shutdown_workers\n",
      "    if w.is_alive():\n",
      "  File \"/usr/lib/python3.6/multiprocessing/process.py\", line 134, in is_alive\n",
      "    assert self._parent_pid == os.getpid(), 'can only test a child process'\n",
      "AssertionError: can only test a child process\n",
      "Exception ignored in: <bound method _MultiProcessingDataLoaderIter.__del__ of <torch.utils.data.dataloader._MultiProcessingDataLoaderIter object at 0x7f22220adcc0>>\n",
      "Traceback (most recent call last):\n",
      "  File \"/usr/local/lib/python3.6/dist-packages/torch/utils/data/dataloader.py\", line 1328, in __del__\n",
      "    self._shutdown_workers()\n",
      "  File \"/usr/local/lib/python3.6/dist-packages/torch/utils/data/dataloader.py\", line 1320, in _shutdown_workers\n",
      "    if w.is_alive():\n",
      "  File \"/usr/lib/python3.6/multiprocessing/process.py\", line 134, in is_alive\n",
      "    assert self._parent_pid == os.getpid(), 'can only test a child process'\n",
      "AssertionError: can only test a child process\n",
      "epoch 037: 100%|9| 778/779 [02:15<00:00,  5.67it/s, loss=3.035, nll_loss=1.252, 2022-10-29 22:12:00 | INFO | fairseq_cli.train | begin validation on \"valid\" subset\n",
      "2022-10-29 22:12:00 | INFO | fairseq.tasks.translation_multi_simple_epoch | start batch sampler: mem usage: N/A\n",
      "2022-10-29 22:12:00 | INFO | fairseq.tasks.translation_multi_simple_epoch | [valid] @batch_sampler order indices time: 0:00:00.002729\n",
      "2022-10-29 22:12:00 | INFO | fairseq.tasks.translation_multi_simple_epoch | mem usage: N/A\n",
      "2022-10-29 22:12:00 | INFO | fairseq.tasks.translation_multi_simple_epoch | [valid] @batch_sampler filter_by_size time: 0:00:00.041590\n",
      "2022-10-29 22:12:00 | INFO | fairseq.tasks.translation_multi_simple_epoch | mem usage: N/A\n",
      "2022-10-29 22:12:00 | INFO | fairseq.tasks.translation_multi_simple_epoch | [valid] @batch_sampler batch_by_size time: 0:00:00.032328\n",
      "2022-10-29 22:12:00 | INFO | fairseq.tasks.translation_multi_simple_epoch | [valid] per epoch batch_sampler set-up time: 0:00:00.077572\n",
      "2022-10-29 22:12:00 | INFO | fairseq.tasks.translation_multi_simple_epoch | mem usage: N/A\n",
      "\n",
      "epoch 037 | valid on 'valid' subset:   0%|               | 0/26 [00:00<?, ?it/s]\u001b[A\n",
      "epoch 037 | valid on 'valid' subset:   4%|2      | 1/26 [00:00<00:02,  8.93it/s]\u001b[A\n",
      "epoch 037 | valid on 'valid' subset:  12%|8      | 3/26 [00:00<00:02, 10.14it/s]\u001b[A\n",
      "epoch 037 | valid on 'valid' subset:  19%|#3     | 5/26 [00:00<00:01, 11.14it/s]\u001b[A\n",
      "epoch 037 | valid on 'valid' subset:  27%|#8     | 7/26 [00:00<00:01, 11.95it/s]\u001b[A\n",
      "epoch 037 | valid on 'valid' subset:  35%|##4    | 9/26 [00:00<00:01, 12.63it/s]\u001b[A\n",
      "epoch 037 | valid on 'valid' subset:  42%|##5   | 11/26 [00:00<00:01, 13.17it/s]\u001b[A\n",
      "epoch 037 | valid on 'valid' subset:  50%|###   | 13/26 [00:00<00:00, 13.48it/s]\u001b[A\n",
      "epoch 037 | valid on 'valid' subset:  58%|###4  | 15/26 [00:01<00:00, 13.66it/s]\u001b[A\n",
      "epoch 037 | valid on 'valid' subset:  65%|###9  | 17/26 [00:01<00:00, 13.81it/s]\u001b[A\n",
      "epoch 037 | valid on 'valid' subset:  73%|####3 | 19/26 [00:01<00:00, 13.77it/s]\u001b[A\n",
      "epoch 037 | valid on 'valid' subset:  81%|####8 | 21/26 [00:01<00:00, 13.97it/s]\u001b[A\n",
      "epoch 037 | valid on 'valid' subset:  88%|#####3| 23/26 [00:01<00:00, 14.10it/s]\u001b[A\n",
      "epoch 037 | valid on 'valid' subset:  96%|#####7| 25/26 [00:01<00:00, 14.75it/s]\u001b[A\n",
      "                                                                                \u001b[A2022-10-29 22:12:02 | INFO | valid | epoch 037 | valid on 'valid' subset | loss 4.418 | nll_loss 2.724 | ppl 6.61 | wps 37604.9 | wpb 2584 | bsz 204.4 | num_updates 7786 | best_loss 4.414\n",
      "2022-10-29 22:12:02 | INFO | fairseq.checkpoint_utils | Preparing to save checkpoint for epoch 37 @ 7786 updates\n",
      "2022-10-29 22:12:02 | INFO | fairseq.trainer | Saving checkpoint to /storage/master-thesis/models/capsnet__nah-es_es-en/checkpoint37.pt\n",
      "2022-10-29 22:12:04 | INFO | fairseq.trainer | Finished saving checkpoint to /storage/master-thesis/models/capsnet__nah-es_es-en/checkpoint37.pt\n",
      "2022-10-29 22:12:05 | INFO | fairseq.checkpoint_utils | Saved checkpoint /storage/master-thesis/models/capsnet__nah-es_es-en/checkpoint37.pt (epoch 37 @ 7786 updates, score 4.418) (writing took 2.9652515072375536 seconds)\n",
      "2022-10-29 22:12:05 | INFO | fairseq_cli.train | end of epoch 37 (average epoch stats below)\n",
      "2022-10-29 22:12:05 | INFO | train | epoch 037 | loss 3 | nll_loss 1.211 | ppl 2.31 | wps 18353.5 | ups 5.34 | wpb 3434 | bsz 274 | num_updates 7786 | lr 0.000358379 | gnorm 0.972 | loss_scale 8 | train_wall 134 | gb_free 12.1 | wall 1446\n",
      "2022-10-29 22:12:05 | INFO | fairseq.tasks.translation_multi_simple_epoch | start batch sampler: mem usage: N/A\n",
      "2022-10-29 22:12:05 | INFO | fairseq.tasks.translation_multi_simple_epoch | [train] @batch_sampler order indices time: 0:00:00.043876\n",
      "2022-10-29 22:12:05 | INFO | fairseq.tasks.translation_multi_simple_epoch | mem usage: N/A\n",
      "2022-10-29 22:12:05 | WARNING | fairseq.tasks.fairseq_task | 16 samples have invalid sizes and will be skipped, max_positions=(1024, 1024), first few sample ids=[3456, 779, 2750, 3774, 9221, 879, 5531, 6082, 9703, 4441]\n",
      "2022-10-29 22:12:05 | INFO | fairseq.tasks.translation_multi_simple_epoch | [train] @batch_sampler filter_by_size time: 0:00:00.003417\n",
      "2022-10-29 22:12:05 | INFO | fairseq.tasks.translation_multi_simple_epoch | mem usage: N/A\n",
      "2022-10-29 22:12:05 | INFO | fairseq.tasks.translation_multi_simple_epoch | [train] @batch_sampler batch_by_size time: 0:00:00.007103\n",
      "2022-10-29 22:12:05 | INFO | fairseq.tasks.translation_multi_simple_epoch | [train] per epoch batch_sampler set-up time: 0:00:00.055247\n",
      "2022-10-29 22:12:05 | INFO | fairseq.tasks.translation_multi_simple_epoch | mem usage: N/A\n",
      "2022-10-29 22:12:10 | INFO | fairseq.data.iterators | grouped total_num_itrs = 779\n",
      "epoch 038:   0%|                                        | 0/779 [00:00<?, ?it/s]2022-10-29 22:12:10 | INFO | fairseq.trainer | begin training epoch 38\n",
      "2022-10-29 22:12:10 | INFO | fairseq_cli.train | Start iterating over samples\n",
      "epoch 038:  17%|1| 136/779 [00:23<01:50,  5.83it/s, loss=2.869, nll_loss=1.06, pException ignored in: <bound method _MultiProcessingDataLoaderIter.__del__ of <torch.utils.data.dataloader._MultiProcessingDataLoaderIter object at 0x7f2206ff2dd8>>\n",
      "Traceback (most recent call last):\n",
      "  File \"/usr/local/lib/python3.6/dist-packages/torch/utils/data/dataloader.py\", line 1328, in __del__\n",
      "    self._shutdown_workers()\n",
      "  File \"/usr/local/lib/python3.6/dist-packages/torch/utils/data/dataloader.py\", line 1320, in _shutdown_workers\n",
      "    if w.is_alive():\n",
      "  File \"/usr/lib/python3.6/multiprocessing/process.py\", line 134, in is_alive\n",
      "    assert self._parent_pid == os.getpid(), 'can only test a child process'\n",
      "AssertionError: can only test a child process\n",
      "Exception ignored in: <bound method _MultiProcessingDataLoaderIter.__del__ of <torch.utils.data.dataloader._MultiProcessingDataLoaderIter object at 0x7f2222010400>>\n",
      "Traceback (most recent call last):\n",
      "  File \"/usr/local/lib/python3.6/dist-packages/torch/utils/data/dataloader.py\", line 1328, in __del__\n",
      "    self._shutdown_workers()\n",
      "  File \"/usr/local/lib/python3.6/dist-packages/torch/utils/data/dataloader.py\", line 1320, in _shutdown_workers\n",
      "    if w.is_alive():\n",
      "  File \"/usr/lib/python3.6/multiprocessing/process.py\", line 134, in is_alive\n",
      "    assert self._parent_pid == os.getpid(), 'can only test a child process'\n",
      "AssertionError: can only test a child process\n",
      "Exception ignored in: <bound method _MultiProcessingDataLoaderIter.__del__ of <torch.utils.data.dataloader._MultiProcessingDataLoaderIter object at 0x7f222230da58>>\n",
      "Traceback (most recent call last):\n",
      "  File \"/usr/local/lib/python3.6/dist-packages/torch/utils/data/dataloader.py\", line 1328, in __del__\n",
      "    self._shutdown_workers()\n",
      "  File \"/usr/local/lib/python3.6/dist-packages/torch/utils/data/dataloader.py\", line 1320, in _shutdown_workers\n",
      "    if w.is_alive():\n",
      "  File \"/usr/lib/python3.6/multiprocessing/process.py\", line 134, in is_alive\n",
      "    assert self._parent_pid == os.getpid(), 'can only test a child process'\n",
      "AssertionError: can only test a child process\n",
      "Exception ignored in: <bound method _MultiProcessingDataLoaderIter.__del__ of <torch.utils.data.dataloader._MultiProcessingDataLoaderIter object at 0x7f2221e34ef0>>\n",
      "Traceback (most recent call last):\n",
      "  File \"/usr/local/lib/python3.6/dist-packages/torch/utils/data/dataloader.py\", line 1328, in __del__\n",
      "    self._shutdown_workers()\n",
      "  File \"/usr/local/lib/python3.6/dist-packages/torch/utils/data/dataloader.py\", line 1320, in _shutdown_workers\n",
      "    if w.is_alive():\n",
      "  File \"/usr/lib/python3.6/multiprocessing/process.py\", line 134, in is_alive\n",
      "    assert self._parent_pid == os.getpid(), 'can only test a child process'\n",
      "AssertionError: can only test a child process\n",
      "Exception ignored in: <bound method _MultiProcessingDataLoaderIter.__del__ of <torch.utils.data.dataloader._MultiProcessingDataLoaderIter object at 0x7f2222265908>>\n",
      "Traceback (most recent call last):\n",
      "  File \"/usr/local/lib/python3.6/dist-packages/torch/utils/data/dataloader.py\", line 1328, in __del__\n",
      "    self._shutdown_workers()\n",
      "  File \"/usr/local/lib/python3.6/dist-packages/torch/utils/data/dataloader.py\", line 1320, in _shutdown_workers\n",
      "    if w.is_alive():\n",
      "  File \"/usr/lib/python3.6/multiprocessing/process.py\", line 134, in is_alive\n",
      "    assert self._parent_pid == os.getpid(), 'can only test a child process'\n",
      "AssertionError: can only test a child process\n",
      "Exception ignored in: <bound method _MultiProcessingDataLoaderIter.__del__ of <torch.utils.data.dataloader._MultiProcessingDataLoaderIter object at 0x7f222236eb70>>\n",
      "Traceback (most recent call last):\n",
      "  File \"/usr/local/lib/python3.6/dist-packages/torch/utils/data/dataloader.py\", line 1328, in __del__\n",
      "    self._shutdown_workers()\n",
      "  File \"/usr/local/lib/python3.6/dist-packages/torch/utils/data/dataloader.py\", line 1320, in _shutdown_workers\n",
      "    if w.is_alive():\n",
      "  File \"/usr/lib/python3.6/multiprocessing/process.py\", line 134, in is_alive\n",
      "    assert self._parent_pid == os.getpid(), 'can only test a child process'\n",
      "AssertionError: can only test a child process\n",
      "Exception ignored in: <bound method _MultiProcessingDataLoaderIter.__del__ of <torch.utils.data.dataloader._MultiProcessingDataLoaderIter object at 0x7f22220adcc0>>\n",
      "Traceback (most recent call last):\n",
      "  File \"/usr/local/lib/python3.6/dist-packages/torch/utils/data/dataloader.py\", line 1328, in __del__\n",
      "    self._shutdown_workers()\n",
      "  File \"/usr/local/lib/python3.6/dist-packages/torch/utils/data/dataloader.py\", line 1320, in _shutdown_workers\n",
      "    if w.is_alive():\n",
      "  File \"/usr/lib/python3.6/multiprocessing/process.py\", line 134, in is_alive\n",
      "    assert self._parent_pid == os.getpid(), 'can only test a child process'\n",
      "AssertionError: can only test a child process\n",
      "Exception ignored in: <bound method _MultiProcessingDataLoaderIter.__del__ of <torch.utils.data.dataloader._MultiProcessingDataLoaderIter object at 0x7f2221eedfd0>>\n",
      "Traceback (most recent call last):\n",
      "  File \"/usr/local/lib/python3.6/dist-packages/torch/utils/data/dataloader.py\", line 1328, in __del__\n",
      "    self._shutdown_workers()\n",
      "  File \"/usr/local/lib/python3.6/dist-packages/torch/utils/data/dataloader.py\", line 1320, in _shutdown_workers\n",
      "    if w.is_alive():\n",
      "  File \"/usr/lib/python3.6/multiprocessing/process.py\", line 134, in is_alive\n",
      "    assert self._parent_pid == os.getpid(), 'can only test a child process'\n",
      "AssertionError: can only test a child process\n",
      "epoch 038: 100%|9| 778/779 [02:15<00:00,  5.50it/s, loss=3.118, nll_loss=1.343, 2022-10-29 22:14:26 | INFO | fairseq_cli.train | begin validation on \"valid\" subset\n",
      "2022-10-29 22:14:26 | INFO | fairseq.tasks.translation_multi_simple_epoch | start batch sampler: mem usage: N/A\n",
      "2022-10-29 22:14:26 | INFO | fairseq.tasks.translation_multi_simple_epoch | [valid] @batch_sampler order indices time: 0:00:00.002507\n",
      "2022-10-29 22:14:26 | INFO | fairseq.tasks.translation_multi_simple_epoch | mem usage: N/A\n",
      "2022-10-29 22:14:26 | INFO | fairseq.tasks.translation_multi_simple_epoch | [valid] @batch_sampler filter_by_size time: 0:00:00.043423\n",
      "2022-10-29 22:14:26 | INFO | fairseq.tasks.translation_multi_simple_epoch | mem usage: N/A\n",
      "2022-10-29 22:14:26 | INFO | fairseq.tasks.translation_multi_simple_epoch | [valid] @batch_sampler batch_by_size time: 0:00:00.032465\n",
      "2022-10-29 22:14:26 | INFO | fairseq.tasks.translation_multi_simple_epoch | [valid] per epoch batch_sampler set-up time: 0:00:00.079083\n",
      "2022-10-29 22:14:26 | INFO | fairseq.tasks.translation_multi_simple_epoch | mem usage: N/A\n",
      "\n",
      "epoch 038 | valid on 'valid' subset:   0%|               | 0/26 [00:00<?, ?it/s]\u001b[A\n",
      "epoch 038 | valid on 'valid' subset:   4%|2      | 1/26 [00:00<00:02,  9.26it/s]\u001b[A\n",
      "epoch 038 | valid on 'valid' subset:  12%|8      | 3/26 [00:00<00:02, 10.32it/s]\u001b[A\n",
      "epoch 038 | valid on 'valid' subset:  19%|#3     | 5/26 [00:00<00:01, 11.20it/s]\u001b[A\n",
      "epoch 038 | valid on 'valid' subset:  27%|#8     | 7/26 [00:00<00:01, 11.89it/s]\u001b[A\n",
      "epoch 038 | valid on 'valid' subset:  35%|##4    | 9/26 [00:00<00:01, 12.43it/s]\u001b[A\n",
      "epoch 038 | valid on 'valid' subset:  42%|##5   | 11/26 [00:00<00:01, 12.82it/s]\u001b[A\n",
      "epoch 038 | valid on 'valid' subset:  50%|###   | 13/26 [00:00<00:00, 13.10it/s]\u001b[A\n",
      "epoch 038 | valid on 'valid' subset:  58%|###4  | 15/26 [00:01<00:00, 13.45it/s]\u001b[A\n",
      "epoch 038 | valid on 'valid' subset:  65%|###9  | 17/26 [00:01<00:00, 13.56it/s]\u001b[A\n",
      "epoch 038 | valid on 'valid' subset:  73%|####3 | 19/26 [00:01<00:00, 13.72it/s]\u001b[A\n",
      "epoch 038 | valid on 'valid' subset:  81%|####8 | 21/26 [00:01<00:00, 13.77it/s]\u001b[A\n",
      "epoch 038 | valid on 'valid' subset:  88%|#####3| 23/26 [00:01<00:00, 13.74it/s]\u001b[A\n",
      "epoch 038 | valid on 'valid' subset:  96%|#####7| 25/26 [00:01<00:00, 14.30it/s]\u001b[A\n",
      "                                                                                \u001b[A2022-10-29 22:14:28 | INFO | valid | epoch 038 | valid on 'valid' subset | loss 4.463 | nll_loss 2.77 | ppl 6.82 | wps 36431 | wpb 2584 | bsz 204.4 | num_updates 8565 | best_loss 4.414\n",
      "2022-10-29 22:14:28 | INFO | fairseq_cli.train | early stop since valid performance hasn't improved for last 10 runs\n",
      "2022-10-29 22:14:28 | INFO | fairseq.checkpoint_utils | Preparing to save checkpoint for epoch 38 @ 8565 updates\n",
      "2022-10-29 22:14:28 | INFO | fairseq.trainer | Saving checkpoint to /storage/master-thesis/models/capsnet__nah-es_es-en/checkpoint38.pt\n",
      "2022-10-29 22:14:30 | INFO | fairseq.trainer | Finished saving checkpoint to /storage/master-thesis/models/capsnet__nah-es_es-en/checkpoint38.pt\n",
      "2022-10-29 22:14:31 | INFO | fairseq.checkpoint_utils | Saved checkpoint /storage/master-thesis/models/capsnet__nah-es_es-en/checkpoint38.pt (epoch 38 @ 8565 updates, score 4.463) (writing took 3.0273011410608888 seconds)\n",
      "2022-10-29 22:14:31 | INFO | fairseq_cli.train | end of epoch 38 (average epoch stats below)\n",
      "2022-10-29 22:14:31 | INFO | train | epoch 038 | loss 2.954 | nll_loss 1.159 | ppl 2.23 | wps 18295.5 | ups 5.33 | wpb 3434 | bsz 274 | num_updates 8565 | lr 0.000341693 | gnorm 0.945 | loss_scale 8 | train_wall 134 | gb_free 12 | wall 1592\n",
      "2022-10-29 22:14:31 | INFO | fairseq_cli.train | done training in 1591.5 seconds\n"
     ]
    }
   ],
   "source": [
    "! fairseq-train $BIN_DIR \\\n",
    "    --user-dir $CODE_STORAGE/fairseq-dynamic-routing-plugin/examples/dynamic_routing/dynamic_routing_src/ \\\n",
    "    --arch=capsnet_transformer --share-all-embeddings \\\n",
    "    --task translation_multi_simple_epoch --lang-pairs nah-es,es-en \\\n",
    "    --optimizer adam --adam-betas '(0.9, 0.98)' --clip-norm 0.0 \\\n",
    "    --lr 5e-4 --lr-scheduler inverse_sqrt --warmup-updates 4000 \\\n",
    "    --dropout 0.3 --weight-decay 0.0001 \\\n",
    "    --criterion label_smoothed_cross_entropy --label-smoothing 0.1 \\\n",
    "    --max-tokens 4096 \\\n",
    "    --restore-file $MODEL_DIR/checkpoint_last.pt \\\n",
    "    --save-dir $MODEL_DIR/ \\\n",
    "    --keep-last-epochs 2 \\\n",
    "    --reset-optimizer \\\n",
    "    --encoder-langtok \"src\" \\\n",
    "    --decoder-langtok \\\n",
    "    --fp16 \\\n",
    "    --max-epoch 200 \\\n",
    "    --patience 10"
   ]
  },
  {
   "cell_type": "code",
   "execution_count": null,
   "metadata": {
    "gradient": {}
   },
   "outputs": [
    {
     "name": "stdout",
     "output_type": "stream",
     "text": [
      "/storage/master-thesis/models/quy-es+es-en\n"
     ]
    }
   ],
   "source": [
    "! echo $MODEL_DIR"
   ]
  },
  {
   "cell_type": "code",
   "execution_count": null,
   "metadata": {
    "gradient": {}
   },
   "outputs": [
    {
     "name": "stdout",
     "output_type": "stream",
     "text": [
      "/storage/master-thesis/models/quy-es+es-en\n"
     ]
    }
   ],
   "source": [
    "cd /storage/master-thesis/models/quy-es+es-en"
   ]
  },
  {
   "cell_type": "code",
   "execution_count": null,
   "metadata": {
    "gradient": {}
   },
   "outputs": [],
   "source": [
    "! rm checkpoint108.pt\n",
    "! rm checkpoint109.pt\n",
    "! rm checkpoint_best.pt\n",
    "! rm checkpoint_last.pt"
   ]
  },
  {
   "cell_type": "code",
   "execution_count": null,
   "metadata": {
    "gradient": {}
   },
   "outputs": [],
   "source": [
    "! rm dict.en.txt\n",
    "! rm dict.es.txt\n",
    "! rm dict.quy.txt"
   ]
  },
  {
   "cell_type": "code",
   "execution_count": null,
   "metadata": {
    "gradient": {}
   },
   "outputs": [
    {
     "name": "stdout",
     "output_type": "stream",
     "text": [
      "2.5K\t/notebooks/CITATION.cff\n",
      "5.5K\t/notebooks/CODE_OF_CONDUCT.md\n",
      "15K\t/notebooks/CONTRIBUTING.md\n",
      "19K\t/notebooks/ISSUES.md\n",
      "12K\t/notebooks/LICENSE\n",
      "512\t/notebooks/MANIFEST.in\n",
      "3.5K\t/notebooks/Makefile\n",
      "41K\t/notebooks/README.md\n",
      "41K\t/notebooks/README_zh-hans.md\n",
      "42K\t/notebooks/README_zh-hant.md\n",
      "12K\t/notebooks/docker\n",
      "4.6M\t/notebooks/docs\n",
      "5.0M\t/notebooks/examples\n",
      "8.5K\t/notebooks/hubconf.py\n",
      "7.8G\t/notebooks/master-thesis\n",
      "1.5K\t/notebooks/model_cards\n",
      "9.5K\t/notebooks/notebooks\n",
      "512\t/notebooks/pyproject.toml\n",
      "64K\t/notebooks/scripts\n",
      "1.0K\t/notebooks/setup.cfg\n",
      "13K\t/notebooks/setup.py\n",
      "13M\t/notebooks/src\n",
      "731K\t/notebooks/templates\n",
      "4.5K\t/notebooks/test quy-es -> es-en model.ipynb\n",
      "6.8M\t/notebooks/tests\n",
      "147K\t/notebooks/train es-en model.ipynb\n",
      "158K\t/notebooks/train quy-es + es-en model.ipynb\n",
      "160K\t/notebooks/utils\n",
      "3.5K\t/notebooks/valohai.yaml\n",
      "7.9G\ttotal\n"
     ]
    }
   ],
   "source": [
    "! du -shc /notebooks/*"
   ]
  },
  {
   "cell_type": "code",
   "execution_count": null,
   "metadata": {
    "gradient": {}
   },
   "outputs": [
    {
     "name": "stdout",
     "output_type": "stream",
     "text": [
      "512\t/notebooks/master-thesis/Untitled.ipynb\n",
      "362M\t/notebooks/master-thesis/corpora\n",
      "7.5G\t/notebooks/master-thesis/models\n",
      "7.8G\ttotal\n"
     ]
    }
   ],
   "source": [
    "! du -shc /notebooks/master-thesis/*"
   ]
  },
  {
   "cell_type": "code",
   "execution_count": null,
   "metadata": {
    "gradient": {}
   },
   "outputs": [
    {
     "name": "stdout",
     "output_type": "stream",
     "text": [
      "1.6G\t/notebooks/master-thesis/models/es-en\n",
      "802M\t/notebooks/master-thesis/models/quy-es\n",
      "5.2G\t/notebooks/master-thesis/models/quy-es+es-en\n",
      "7.5G\ttotal\n"
     ]
    }
   ],
   "source": [
    "! du -shc /notebooks/master-thesis/models/*"
   ]
  },
  {
   "cell_type": "code",
   "execution_count": null,
   "metadata": {
    "gradient": {}
   },
   "outputs": [
    {
     "name": "stdout",
     "output_type": "stream",
     "text": [
      "19M\t/apex\n",
      "5.0M\t/bin\n",
      "4.0K\t/boot\n",
      "24K\t/content\n",
      "^C\n"
     ]
    }
   ],
   "source": [
    "! du -shc /*"
   ]
  },
  {
   "cell_type": "code",
   "execution_count": null,
   "metadata": {
    "gradient": {}
   },
   "outputs": [
    {
     "name": "stdout",
     "output_type": "stream",
     "text": [
      " CITATION.cff         \u001b[0m\u001b[01;34mdocker\u001b[0m/          setup.py\n",
      " CODE_OF_CONDUCT.md   \u001b[01;34mdocs\u001b[0m/            \u001b[01;34msrc\u001b[0m/\n",
      " CONTRIBUTING.md      \u001b[01;34mexamples\u001b[0m/        \u001b[01;34mtemplates\u001b[0m/\n",
      " ISSUES.md            hubconf.py      'test quy-es -> es-en model.ipynb'\n",
      " LICENSE              \u001b[01;34mmaster-thesis\u001b[0m/   \u001b[01;34mtests\u001b[0m/\n",
      " MANIFEST.in          \u001b[01;34mmodel_cards\u001b[0m/    'train es-en model.ipynb'\n",
      " Makefile             \u001b[01;34mnotebooks\u001b[0m/      'train quy-es + es-en model.ipynb'\n",
      " README.md            pyproject.toml   \u001b[01;34mutils\u001b[0m/\n",
      " README_zh-hans.md    \u001b[01;34mscripts\u001b[0m/         valohai.yaml\n",
      " README_zh-hant.md    setup.cfg\n"
     ]
    }
   ],
   "source": [
    "ls"
   ]
  },
  {
   "cell_type": "code",
   "execution_count": null,
   "metadata": {
    "gradient": {}
   },
   "outputs": [],
   "source": []
  },
  {
   "cell_type": "code",
   "execution_count": null,
   "metadata": {
    "gradient": {}
   },
   "outputs": [],
   "source": []
  },
  {
   "cell_type": "code",
   "execution_count": null,
   "metadata": {
    "gradient": {}
   },
   "outputs": [],
   "source": []
  },
  {
   "cell_type": "code",
   "execution_count": null,
   "metadata": {
    "gradient": {}
   },
   "outputs": [],
   "source": []
  },
  {
   "cell_type": "code",
   "execution_count": null,
   "metadata": {
    "gradient": {}
   },
   "outputs": [
    {
     "name": "stdout",
     "output_type": "stream",
     "text": [
      "/storage/master-thesis\n"
     ]
    }
   ],
   "source": []
  },
  {
   "cell_type": "code",
   "execution_count": null,
   "metadata": {
    "gradient": {}
   },
   "outputs": [],
   "source": []
  }
 ],
 "metadata": {
  "kernelspec": {
   "display_name": "Python 3",
   "language": "python",
   "name": "python3"
  },
  "language_info": {
   "codemirror_mode": {
    "name": "ipython",
    "version": 3
   },
   "file_extension": ".py",
   "mimetype": "text/x-python",
   "name": "python",
   "nbconvert_exporter": "python",
   "pygments_lexer": "ipython3",
   "version": "3.6.9"
  }
 },
 "nbformat": 4,
 "nbformat_minor": 4
}
