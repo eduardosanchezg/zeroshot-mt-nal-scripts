{
 "cells": [
  {
   "cell_type": "markdown",
   "metadata": {},
   "source": [
    "## ENVIRONMENT VARIABLES"
   ]
  },
  {
   "cell_type": "code",
   "execution_count": 1,
   "metadata": {},
   "outputs": [],
   "source": [
    "EN_IT_CORPUS_DIR = \"/notebooks/master-thesis/corpora/iwslt17/en-it/\""
   ]
  },
  {
   "cell_type": "code",
   "execution_count": 2,
   "metadata": {},
   "outputs": [],
   "source": [
    "EN_NL_CORPUS_DIR = \"/notebooks/master-thesis/corpora/iwslt17/en-nl/\""
   ]
  },
  {
   "cell_type": "code",
   "execution_count": 3,
   "metadata": {},
   "outputs": [],
   "source": [
    "EN_RO_CORPUS_DIR = \"/notebooks/master-thesis/corpora/iwslt17/en-ro/\""
   ]
  },
  {
   "cell_type": "code",
   "execution_count": 4,
   "metadata": {},
   "outputs": [],
   "source": [
    "DE_EN_CORPUS_DIR = \"/notebooks/master-thesis/corpora/iwslt17/de-en/\""
   ]
  },
  {
   "cell_type": "code",
   "execution_count": 5,
   "metadata": {},
   "outputs": [],
   "source": [
    "tokenizer_path = \"/storage/master-thesis/models/resdrop__nl-en_it-en_ro-en_en-de/tokenizers/it-nl-ro-en-de/\""
   ]
  },
  {
   "cell_type": "code",
   "execution_count": 6,
   "metadata": {},
   "outputs": [
    {
     "name": "stdout",
     "output_type": "stream",
     "text": [
      "env: TOKENIZER_PATH=/storage/master-thesis/models/resdrop__nl-en_it-en_ro-en_en-de/tokenizers/it-nl-ro-en-de\n"
     ]
    }
   ],
   "source": [
    "%env TOKENIZER_PATH = /storage/master-thesis/models/resdrop__nl-en_it-en_ro-en_en-de/tokenizers/it-nl-ro-en-de"
   ]
  },
  {
   "cell_type": "code",
   "execution_count": 7,
   "metadata": {},
   "outputs": [],
   "source": [
    "tokenized_path_en_it = \"/storage/master-thesis/models/resdrop__nl-en_it-en_ro-en_en-de/tokenizers/it-nl-ro-en-de/en-it/\"\n",
    "tokenized_path_en_nl = \"/storage/master-thesis/models/resdrop__nl-en_it-en_ro-en_en-de/tokenizers/it-nl-ro-en-de/en-nl/\"\n",
    "tokenized_path_en_ro = \"/storage/master-thesis/models/resdrop__nl-en_it-en_ro-en_en-de/tokenizers/it-nl-ro-en-de/en-ro/\"\n",
    "tokenized_path_de_en = \"/storage/master-thesis/models/resdrop__nl-en_it-en_ro-en_en-de/tokenizers/it-nl-ro-en-de/de-en/\""
   ]
  },
  {
   "cell_type": "code",
   "execution_count": 8,
   "metadata": {},
   "outputs": [
    {
     "name": "stdout",
     "output_type": "stream",
     "text": [
      "env: TOKENIZED_PATH_EN_IT=/storage/master-thesis/models/resdrop__nl-en_it-en_ro-en_en-de/tokenizers/it-nl-ro-en-de/en-it\n",
      "env: TOKENIZED_PATH_EN_NL=/storage/master-thesis/models/resdrop__nl-en_it-en_ro-en_en-de/tokenizers/it-nl-ro-en-de/en-nl\n",
      "env: TOKENIZED_PATH_EN_RO=/storage/master-thesis/models/resdrop__nl-en_it-en_ro-en_en-de/tokenizers/it-nl-ro-en-de/en-ro\n",
      "env: TOKENIZED_PATH_DE_EN=/storage/master-thesis/models/resdrop__nl-en_it-en_ro-en_en-de/tokenizers/it-nl-ro-en-de/de-en\n"
     ]
    }
   ],
   "source": [
    "%env TOKENIZED_PATH_EN_IT = /storage/master-thesis/models/resdrop__nl-en_it-en_ro-en_en-de/tokenizers/it-nl-ro-en-de/en-it\n",
    "%env TOKENIZED_PATH_EN_NL = /storage/master-thesis/models/resdrop__nl-en_it-en_ro-en_en-de/tokenizers/it-nl-ro-en-de/en-nl\n",
    "%env TOKENIZED_PATH_EN_RO = /storage/master-thesis/models/resdrop__nl-en_it-en_ro-en_en-de/tokenizers/it-nl-ro-en-de/en-ro\n",
    "%env TOKENIZED_PATH_DE_EN = /storage/master-thesis/models/resdrop__nl-en_it-en_ro-en_en-de/tokenizers/it-nl-ro-en-de/de-en"
   ]
  },
  {
   "cell_type": "code",
   "execution_count": 9,
   "metadata": {},
   "outputs": [
    {
     "name": "stdout",
     "output_type": "stream",
     "text": [
      "env: BIN_DIR=/storage/master-thesis/models/resdrop__nl-en_it-en_ro-en_en-de/tokenizers/it-nl-ro-en-de/bin\n"
     ]
    }
   ],
   "source": [
    "%env BIN_DIR = /storage/master-thesis/models/resdrop__nl-en_it-en_ro-en_en-de/tokenizers/it-nl-ro-en-de/bin"
   ]
  },
  {
   "cell_type": "code",
   "execution_count": 10,
   "metadata": {},
   "outputs": [
    {
     "name": "stdout",
     "output_type": "stream",
     "text": [
      "env: MODEL_DIR=/storage/master-thesis/models/resdrop__nl-en_it-en_ro-en_en-de\n"
     ]
    }
   ],
   "source": [
    "%env MODEL_DIR = /storage/master-thesis/models/resdrop__nl-en_it-en_ro-en_en-de"
   ]
  },
  {
   "cell_type": "code",
   "execution_count": 11,
   "metadata": {},
   "outputs": [],
   "source": [
    "! mkdir -p $TOKENIZED_PATH_EN_IT\n",
    "! mkdir -p $TOKENIZED_PATH_EN_NL\n",
    "! mkdir -p $TOKENIZED_PATH_EN_RO\n",
    "! mkdir -p $TOKENIZED_PATH_DE_EN\n",
    "! mkdir -p $BIN_DIR"
   ]
  },
  {
   "cell_type": "code",
   "execution_count": 12,
   "metadata": {},
   "outputs": [
    {
     "name": "stdout",
     "output_type": "stream",
     "text": [
      "env: CODE_STORAGE=/storage/code/\n"
     ]
    }
   ],
   "source": [
    "%env CODE_STORAGE = /storage/code/"
   ]
  },
  {
   "cell_type": "code",
   "execution_count": 11,
   "metadata": {},
   "outputs": [
    {
     "name": "stdout",
     "output_type": "stream",
     "text": [
      "Collecting tensorboardX\n",
      "  Downloading tensorboardX-2.5.1-py2.py3-none-any.whl (125 kB)\n",
      "\u001b[K     |################################| 125 kB 22.4 MB/s eta 0:00:01\n",
      "\u001b[?25hRequirement already satisfied: protobuf<=3.20.1,>=3.8.0 in /usr/local/lib/python3.6/dist-packages (from tensorboardX) (3.13.0)\n",
      "Requirement already satisfied: numpy in /usr/local/lib/python3.6/dist-packages (from tensorboardX) (1.18.5)\n",
      "Requirement already satisfied: six>=1.9 in /usr/local/lib/python3.6/dist-packages (from protobuf<=3.20.1,>=3.8.0->tensorboardX) (1.15.0)\n",
      "Requirement already satisfied: setuptools in /usr/local/lib/python3.6/dist-packages (from protobuf<=3.20.1,>=3.8.0->tensorboardX) (50.3.2)\n",
      "Installing collected packages: tensorboardX\n",
      "Successfully installed tensorboardX-2.5.1\n",
      "\u001b[33mWARNING: You are using pip version 20.2.4; however, version 21.3.1 is available.\n",
      "You should consider upgrading via the '/usr/bin/python3 -m pip install --upgrade pip' command.\u001b[0m\n",
      "Note: you may need to restart the kernel to use updated packages.\n"
     ]
    }
   ],
   "source": [
    "pip install tensorboardX"
   ]
  },
  {
   "cell_type": "code",
   "execution_count": 12,
   "metadata": {},
   "outputs": [
    {
     "name": "stdout",
     "output_type": "stream",
     "text": [
      "Found existing installation: torch 1.9.1\n",
      "Uninstalling torch-1.9.1:\n",
      "  Successfully uninstalled torch-1.9.1\n",
      "\u001b[33mWARNING: Skipping torchvision as it is not installed.\u001b[0m\n",
      "\u001b[33mWARNING: Skipping torchaudio as it is not installed.\u001b[0m\n",
      "Note: you may need to restart the kernel to use updated packages.\n"
     ]
    }
   ],
   "source": [
    "pip uninstall torch torchvision torchaudio -y"
   ]
  },
  {
   "cell_type": "code",
   "execution_count": 13,
   "metadata": {},
   "outputs": [
    {
     "name": "stdout",
     "output_type": "stream",
     "text": [
      "Looking in indexes: https://pypi.org/simple, https://download.pytorch.org/whl/cu113\n",
      "Collecting torch\n",
      "  Downloading https://download.pytorch.org/whl/cu113/torch-1.10.2%2Bcu113-cp36-cp36m-linux_x86_64.whl (1821.5 MB)\n",
      "\u001b[K     |################################| 1821.5 MB 5.4 kB/s eta 0:00:0101B 106.9 MB/s eta 0:00:11[K     |##################              | 1050.1 MB 2.0 MB/s eta 0:06:29[K     |#####################           | 1210.0 MB 1.7 MB/s eta 0:06:09.2 MB 106.6 MB/s eta 0:00:03################# | 1776.9 MB 102.7 MB/s eta 0:00:01\n",
      "\u001b[?25hCollecting torchvision\n",
      "  Downloading https://download.pytorch.org/whl/cu113/torchvision-0.11.3%2Bcu113-cp36-cp36m-linux_x86_64.whl (24.6 MB)\n",
      "\u001b[K     |################################| 24.6 MB 7.2 MB/s eta 0:00:01\n",
      "\u001b[?25hCollecting torchaudio\n",
      "  Downloading https://download.pytorch.org/whl/cu113/torchaudio-0.10.2%2Bcu113-cp36-cp36m-linux_x86_64.whl (2.9 MB)\n",
      "\u001b[K     |################################| 2.9 MB 7.4 MB/s eta 0:00:01\n",
      "\u001b[?25hRequirement already satisfied: typing-extensions in /usr/local/lib/python3.6/dist-packages (from torch) (3.10.0.2)\n",
      "Requirement already satisfied: dataclasses; python_version < \"3.7\" in /usr/local/lib/python3.6/dist-packages (from torch) (0.8)\n",
      "Requirement already satisfied: pillow!=8.3.0,>=5.3.0 in /usr/local/lib/python3.6/dist-packages (from torchvision) (8.3.2)\n",
      "Requirement already satisfied: numpy in /usr/local/lib/python3.6/dist-packages (from torchvision) (1.18.5)\n",
      "Installing collected packages: torch, torchvision, torchaudio\n",
      "Successfully installed torch-1.10.2+cu113 torchaudio-0.10.2+cu113 torchvision-0.11.3+cu113\n",
      "\u001b[33mWARNING: You are using pip version 20.2.4; however, version 21.3.1 is available.\n",
      "You should consider upgrading via the '/usr/bin/python3 -m pip install --upgrade pip' command.\u001b[0m\n",
      "Note: you may need to restart the kernel to use updated packages.\n"
     ]
    }
   ],
   "source": [
    "pip install torch torchvision torchaudio --extra-index-url https://download.pytorch.org/whl/cu113"
   ]
  },
  {
   "cell_type": "code",
   "execution_count": 14,
   "metadata": {},
   "outputs": [
    {
     "name": "stdout",
     "output_type": "stream",
     "text": [
      "Found existing installation: fairseq 0.10.2\n",
      "Uninstalling fairseq-0.10.2:\n",
      "  Successfully uninstalled fairseq-0.10.2\n",
      "Note: you may need to restart the kernel to use updated packages.\n"
     ]
    }
   ],
   "source": [
    "pip uninstall fairseq -y"
   ]
  },
  {
   "cell_type": "code",
   "execution_count": 15,
   "metadata": {},
   "outputs": [
    {
     "name": "stdout",
     "output_type": "stream",
     "text": [
      "Collecting fairseq\n",
      "  Downloading fairseq-0.12.2-cp36-cp36m-manylinux_2_5_x86_64.manylinux1_x86_64.whl (11.0 MB)\n",
      "\u001b[K     |################################| 11.0 MB 24.9 MB/s eta 0:00:01\n",
      "\u001b[?25hRequirement already satisfied: regex in /usr/local/lib/python3.6/dist-packages (from fairseq) (2020.11.13)\n",
      "Requirement already satisfied: tqdm in /usr/local/lib/python3.6/dist-packages (from fairseq) (4.51.0)\n",
      "Requirement already satisfied: numpy<1.20.0; python_version < \"3.7\" in /usr/local/lib/python3.6/dist-packages (from fairseq) (1.18.5)\n",
      "Requirement already satisfied: torch in /usr/local/lib/python3.6/dist-packages (from fairseq) (1.10.2+cu113)\n",
      "Requirement already satisfied: dataclasses; python_version < \"3.7\" in /usr/local/lib/python3.6/dist-packages (from fairseq) (0.8)\n",
      "Collecting hydra-core<1.1,>=1.0.7\n",
      "  Downloading hydra_core-1.0.7-py3-none-any.whl (123 kB)\n",
      "\u001b[K     |################################| 123 kB 92.5 MB/s eta 0:00:01\n",
      "\u001b[?25hCollecting bitarray\n",
      "  Downloading bitarray-2.6.0-cp36-cp36m-manylinux_2_17_x86_64.manylinux2014_x86_64.whl (235 kB)\n",
      "\u001b[K     |################################| 235 kB 81.5 MB/s eta 0:00:01\n",
      "\u001b[?25hRequirement already satisfied: sacrebleu>=1.4.12 in /usr/local/lib/python3.6/dist-packages (from fairseq) (2.0.0)\n",
      "Requirement already satisfied: cython in /usr/local/lib/python3.6/dist-packages (from fairseq) (0.29.24)\n",
      "Requirement already satisfied: torchaudio>=0.8.0 in /usr/local/lib/python3.6/dist-packages (from fairseq) (0.10.2+cu113)\n",
      "Collecting omegaconf<2.1\n",
      "  Downloading omegaconf-2.0.6-py3-none-any.whl (36 kB)\n",
      "Requirement already satisfied: cffi in /usr/local/lib/python3.6/dist-packages (from fairseq) (1.14.3)\n",
      "Requirement already satisfied: typing-extensions in /usr/local/lib/python3.6/dist-packages (from torch->fairseq) (3.10.0.2)\n",
      "Requirement already satisfied: importlib-resources; python_version < \"3.9\" in /usr/local/lib/python3.6/dist-packages (from hydra-core<1.1,>=1.0.7->fairseq) (5.2.2)\n",
      "Requirement already satisfied: antlr4-python3-runtime==4.8 in /usr/local/lib/python3.6/dist-packages (from hydra-core<1.1,>=1.0.7->fairseq) (4.8)\n",
      "Requirement already satisfied: portalocker in /usr/local/lib/python3.6/dist-packages (from sacrebleu>=1.4.12->fairseq) (2.3.2)\n",
      "Requirement already satisfied: tabulate>=0.8.9 in /usr/local/lib/python3.6/dist-packages (from sacrebleu>=1.4.12->fairseq) (0.8.9)\n",
      "Requirement already satisfied: colorama in /usr/local/lib/python3.6/dist-packages (from sacrebleu>=1.4.12->fairseq) (0.4.4)\n",
      "Requirement already satisfied: PyYAML>=5.1.* in /usr/local/lib/python3.6/dist-packages (from omegaconf<2.1->fairseq) (5.4.1)\n",
      "Requirement already satisfied: pycparser in /usr/local/lib/python3.6/dist-packages (from cffi->fairseq) (2.20)\n",
      "Requirement already satisfied: zipp>=3.1.0; python_version < \"3.10\" in /usr/local/lib/python3.6/dist-packages (from importlib-resources; python_version < \"3.9\"->hydra-core<1.1,>=1.0.7->fairseq) (3.4.0)\n",
      "Installing collected packages: omegaconf, hydra-core, bitarray, fairseq\n",
      "  Attempting uninstall: omegaconf\n",
      "    Found existing installation: omegaconf 2.1.1\n",
      "    Uninstalling omegaconf-2.1.1:\n",
      "      Successfully uninstalled omegaconf-2.1.1\n",
      "  Attempting uninstall: hydra-core\n",
      "    Found existing installation: hydra-core 1.1.1\n",
      "    Uninstalling hydra-core-1.1.1:\n",
      "      Successfully uninstalled hydra-core-1.1.1\n",
      "Successfully installed bitarray-2.6.0 fairseq-0.12.2 hydra-core-1.0.7 omegaconf-2.0.6\n",
      "\u001b[33mWARNING: You are using pip version 20.2.4; however, version 21.3.1 is available.\n",
      "You should consider upgrading via the '/usr/bin/python3 -m pip install --upgrade pip' command.\u001b[0m\n",
      "Note: you may need to restart the kernel to use updated packages.\n"
     ]
    }
   ],
   "source": [
    "pip install fairseq"
   ]
  },
  {
   "cell_type": "code",
   "execution_count": 16,
   "metadata": {},
   "outputs": [
    {
     "name": "stdout",
     "output_type": "stream",
     "text": [
      "Found existing installation: apex 0.1\n",
      "Uninstalling apex-0.1:\n",
      "  Successfully uninstalled apex-0.1\n"
     ]
    }
   ],
   "source": [
    "! pip uninstall apex -y"
   ]
  },
  {
   "cell_type": "code",
   "execution_count": null,
   "metadata": {},
   "outputs": [],
   "source": [
    "! pip install -v --disable-pip-version-check --no-cache-dir apex"
   ]
  },
  {
   "cell_type": "markdown",
   "metadata": {},
   "source": [
    "### Tokenizing data"
   ]
  },
  {
   "cell_type": "code",
   "execution_count": 13,
   "metadata": {},
   "outputs": [],
   "source": [
    "from tokenizers import Tokenizer\n",
    "from tokenizers.models import WordPiece\n",
    "\n",
    "it_nl_ro_en_de_tokenizer = Tokenizer(WordPiece(unk_token=\"[UNK]\"))"
   ]
  },
  {
   "cell_type": "code",
   "execution_count": 14,
   "metadata": {},
   "outputs": [],
   "source": [
    "from tokenizers.trainers import WordPieceTrainer\n",
    "\n",
    "it_nl_ro_en_de_trainer = WordPieceTrainer(special_tokens=[\"[UNK]\", \"[CLS]\", \"[SEP]\", \"[PAD]\", \"[MASK]\"], show_progress=True)"
   ]
  },
  {
   "cell_type": "code",
   "execution_count": 15,
   "metadata": {},
   "outputs": [],
   "source": [
    "from tokenizers.pre_tokenizers import Whitespace\n",
    "\n",
    "it_nl_ro_en_de_tokenizer.pre_tokenizer = Whitespace()\n",
    "\n",
    "en_it_files = [EN_IT_CORPUS_DIR + f\"{split}.en\" for split in [\"valid\",\"train\"]]\n",
    "it_en_files = [EN_IT_CORPUS_DIR + f\"{split}.it\" for split in [\"valid\",\"train\"]]\n",
    "\n",
    "en_nl_files = [EN_NL_CORPUS_DIR + f\"{split}.en\" for split in [\"valid\",\"train\"]]\n",
    "nl_en_files = [EN_NL_CORPUS_DIR + f\"{split}.nl\" for split in [\"valid\",\"train\"]]\n",
    "\n",
    "en_ro_files = [EN_RO_CORPUS_DIR + f\"{split}.en\" for split in [\"valid\",\"train\"]]\n",
    "ro_en_files = [EN_RO_CORPUS_DIR + f\"{split}.ro\" for split in [\"valid\",\"train\"]]\n",
    "\n",
    "de_en_files = [DE_EN_CORPUS_DIR + f\"{split}.de\" for split in [\"valid\", \"train\"]]\n",
    "en_de_files = [DE_EN_CORPUS_DIR + f\"{split}.en\" for split in [\"valid\", \"train\"]]\n",
    "\n",
    "\n",
    "files = en_it_files + it_en_files + en_nl_files + nl_en_files + en_ro_files + ro_en_files + de_en_files + en_de_files\n",
    "it_nl_ro_en_de_tokenizer.train(files= files, trainer=it_nl_ro_en_de_trainer)"
   ]
  },
  {
   "cell_type": "code",
   "execution_count": 16,
   "metadata": {},
   "outputs": [],
   "source": [
    "from pathlib import Path\n",
    "\n",
    "\n",
    "\n",
    "def tokenize_files(tokenizer, files, extension, output_path):\n",
    "    for file in files:\n",
    "        print(f\"Reading file {file}\")\n",
    "        with open(file, encoding='utf8') as f:\n",
    "          lines = f.readlines()\n",
    "          tokenized_lines = tokenizer.encode_batch(lines)\n",
    "          tokenized_name = Path(file).stem\n",
    "          tokenized_name = output_path + tokenized_name + \".\" + extension\n",
    "          print(tokenized_name)\n",
    "          with open(tokenized_name, 'w', encoding='utf8') as wf:\n",
    "\n",
    "            wf.writelines([\" \".join(t.tokens) + \"\\n\" for t in tokenized_lines])"
   ]
  },
  {
   "cell_type": "code",
   "execution_count": 17,
   "metadata": {},
   "outputs": [],
   "source": [
    "it_nl_ro_en_de_tokenizer.save(tokenizer_path + \"it_nl_ro_en_de_tokenizer.json\")"
   ]
  },
  {
   "cell_type": "code",
   "execution_count": 18,
   "metadata": {},
   "outputs": [
    {
     "name": "stdout",
     "output_type": "stream",
     "text": [
      "['we', 'hold', 'this', 'truth', '##f', '##b', '##j', '##h', 'to', 'be', 'self', 'evident', '##ly', 'that', 'everyone', 'is', 'created', 'equal', '?']\n"
     ]
    }
   ],
   "source": [
    "tok = it_nl_ro_en_de_tokenizer.encode(\"we hold this truthfbjh to be self evidently that everyone is created equal?\")\n",
    "print(tok.tokens)\n"
   ]
  },
  {
   "cell_type": "code",
   "execution_count": 19,
   "metadata": {},
   "outputs": [
    {
     "name": "stdout",
     "output_type": "stream",
     "text": [
      "Reading file /notebooks/master-thesis/corpora/iwslt17/en-it/valid.en\n",
      "/storage/master-thesis/models/resdrop__nl-en_it-en_ro-en_en-de/tokenizers/it-nl-ro-en-de/en-it/valid.en\n",
      "Reading file /notebooks/master-thesis/corpora/iwslt17/en-it/train.en\n",
      "/storage/master-thesis/models/resdrop__nl-en_it-en_ro-en_en-de/tokenizers/it-nl-ro-en-de/en-it/train.en\n",
      "Reading file /notebooks/master-thesis/corpora/iwslt17/en-it/valid.it\n",
      "/storage/master-thesis/models/resdrop__nl-en_it-en_ro-en_en-de/tokenizers/it-nl-ro-en-de/en-it/valid.it\n",
      "Reading file /notebooks/master-thesis/corpora/iwslt17/en-it/train.it\n",
      "/storage/master-thesis/models/resdrop__nl-en_it-en_ro-en_en-de/tokenizers/it-nl-ro-en-de/en-it/train.it\n",
      "Reading file /notebooks/master-thesis/corpora/iwslt17/en-nl/valid.en\n",
      "/storage/master-thesis/models/resdrop__nl-en_it-en_ro-en_en-de/tokenizers/it-nl-ro-en-de/en-nl/valid.en\n",
      "Reading file /notebooks/master-thesis/corpora/iwslt17/en-nl/train.en\n",
      "/storage/master-thesis/models/resdrop__nl-en_it-en_ro-en_en-de/tokenizers/it-nl-ro-en-de/en-nl/train.en\n",
      "Reading file /notebooks/master-thesis/corpora/iwslt17/en-nl/valid.nl\n",
      "/storage/master-thesis/models/resdrop__nl-en_it-en_ro-en_en-de/tokenizers/it-nl-ro-en-de/en-nl/valid.nl\n",
      "Reading file /notebooks/master-thesis/corpora/iwslt17/en-nl/train.nl\n",
      "/storage/master-thesis/models/resdrop__nl-en_it-en_ro-en_en-de/tokenizers/it-nl-ro-en-de/en-nl/train.nl\n",
      "Reading file /notebooks/master-thesis/corpora/iwslt17/en-ro/valid.en\n",
      "/storage/master-thesis/models/resdrop__nl-en_it-en_ro-en_en-de/tokenizers/it-nl-ro-en-de/en-ro/valid.en\n",
      "Reading file /notebooks/master-thesis/corpora/iwslt17/en-ro/train.en\n",
      "/storage/master-thesis/models/resdrop__nl-en_it-en_ro-en_en-de/tokenizers/it-nl-ro-en-de/en-ro/train.en\n",
      "Reading file /notebooks/master-thesis/corpora/iwslt17/en-ro/valid.ro\n",
      "/storage/master-thesis/models/resdrop__nl-en_it-en_ro-en_en-de/tokenizers/it-nl-ro-en-de/en-ro/valid.ro\n",
      "Reading file /notebooks/master-thesis/corpora/iwslt17/en-ro/train.ro\n",
      "/storage/master-thesis/models/resdrop__nl-en_it-en_ro-en_en-de/tokenizers/it-nl-ro-en-de/en-ro/train.ro\n",
      "Reading file /notebooks/master-thesis/corpora/iwslt17/de-en/valid.de\n",
      "/storage/master-thesis/models/resdrop__nl-en_it-en_ro-en_en-de/tokenizers/it-nl-ro-en-de/de-en/valid.de\n",
      "Reading file /notebooks/master-thesis/corpora/iwslt17/de-en/train.de\n",
      "/storage/master-thesis/models/resdrop__nl-en_it-en_ro-en_en-de/tokenizers/it-nl-ro-en-de/de-en/train.de\n",
      "Reading file /notebooks/master-thesis/corpora/iwslt17/de-en/valid.en\n",
      "/storage/master-thesis/models/resdrop__nl-en_it-en_ro-en_en-de/tokenizers/it-nl-ro-en-de/de-en/valid.en\n",
      "Reading file /notebooks/master-thesis/corpora/iwslt17/de-en/train.en\n",
      "/storage/master-thesis/models/resdrop__nl-en_it-en_ro-en_en-de/tokenizers/it-nl-ro-en-de/de-en/train.en\n"
     ]
    }
   ],
   "source": [
    "tokenize_files(it_nl_ro_en_de_tokenizer, en_it_files, \"en\", tokenized_path_en_it)\n",
    "tokenize_files(it_nl_ro_en_de_tokenizer, it_en_files, \"it\", tokenized_path_en_it)\n",
    "\n",
    "tokenize_files(it_nl_ro_en_de_tokenizer, en_nl_files, \"en\", tokenized_path_en_nl)\n",
    "tokenize_files(it_nl_ro_en_de_tokenizer, nl_en_files, \"nl\", tokenized_path_en_nl)\n",
    "\n",
    "tokenize_files(it_nl_ro_en_de_tokenizer, en_ro_files, \"en\", tokenized_path_en_ro)\n",
    "tokenize_files(it_nl_ro_en_de_tokenizer, ro_en_files, \"ro\", tokenized_path_en_ro)\n",
    "\n",
    "tokenize_files(it_nl_ro_en_de_tokenizer, de_en_files, \"de\", tokenized_path_de_en)\n",
    "tokenize_files(it_nl_ro_en_de_tokenizer, en_de_files, \"en\", tokenized_path_de_en)"
   ]
  },
  {
   "cell_type": "markdown",
   "metadata": {},
   "source": [
    "## Binarizing data"
   ]
  },
  {
   "cell_type": "code",
   "execution_count": 20,
   "metadata": {},
   "outputs": [],
   "source": [
    "## Concatenating all training data\n",
    "! cat $TOKENIZED_PATH_EN_IT/train.en $TOKENIZED_PATH_EN_IT/train.it \\\n",
    "    $TOKENIZED_PATH_EN_NL/train.en $TOKENIZED_PATH_EN_NL/train.nl \\\n",
    "    $TOKENIZED_PATH_EN_RO/train.en $TOKENIZED_PATH_EN_RO/train.ro \\\n",
    "    $TOKENIZED_PATH_DE_EN/train.de $TOKENIZED_PATH_DE_EN/train.en \\\n",
    "    > $BIN_DIR/train.all"
   ]
  },
  {
   "cell_type": "code",
   "execution_count": 21,
   "metadata": {},
   "outputs": [
    {
     "name": "stdout",
     "output_type": "stream",
     "text": [
      "2022-10-29 22:19:23 | INFO | fairseq_cli.preprocess | Namespace(aim_repo=None, aim_run_hash=None, align_suffix=None, alignfile=None, all_gather_list_size=16384, amp=False, amp_batch_retries=2, amp_init_scale=128, amp_scale_window=None, azureml_logging=False, bf16=False, bpe=None, cpu=False, criterion='cross_entropy', dataset_impl='mmap', destdir='/storage/master-thesis/models/resdrop__nl-en_it-en_ro-en_en-de/tokenizers/it-nl-ro-en-de/bin', dict_only=False, empty_cache_freq=0, fp16=False, fp16_init_scale=128, fp16_no_flatten_grads=False, fp16_scale_tolerance=0.0, fp16_scale_window=None, joined_dictionary=False, log_file=None, log_format=None, log_interval=100, lr_scheduler='fixed', memory_efficient_bf16=False, memory_efficient_fp16=False, min_loss_scale=0.0001, model_parallel_size=1, no_progress_bar=False, nwordssrc=-1, nwordstgt=-1, on_cpu_convert_precision=False, only_source=True, optimizer=None, padding_factor=8, plasma_path='/tmp/plasma', profile=False, quantization_config_path=None, reset_logging=False, scoring='bleu', seed=1, source_lang='all', srcdict=None, suppress_crashes=False, target_lang=None, task='translation_multi_simple_epoch', tensorboard_logdir=None, testpref=None, tgtdict=None, threshold_loss_scale=None, thresholdsrc=0, thresholdtgt=0, tokenizer=None, tpu=False, trainpref='/storage/master-thesis/models/resdrop__nl-en_it-en_ro-en_en-de/tokenizers/it-nl-ro-en-de/bin/train', use_plasma_view=False, user_dir=None, validpref=None, wandb_project=None, workers=20)\n",
      "2022-10-29 22:19:31 | INFO | fairseq_cli.preprocess | [all] Dictionary: 29312 types\n",
      "2022-10-29 22:19:51 | INFO | fairseq_cli.preprocess | [all] /storage/master-thesis/models/resdrop__nl-en_it-en_ro-en_en-de/tokenizers/it-nl-ro-en-de/bin/train.all: 899650 sents, 20643737 tokens, 0.0% replaced (by <unk>)\n",
      "2022-10-29 22:19:51 | INFO | fairseq_cli.preprocess | Wrote preprocessed data to /storage/master-thesis/models/resdrop__nl-en_it-en_ro-en_en-de/tokenizers/it-nl-ro-en-de/bin\n"
     ]
    }
   ],
   "source": [
    "! fairseq-preprocess --source-lang all \\\n",
    "    --trainpref $BIN_DIR/train \\\n",
    "    --destdir $BIN_DIR \\\n",
    "    --workers 20 \\\n",
    "    --task translation_multi_simple_epoch \\\n",
    "    --only-source"
   ]
  },
  {
   "cell_type": "code",
   "execution_count": 22,
   "metadata": {},
   "outputs": [
    {
     "name": "stdout",
     "output_type": "stream",
     "text": [
      "2022-10-29 22:19:53 | INFO | fairseq_cli.preprocess | Namespace(aim_repo=None, aim_run_hash=None, align_suffix=None, alignfile=None, all_gather_list_size=16384, amp=False, amp_batch_retries=2, amp_init_scale=128, amp_scale_window=None, azureml_logging=False, bf16=False, bpe=None, cpu=False, criterion='cross_entropy', dataset_impl='mmap', destdir='/storage/master-thesis/models/resdrop__nl-en_it-en_ro-en_en-de/tokenizers/it-nl-ro-en-de/bin', dict_only=False, empty_cache_freq=0, fp16=False, fp16_init_scale=128, fp16_no_flatten_grads=False, fp16_scale_tolerance=0.0, fp16_scale_window=None, joined_dictionary=False, log_file=None, log_format=None, log_interval=100, lr_scheduler='fixed', memory_efficient_bf16=False, memory_efficient_fp16=False, min_loss_scale=0.0001, model_parallel_size=1, no_progress_bar=False, nwordssrc=-1, nwordstgt=-1, on_cpu_convert_precision=False, only_source=False, optimizer=None, padding_factor=8, plasma_path='/tmp/plasma', profile=False, quantization_config_path=None, reset_logging=False, scoring='bleu', seed=1, source_lang='it', srcdict='/storage/master-thesis/models/resdrop__nl-en_it-en_ro-en_en-de/tokenizers/it-nl-ro-en-de/bin/dict.all.txt', suppress_crashes=False, target_lang='en', task='translation_multi_simple_epoch', tensorboard_logdir=None, testpref=None, tgtdict='/storage/master-thesis/models/resdrop__nl-en_it-en_ro-en_en-de/tokenizers/it-nl-ro-en-de/bin/dict.all.txt', threshold_loss_scale=None, thresholdsrc=0, thresholdtgt=0, tokenizer=None, tpu=False, trainpref='/storage/master-thesis/models/resdrop__nl-en_it-en_ro-en_en-de/tokenizers/it-nl-ro-en-de/en-it/train', use_plasma_view=False, user_dir=None, validpref='/storage/master-thesis/models/resdrop__nl-en_it-en_ro-en_en-de/tokenizers/it-nl-ro-en-de/en-it/valid', wandb_project=None, workers=20)\n",
      "2022-10-29 22:19:53 | INFO | fairseq_cli.preprocess | [it] Dictionary: 29312 types\n",
      "2022-10-29 22:19:56 | INFO | fairseq_cli.preprocess | [it] /storage/master-thesis/models/resdrop__nl-en_it-en_ro-en_en-de/tokenizers/it-nl-ro-en-de/en-it/train.it: 145105 sents, 3375399 tokens, 0.0% replaced (by <unk>)\n",
      "2022-10-29 22:19:56 | INFO | fairseq_cli.preprocess | [it] Dictionary: 29312 types\n",
      "2022-10-29 22:19:56 | INFO | fairseq_cli.preprocess | [it] /storage/master-thesis/models/resdrop__nl-en_it-en_ro-en_en-de/tokenizers/it-nl-ro-en-de/en-it/valid.it: 929 sents, 23680 tokens, 0.0591% replaced (by <unk>)\n",
      "2022-10-29 22:19:56 | INFO | fairseq_cli.preprocess | [en] Dictionary: 29312 types\n",
      "2022-10-29 22:19:59 | INFO | fairseq_cli.preprocess | [en] /storage/master-thesis/models/resdrop__nl-en_it-en_ro-en_en-de/tokenizers/it-nl-ro-en-de/en-it/train.en: 145105 sents, 3332751 tokens, 0.0% replaced (by <unk>)\n",
      "2022-10-29 22:19:59 | INFO | fairseq_cli.preprocess | [en] Dictionary: 29312 types\n",
      "2022-10-29 22:20:00 | INFO | fairseq_cli.preprocess | [en] /storage/master-thesis/models/resdrop__nl-en_it-en_ro-en_en-de/tokenizers/it-nl-ro-en-de/en-it/valid.en: 929 sents, 24225 tokens, 0.066% replaced (by <unk>)\n",
      "2022-10-29 22:20:00 | INFO | fairseq_cli.preprocess | Wrote preprocessed data to /storage/master-thesis/models/resdrop__nl-en_it-en_ro-en_en-de/tokenizers/it-nl-ro-en-de/bin\n"
     ]
    }
   ],
   "source": [
    "! fairseq-preprocess --source-lang it --target-lang en \\\n",
    "    --trainpref $TOKENIZED_PATH_EN_IT/train --validpref $TOKENIZED_PATH_EN_IT/valid \\\n",
    "    --destdir $BIN_DIR \\\n",
    "    --srcdict $BIN_DIR/dict.all.txt \\\n",
    "    --tgtdict $BIN_DIR/dict.all.txt \\\n",
    "    --task translation_multi_simple_epoch \\\n",
    "    --workers 20"
   ]
  },
  {
   "cell_type": "code",
   "execution_count": 23,
   "metadata": {},
   "outputs": [
    {
     "name": "stdout",
     "output_type": "stream",
     "text": [
      "2022-10-29 22:20:02 | INFO | fairseq_cli.preprocess | Namespace(aim_repo=None, aim_run_hash=None, align_suffix=None, alignfile=None, all_gather_list_size=16384, amp=False, amp_batch_retries=2, amp_init_scale=128, amp_scale_window=None, azureml_logging=False, bf16=False, bpe=None, cpu=False, criterion='cross_entropy', dataset_impl='mmap', destdir='/storage/master-thesis/models/resdrop__nl-en_it-en_ro-en_en-de/tokenizers/it-nl-ro-en-de/bin', dict_only=False, empty_cache_freq=0, fp16=False, fp16_init_scale=128, fp16_no_flatten_grads=False, fp16_scale_tolerance=0.0, fp16_scale_window=None, joined_dictionary=False, log_file=None, log_format=None, log_interval=100, lr_scheduler='fixed', memory_efficient_bf16=False, memory_efficient_fp16=False, min_loss_scale=0.0001, model_parallel_size=1, no_progress_bar=False, nwordssrc=-1, nwordstgt=-1, on_cpu_convert_precision=False, only_source=False, optimizer=None, padding_factor=8, plasma_path='/tmp/plasma', profile=False, quantization_config_path=None, reset_logging=False, scoring='bleu', seed=1, source_lang='nl', srcdict='/storage/master-thesis/models/resdrop__nl-en_it-en_ro-en_en-de/tokenizers/it-nl-ro-en-de/bin/dict.all.txt', suppress_crashes=False, target_lang='en', task='translation_multi_simple_epoch', tensorboard_logdir=None, testpref=None, tgtdict='/storage/master-thesis/models/resdrop__nl-en_it-en_ro-en_en-de/tokenizers/it-nl-ro-en-de/bin/dict.all.txt', threshold_loss_scale=None, thresholdsrc=0, thresholdtgt=0, tokenizer=None, tpu=False, trainpref='/storage/master-thesis/models/resdrop__nl-en_it-en_ro-en_en-de/tokenizers/it-nl-ro-en-de/en-nl/train', use_plasma_view=False, user_dir=None, validpref='/storage/master-thesis/models/resdrop__nl-en_it-en_ro-en_en-de/tokenizers/it-nl-ro-en-de/en-nl/valid', wandb_project=None, workers=20)\n",
      "2022-10-29 22:20:02 | INFO | fairseq_cli.preprocess | [nl] Dictionary: 29312 types\n",
      "2022-10-29 22:20:05 | INFO | fairseq_cli.preprocess | [nl] /storage/master-thesis/models/resdrop__nl-en_it-en_ro-en_en-de/tokenizers/it-nl-ro-en-de/en-nl/train.nl: 145105 sents, 3191574 tokens, 0.0% replaced (by <unk>)\n",
      "2022-10-29 22:20:05 | INFO | fairseq_cli.preprocess | [nl] Dictionary: 29312 types\n",
      "2022-10-29 22:20:05 | INFO | fairseq_cli.preprocess | [nl] /storage/master-thesis/models/resdrop__nl-en_it-en_ro-en_en-de/tokenizers/it-nl-ro-en-de/en-nl/valid.nl: 1003 sents, 22731 tokens, 0.0616% replaced (by <unk>)\n",
      "2022-10-29 22:20:05 | INFO | fairseq_cli.preprocess | [en] Dictionary: 29312 types\n",
      "2022-10-29 22:20:09 | INFO | fairseq_cli.preprocess | [en] /storage/master-thesis/models/resdrop__nl-en_it-en_ro-en_en-de/tokenizers/it-nl-ro-en-de/en-nl/train.en: 145105 sents, 3332751 tokens, 0.0% replaced (by <unk>)\n",
      "2022-10-29 22:20:09 | INFO | fairseq_cli.preprocess | [en] Dictionary: 29312 types\n",
      "2022-10-29 22:20:09 | INFO | fairseq_cli.preprocess | [en] /storage/master-thesis/models/resdrop__nl-en_it-en_ro-en_en-de/tokenizers/it-nl-ro-en-de/en-nl/valid.en: 1003 sents, 24300 tokens, 0.0658% replaced (by <unk>)\n",
      "2022-10-29 22:20:09 | INFO | fairseq_cli.preprocess | Wrote preprocessed data to /storage/master-thesis/models/resdrop__nl-en_it-en_ro-en_en-de/tokenizers/it-nl-ro-en-de/bin\n"
     ]
    }
   ],
   "source": [
    "! fairseq-preprocess --source-lang nl --target-lang en \\\n",
    "    --trainpref $TOKENIZED_PATH_EN_NL/train --validpref $TOKENIZED_PATH_EN_NL/valid \\\n",
    "    --destdir $BIN_DIR \\\n",
    "    --srcdict $BIN_DIR/dict.all.txt \\\n",
    "    --tgtdict $BIN_DIR/dict.all.txt \\\n",
    "    --task translation_multi_simple_epoch \\\n",
    "    --workers 20"
   ]
  },
  {
   "cell_type": "code",
   "execution_count": 24,
   "metadata": {},
   "outputs": [
    {
     "name": "stdout",
     "output_type": "stream",
     "text": [
      "2022-10-29 22:20:11 | INFO | fairseq_cli.preprocess | Namespace(aim_repo=None, aim_run_hash=None, align_suffix=None, alignfile=None, all_gather_list_size=16384, amp=False, amp_batch_retries=2, amp_init_scale=128, amp_scale_window=None, azureml_logging=False, bf16=False, bpe=None, cpu=False, criterion='cross_entropy', dataset_impl='mmap', destdir='/storage/master-thesis/models/resdrop__nl-en_it-en_ro-en_en-de/tokenizers/it-nl-ro-en-de/bin', dict_only=False, empty_cache_freq=0, fp16=False, fp16_init_scale=128, fp16_no_flatten_grads=False, fp16_scale_tolerance=0.0, fp16_scale_window=None, joined_dictionary=False, log_file=None, log_format=None, log_interval=100, lr_scheduler='fixed', memory_efficient_bf16=False, memory_efficient_fp16=False, min_loss_scale=0.0001, model_parallel_size=1, no_progress_bar=False, nwordssrc=-1, nwordstgt=-1, on_cpu_convert_precision=False, only_source=False, optimizer=None, padding_factor=8, plasma_path='/tmp/plasma', profile=False, quantization_config_path=None, reset_logging=False, scoring='bleu', seed=1, source_lang='ro', srcdict='/storage/master-thesis/models/resdrop__nl-en_it-en_ro-en_en-de/tokenizers/it-nl-ro-en-de/bin/dict.all.txt', suppress_crashes=False, target_lang='en', task='translation_multi_simple_epoch', tensorboard_logdir=None, testpref=None, tgtdict='/storage/master-thesis/models/resdrop__nl-en_it-en_ro-en_en-de/tokenizers/it-nl-ro-en-de/bin/dict.all.txt', threshold_loss_scale=None, thresholdsrc=0, thresholdtgt=0, tokenizer=None, tpu=False, trainpref='/storage/master-thesis/models/resdrop__nl-en_it-en_ro-en_en-de/tokenizers/it-nl-ro-en-de/en-ro/train', use_plasma_view=False, user_dir=None, validpref='/storage/master-thesis/models/resdrop__nl-en_it-en_ro-en_en-de/tokenizers/it-nl-ro-en-de/en-ro/valid', wandb_project=None, workers=20)\n",
      "2022-10-29 22:20:11 | INFO | fairseq_cli.preprocess | [ro] Dictionary: 29312 types\n",
      "2022-10-29 22:20:15 | INFO | fairseq_cli.preprocess | [ro] /storage/master-thesis/models/resdrop__nl-en_it-en_ro-en_en-de/tokenizers/it-nl-ro-en-de/en-ro/train.ro: 145105 sents, 3342971 tokens, 0.0% replaced (by <unk>)\n",
      "2022-10-29 22:20:15 | INFO | fairseq_cli.preprocess | [ro] Dictionary: 29312 types\n",
      "2022-10-29 22:20:15 | INFO | fairseq_cli.preprocess | [ro] /storage/master-thesis/models/resdrop__nl-en_it-en_ro-en_en-de/tokenizers/it-nl-ro-en-de/en-ro/valid.ro: 914 sents, 25026 tokens, 0.0559% replaced (by <unk>)\n",
      "2022-10-29 22:20:15 | INFO | fairseq_cli.preprocess | [en] Dictionary: 29312 types\n",
      "2022-10-29 22:20:18 | INFO | fairseq_cli.preprocess | [en] /storage/master-thesis/models/resdrop__nl-en_it-en_ro-en_en-de/tokenizers/it-nl-ro-en-de/en-ro/train.en: 145105 sents, 3332751 tokens, 0.0% replaced (by <unk>)\n",
      "2022-10-29 22:20:18 | INFO | fairseq_cli.preprocess | [en] Dictionary: 29312 types\n",
      "2022-10-29 22:20:19 | INFO | fairseq_cli.preprocess | [en] /storage/master-thesis/models/resdrop__nl-en_it-en_ro-en_en-de/tokenizers/it-nl-ro-en-de/en-ro/valid.en: 914 sents, 24223 tokens, 0.0661% replaced (by <unk>)\n",
      "2022-10-29 22:20:19 | INFO | fairseq_cli.preprocess | Wrote preprocessed data to /storage/master-thesis/models/resdrop__nl-en_it-en_ro-en_en-de/tokenizers/it-nl-ro-en-de/bin\n"
     ]
    }
   ],
   "source": [
    "! fairseq-preprocess --source-lang ro --target-lang en \\\n",
    "    --trainpref $TOKENIZED_PATH_EN_RO/train --validpref $TOKENIZED_PATH_EN_RO/valid \\\n",
    "    --destdir $BIN_DIR \\\n",
    "    --srcdict $BIN_DIR/dict.all.txt \\\n",
    "    --tgtdict $BIN_DIR/dict.all.txt \\\n",
    "    --task translation_multi_simple_epoch \\\n",
    "    --workers 20"
   ]
  },
  {
   "cell_type": "code",
   "execution_count": 25,
   "metadata": {},
   "outputs": [
    {
     "name": "stdout",
     "output_type": "stream",
     "text": [
      "2022-10-29 22:20:21 | INFO | fairseq_cli.preprocess | Namespace(aim_repo=None, aim_run_hash=None, align_suffix=None, alignfile=None, all_gather_list_size=16384, amp=False, amp_batch_retries=2, amp_init_scale=128, amp_scale_window=None, azureml_logging=False, bf16=False, bpe=None, cpu=False, criterion='cross_entropy', dataset_impl='mmap', destdir='/storage/master-thesis/models/resdrop__nl-en_it-en_ro-en_en-de/tokenizers/it-nl-ro-en-de/bin', dict_only=False, empty_cache_freq=0, fp16=False, fp16_init_scale=128, fp16_no_flatten_grads=False, fp16_scale_tolerance=0.0, fp16_scale_window=None, joined_dictionary=False, log_file=None, log_format=None, log_interval=100, lr_scheduler='fixed', memory_efficient_bf16=False, memory_efficient_fp16=False, min_loss_scale=0.0001, model_parallel_size=1, no_progress_bar=False, nwordssrc=-1, nwordstgt=-1, on_cpu_convert_precision=False, only_source=False, optimizer=None, padding_factor=8, plasma_path='/tmp/plasma', profile=False, quantization_config_path=None, reset_logging=False, scoring='bleu', seed=1, source_lang='en', srcdict='/storage/master-thesis/models/resdrop__nl-en_it-en_ro-en_en-de/tokenizers/it-nl-ro-en-de/bin/dict.all.txt', suppress_crashes=False, target_lang='de', task='translation_multi_simple_epoch', tensorboard_logdir=None, testpref=None, tgtdict='/storage/master-thesis/models/resdrop__nl-en_it-en_ro-en_en-de/tokenizers/it-nl-ro-en-de/bin/dict.all.txt', threshold_loss_scale=None, thresholdsrc=0, thresholdtgt=0, tokenizer=None, tpu=False, trainpref='/storage/master-thesis/models/resdrop__nl-en_it-en_ro-en_en-de/tokenizers/it-nl-ro-en-de/de-en/train', use_plasma_view=False, user_dir=None, validpref='/storage/master-thesis/models/resdrop__nl-en_it-en_ro-en_en-de/tokenizers/it-nl-ro-en-de/de-en/valid', wandb_project=None, workers=20)\n",
      "2022-10-29 22:20:21 | INFO | fairseq_cli.preprocess | [en] Dictionary: 29312 types\n",
      "2022-10-29 22:20:21 | INFO | fairseq_cli.preprocess | [en] /storage/master-thesis/models/resdrop__nl-en_it-en_ro-en_en-de/tokenizers/it-nl-ro-en-de/de-en/train.en: 14510 sents, 332275 tokens, 0.0% replaced (by <unk>)\n",
      "2022-10-29 22:20:21 | INFO | fairseq_cli.preprocess | [en] Dictionary: 29312 types\n",
      "2022-10-29 22:20:22 | INFO | fairseq_cli.preprocess | [en] /storage/master-thesis/models/resdrop__nl-en_it-en_ro-en_en-de/tokenizers/it-nl-ro-en-de/de-en/valid.en: 1138 sents, 24977 tokens, 2.53% replaced (by <unk>)\n",
      "2022-10-29 22:20:22 | INFO | fairseq_cli.preprocess | [de] Dictionary: 29312 types\n",
      "2022-10-29 22:20:22 | INFO | fairseq_cli.preprocess | [de] /storage/master-thesis/models/resdrop__nl-en_it-en_ro-en_en-de/tokenizers/it-nl-ro-en-de/de-en/train.de: 14510 sents, 403265 tokens, 0.0% replaced (by <unk>)\n",
      "2022-10-29 22:20:22 | INFO | fairseq_cli.preprocess | [de] Dictionary: 29312 types\n",
      "2022-10-29 22:20:23 | INFO | fairseq_cli.preprocess | [de] /storage/master-thesis/models/resdrop__nl-en_it-en_ro-en_en-de/tokenizers/it-nl-ro-en-de/de-en/valid.de: 1138 sents, 31232 tokens, 0.756% replaced (by <unk>)\n",
      "2022-10-29 22:20:23 | INFO | fairseq_cli.preprocess | Wrote preprocessed data to /storage/master-thesis/models/resdrop__nl-en_it-en_ro-en_en-de/tokenizers/it-nl-ro-en-de/bin\n"
     ]
    }
   ],
   "source": [
    "! fairseq-preprocess --source-lang en --target-lang de \\\n",
    "    --trainpref $TOKENIZED_PATH_DE_EN/train --validpref $TOKENIZED_PATH_DE_EN/valid \\\n",
    "    --destdir $BIN_DIR \\\n",
    "    --srcdict $BIN_DIR/dict.all.txt \\\n",
    "    --tgtdict $BIN_DIR/dict.all.txt \\\n",
    "    --task translation_multi_simple_epoch \\\n",
    "    --workers 20"
   ]
  },
  {
   "cell_type": "code",
   "execution_count": 12,
   "metadata": {},
   "outputs": [
    {
     "name": "stdout",
     "output_type": "stream",
     "text": [
      "checkpoint64.pt  checkpoint_best.pt  \u001b[0m\u001b[01;34mtokenizers\u001b[0m/\n",
      "checkpoint65.pt  checkpoint_last.pt\n"
     ]
    }
   ],
   "source": [
    "ls $MODEL_DIR"
   ]
  },
  {
   "cell_type": "markdown",
   "metadata": {},
   "source": [
    "## Training model"
   ]
  },
  {
   "cell_type": "code",
   "execution_count": 31,
   "metadata": {},
   "outputs": [
    {
     "name": "stdout",
     "output_type": "stream",
     "text": [
      "/storage/code\n"
     ]
    }
   ],
   "source": [
    "cd /storage/code"
   ]
  },
  {
   "cell_type": "code",
   "execution_count": 32,
   "metadata": {},
   "outputs": [],
   "source": [
    "rm -r fairseq"
   ]
  },
  {
   "cell_type": "code",
   "execution_count": 33,
   "metadata": {},
   "outputs": [
    {
     "name": "stdout",
     "output_type": "stream",
     "text": [
      "Cloning into 'fairseq'...\n",
      "remote: Enumerating objects: 25264, done.\u001b[K\n",
      "remote: Counting objects: 100% (32/32), done.\u001b[K\n",
      "remote: Compressing objects: 100% (21/21), done.\u001b[K\n",
      "remote: Total 25264 (delta 7), reused 27 (delta 7), pack-reused 25232\u001b[K\n",
      "Receiving objects: 100% (25264/25264), 19.76 MiB | 43.51 MiB/s, done.\n",
      "Resolving deltas: 100% (18322/18322), done.\n"
     ]
    }
   ],
   "source": [
    "! git clone https://github.com/dannigt/fairseq.git"
   ]
  },
  {
   "cell_type": "code",
   "execution_count": 34,
   "metadata": {},
   "outputs": [
    {
     "name": "stdout",
     "output_type": "stream",
     "text": [
      "/notebooks\n"
     ]
    }
   ],
   "source": [
    "cd /notebooks"
   ]
  },
  {
   "cell_type": "code",
   "execution_count": null,
   "metadata": {},
   "outputs": [
    {
     "name": "stdout",
     "output_type": "stream",
     "text": [
      "2022-10-29 22:21:46 | INFO | fairseq_cli.train | {'_name': None, 'common': {'_name': None, 'no_progress_bar': False, 'log_interval': 100, 'log_format': None, 'log_file': None, 'aim_repo': None, 'aim_run_hash': None, 'tensorboard_logdir': None, 'wandb_project': None, 'azureml_logging': False, 'seed': 1, 'cpu': False, 'tpu': False, 'bf16': False, 'memory_efficient_bf16': False, 'fp16': True, 'memory_efficient_fp16': False, 'fp16_no_flatten_grads': False, 'fp16_init_scale': 128, 'fp16_scale_window': None, 'fp16_scale_tolerance': 0.0, 'on_cpu_convert_precision': False, 'min_loss_scale': 0.0001, 'threshold_loss_scale': None, 'amp': False, 'amp_batch_retries': 2, 'amp_init_scale': 128, 'amp_scale_window': None, 'user_dir': '/storage/code/fairseq/examples/residual_drop/residual_drop_src/', 'empty_cache_freq': 0, 'all_gather_list_size': 16384, 'model_parallel_size': 1, 'quantization_config_path': None, 'profile': False, 'reset_logging': False, 'suppress_crashes': False, 'use_plasma_view': False, 'plasma_path': '/tmp/plasma'}, 'common_eval': {'_name': None, 'path': None, 'post_process': None, 'quiet': False, 'model_overrides': '{}', 'results_path': None}, 'distributed_training': {'_name': None, 'distributed_world_size': 1, 'distributed_num_procs': 1, 'distributed_rank': 0, 'distributed_backend': 'nccl', 'distributed_init_method': None, 'distributed_port': -1, 'device_id': 0, 'distributed_no_spawn': False, 'ddp_backend': 'pytorch_ddp', 'ddp_comm_hook': 'none', 'bucket_cap_mb': 25, 'fix_batches_to_gpus': False, 'find_unused_parameters': False, 'gradient_as_bucket_view': False, 'fast_stat_sync': False, 'heartbeat_timeout': -1, 'broadcast_buffers': False, 'slowmo_momentum': None, 'slowmo_base_algorithm': 'localsgd', 'localsgd_frequency': 3, 'nprocs_per_node': 1, 'pipeline_model_parallel': False, 'pipeline_balance': None, 'pipeline_devices': None, 'pipeline_chunks': 0, 'pipeline_encoder_balance': None, 'pipeline_encoder_devices': None, 'pipeline_decoder_balance': None, 'pipeline_decoder_devices': None, 'pipeline_checkpoint': 'never', 'zero_sharding': 'none', 'fp16': True, 'memory_efficient_fp16': False, 'tpu': False, 'no_reshard_after_forward': False, 'fp32_reduce_scatter': False, 'cpu_offload': False, 'use_sharded_state': False, 'not_fsdp_flatten_parameters': False}, 'dataset': {'_name': None, 'num_workers': 1, 'skip_invalid_size_inputs_valid_test': False, 'max_tokens': 4096, 'batch_size': None, 'required_batch_size_multiple': 8, 'required_seq_len_multiple': 1, 'dataset_impl': None, 'data_buffer_size': 10, 'train_subset': 'train', 'valid_subset': 'valid', 'combine_valid_subsets': None, 'ignore_unused_valid_subsets': False, 'validate_interval': 1, 'validate_interval_updates': 0, 'validate_after_updates': 0, 'fixed_validation_seed': None, 'disable_validation': False, 'max_tokens_valid': 4096, 'batch_size_valid': None, 'max_valid_steps': None, 'curriculum': 0, 'gen_subset': 'test', 'num_shards': 1, 'shard_id': 0, 'grouped_shuffling': False, 'update_epoch_batch_itr': False, 'update_ordered_indices_seed': False}, 'optimization': {'_name': None, 'max_epoch': 200, 'max_update': 0, 'stop_time_hours': 0.0, 'clip_norm': 0.0, 'sentence_avg': False, 'update_freq': [1], 'lr': [0.0005], 'stop_min_lr': -1.0, 'use_bmuf': False, 'skip_remainder_batch': False}, 'checkpoint': {'_name': None, 'save_dir': '/storage/master-thesis/models/resdrop__nl-en_it-en_ro-en_en-de/', 'restore_file': '/storage/master-thesis/models/resdrop__nl-en_it-en_ro-en_en-de/checkpoint_last.pt', 'continue_once': None, 'finetune_from_model': None, 'reset_dataloader': False, 'reset_lr_scheduler': False, 'reset_meters': False, 'reset_optimizer': True, 'optimizer_overrides': '{}', 'save_interval': 1, 'save_interval_updates': 0, 'keep_interval_updates': -1, 'keep_interval_updates_pattern': -1, 'keep_last_epochs': 2, 'keep_best_checkpoints': -1, 'no_save': False, 'no_epoch_checkpoints': False, 'no_last_checkpoints': False, 'no_save_optimizer_state': False, 'best_checkpoint_metric': 'loss', 'maximize_best_checkpoint_metric': False, 'patience': 10, 'checkpoint_suffix': '', 'checkpoint_shard_count': 1, 'load_checkpoint_on_all_dp_ranks': False, 'write_checkpoints_asynchronously': False, 'model_parallel_size': 1}, 'bmuf': {'_name': None, 'block_lr': 1.0, 'block_momentum': 0.875, 'global_sync_iter': 50, 'warmup_iterations': 500, 'use_nbm': False, 'average_sync': False, 'distributed_world_size': 1}, 'generation': {'_name': None, 'beam': 5, 'nbest': 1, 'max_len_a': 0.0, 'max_len_b': 200, 'min_len': 1, 'match_source_len': False, 'unnormalized': False, 'no_early_stop': False, 'no_beamable_mm': False, 'lenpen': 1.0, 'unkpen': 0.0, 'replace_unk': None, 'sacrebleu': False, 'score_reference': False, 'prefix_size': 0, 'no_repeat_ngram_size': 0, 'sampling': False, 'sampling_topk': -1, 'sampling_topp': -1.0, 'constraints': None, 'temperature': 1.0, 'diverse_beam_groups': -1, 'diverse_beam_strength': 0.5, 'diversity_rate': -1.0, 'print_alignment': None, 'print_step': False, 'lm_path': None, 'lm_weight': 0.0, 'iter_decode_eos_penalty': 0.0, 'iter_decode_max_iter': 10, 'iter_decode_force_max_iter': False, 'iter_decode_with_beam': 1, 'iter_decode_with_external_reranker': False, 'retain_iter_history': False, 'retain_dropout': False, 'retain_dropout_modules': None, 'decoding_format': None, 'no_seed_provided': False, 'eos_token': None}, 'eval_lm': {'_name': None, 'output_word_probs': False, 'output_word_stats': False, 'context_window': 0, 'softmax_batch': 9223372036854775807}, 'interactive': {'_name': None, 'buffer_size': 0, 'input': '-'}, 'model': Namespace(_name='residual_drop_transformer', activation_dropout=0.0, activation_fn='relu', adam_betas='(0.9, 0.98)', adam_eps=1e-08, adaptive_input=False, adaptive_softmax_cutoff=None, adaptive_softmax_dropout=0, aim_repo=None, aim_run_hash=None, all_gather_list_size=16384, amp=False, amp_batch_retries=2, amp_init_scale=128, amp_scale_window=None, arch='residual_drop_transformer', attention_dropout=0.0, azureml_logging=False, batch_size=None, batch_size_valid=None, best_checkpoint_metric='loss', bf16=False, bpe=None, broadcast_buffers=False, bucket_cap_mb=25, checkpoint_activations=False, checkpoint_shard_count=1, checkpoint_suffix='', clip_norm=0.0, combine_valid_subsets=None, continue_once=None, cpu=False, cpu_offload=False, criterion='label_smoothed_cross_entropy', cross_self_attention=False, curriculum=0, data='/storage/master-thesis/models/resdrop__nl-en_it-en_ro-en_en-de/tokenizers/it-nl-ro-en-de/bin', data_buffer_size=10, dataset_impl=None, ddp_backend='pytorch_ddp', ddp_comm_hook='none', decoder_attention_heads=8, decoder_embed_dim=512, decoder_embed_path=None, decoder_ffn_embed_dim=2048, decoder_input_dim=512, decoder_langtok=True, decoder_layerdrop=0, decoder_layers=6, decoder_layers_to_keep=None, decoder_learned_pos=False, decoder_normalize_before=False, decoder_output_dim=512, device_id=0, disable_validation=False, distributed_backend='nccl', distributed_init_method=None, distributed_no_spawn=False, distributed_num_procs=1, distributed_port=-1, distributed_rank=0, distributed_world_size=1, dropout=0.3, ema_decay=0.9999, ema_fp32=False, ema_seed_model=None, ema_start_update=0, ema_update_freq=1, empty_cache_freq=0, enable_lang_ids=False, enable_reservsed_directions_shared_datasets=False, encoder_attention_heads=8, encoder_drop_residual=2, encoder_embed_dim=512, encoder_embed_path=None, encoder_ffn_embed_dim=2048, encoder_langtok='src', encoder_layerdrop=0, encoder_layers=6, encoder_layers_to_keep=None, encoder_learned_pos=False, encoder_normalize_before=False, eos=2, extra_data=None, extra_lang_pairs=None, fast_stat_sync=False, find_unused_parameters=False, finetune_from_model=None, fix_batches_to_gpus=False, fixed_dictionary=None, fixed_validation_seed=None, fp16=True, fp16_adam_stats=False, fp16_init_scale=128, fp16_no_flatten_grads=False, fp16_scale_tolerance=0.0, fp16_scale_window=None, fp32_reduce_scatter=False, gen_subset='test', gradient_as_bucket_view=False, grouped_shuffling=False, heartbeat_timeout=-1, ignore_prefix_size=0, ignore_unused_valid_subsets=False, keep_best_checkpoints=-1, keep_inference_langtok=False, keep_interval_updates=-1, keep_interval_updates_pattern=-1, keep_last_epochs=2, label_smoothing=0.1, lang_dict=None, lang_pairs='it-en,nl-en,ro-en,en-de', lang_tok_replacing_bos_eos=False, lang_tok_style='multilingual', langs=None, langtoks=None, langtoks_specs=['main'], layernorm_embedding=False, left_pad_source='True', left_pad_target='False', load_alignments=False, load_checkpoint_on_all_dp_ranks=False, localsgd_frequency=3, log_file=None, log_format=None, log_interval=100, lr=[0.0005], lr_scheduler='inverse_sqrt', max_epoch=200, max_tokens=4096, max_tokens_valid=4096, max_update=0, max_valid_steps=None, maximize_best_checkpoint_metric=False, memory_efficient_bf16=False, memory_efficient_fp16=False, min_loss_scale=0.0001, model_parallel_size=1, no_cross_attention=False, no_epoch_checkpoints=False, no_last_checkpoints=False, no_progress_bar=False, no_reshard_after_forward=False, no_save=False, no_save_optimizer_state=False, no_scale_embedding=False, no_seed_provided=False, no_token_positional_embeddings=False, not_fsdp_flatten_parameters=False, nprocs_per_node=1, num_shards=1, num_workers=1, offload_activations=False, on_cpu_convert_precision=False, optimizer='adam', optimizer_overrides='{}', pad=1, patience=10, pipeline_balance=None, pipeline_checkpoint='never', pipeline_chunks=0, pipeline_decoder_balance=None, pipeline_decoder_devices=None, pipeline_devices=None, pipeline_encoder_balance=None, pipeline_encoder_devices=None, pipeline_model_parallel=False, plasma_path='/tmp/plasma', profile=False, quant_noise_pq=0, quant_noise_pq_block_size=8, quant_noise_scalar=0, quantization_config_path=None, report_accuracy=False, required_batch_size_multiple=8, required_seq_len_multiple=1, reset_dataloader=False, reset_logging=False, reset_lr_scheduler=False, reset_meters=False, reset_optimizer=True, restore_file='/storage/master-thesis/models/resdrop__nl-en_it-en_ro-en_en-de/checkpoint_last.pt', sampling_method='concat', sampling_temperature=1.5, sampling_weights=None, sampling_weights_from_file=None, save_dir='/storage/master-thesis/models/resdrop__nl-en_it-en_ro-en_en-de/', save_interval=1, save_interval_updates=0, scoring='bleu', seed=1, sentence_avg=False, shard_id=0, share_all_embeddings=True, share_decoder_input_output_embed=False, skip_invalid_size_inputs_valid_test=False, skip_remainder_batch=False, slowmo_base_algorithm='localsgd', slowmo_momentum=None, source_dict=None, source_lang=None, stop_min_lr=-1.0, stop_time_hours=0, store_ema=False, suppress_crashes=False, target_dict=None, target_lang=None, task='translation_multi_simple_epoch', tensorboard_logdir=None, threshold_loss_scale=None, tie_adaptive_weights=False, tokenizer=None, tpu=False, train_subset='train', truncate_source=False, unk=3, update_epoch_batch_itr=False, update_freq=[1], update_ordered_indices_seed=False, upsample_primary=1, use_bmuf=False, use_old_adam=False, use_plasma_view=False, use_sharded_state=False, user_dir='/storage/code/fairseq/examples/residual_drop/residual_drop_src/', valid_subset='valid', validate_after_updates=0, validate_interval=1, validate_interval_updates=0, virtual_data_size=None, virtual_epoch_size=None, wandb_project=None, warmup_init_lr=-1, warmup_updates=4000, weight_decay=0.0001, write_checkpoints_asynchronously=False, zero_sharding='none'), 'task': Namespace(_name='translation_multi_simple_epoch', activation_dropout=0.0, activation_fn='relu', adam_betas='(0.9, 0.98)', adam_eps=1e-08, adaptive_input=False, adaptive_softmax_cutoff=None, adaptive_softmax_dropout=0, aim_repo=None, aim_run_hash=None, all_gather_list_size=16384, amp=False, amp_batch_retries=2, amp_init_scale=128, amp_scale_window=None, arch='residual_drop_transformer', attention_dropout=0.0, azureml_logging=False, batch_size=None, batch_size_valid=None, best_checkpoint_metric='loss', bf16=False, bpe=None, broadcast_buffers=False, bucket_cap_mb=25, checkpoint_activations=False, checkpoint_shard_count=1, checkpoint_suffix='', clip_norm=0.0, combine_valid_subsets=None, continue_once=None, cpu=False, cpu_offload=False, criterion='label_smoothed_cross_entropy', cross_self_attention=False, curriculum=0, data='/storage/master-thesis/models/resdrop__nl-en_it-en_ro-en_en-de/tokenizers/it-nl-ro-en-de/bin', data_buffer_size=10, dataset_impl=None, ddp_backend='pytorch_ddp', ddp_comm_hook='none', decoder_attention_heads=8, decoder_embed_dim=512, decoder_embed_path=None, decoder_ffn_embed_dim=2048, decoder_input_dim=512, decoder_langtok=True, decoder_layerdrop=0, decoder_layers=6, decoder_layers_to_keep=None, decoder_learned_pos=False, decoder_normalize_before=False, decoder_output_dim=512, device_id=0, disable_validation=False, distributed_backend='nccl', distributed_init_method=None, distributed_no_spawn=False, distributed_num_procs=1, distributed_port=-1, distributed_rank=0, distributed_world_size=1, dropout=0.3, ema_decay=0.9999, ema_fp32=False, ema_seed_model=None, ema_start_update=0, ema_update_freq=1, empty_cache_freq=0, enable_lang_ids=False, enable_reservsed_directions_shared_datasets=False, encoder_attention_heads=8, encoder_drop_residual=2, encoder_embed_dim=512, encoder_embed_path=None, encoder_ffn_embed_dim=2048, encoder_langtok='src', encoder_layerdrop=0, encoder_layers=6, encoder_layers_to_keep=None, encoder_learned_pos=False, encoder_normalize_before=False, eos=2, extra_data=None, extra_lang_pairs=None, fast_stat_sync=False, find_unused_parameters=False, finetune_from_model=None, fix_batches_to_gpus=False, fixed_dictionary=None, fixed_validation_seed=None, fp16=True, fp16_adam_stats=False, fp16_init_scale=128, fp16_no_flatten_grads=False, fp16_scale_tolerance=0.0, fp16_scale_window=None, fp32_reduce_scatter=False, gen_subset='test', gradient_as_bucket_view=False, grouped_shuffling=False, heartbeat_timeout=-1, ignore_prefix_size=0, ignore_unused_valid_subsets=False, keep_best_checkpoints=-1, keep_inference_langtok=False, keep_interval_updates=-1, keep_interval_updates_pattern=-1, keep_last_epochs=2, label_smoothing=0.1, lang_dict=None, lang_pairs='it-en,nl-en,ro-en,en-de', lang_tok_replacing_bos_eos=False, lang_tok_style='multilingual', langs=None, langtoks=None, langtoks_specs=['main'], layernorm_embedding=False, left_pad_source='True', left_pad_target='False', load_alignments=False, load_checkpoint_on_all_dp_ranks=False, localsgd_frequency=3, log_file=None, log_format=None, log_interval=100, lr=[0.0005], lr_scheduler='inverse_sqrt', max_epoch=200, max_source_positions=1024, max_target_positions=1024, max_tokens=4096, max_tokens_valid=4096, max_update=0, max_valid_steps=None, maximize_best_checkpoint_metric=False, memory_efficient_bf16=False, memory_efficient_fp16=False, min_loss_scale=0.0001, model_parallel_size=1, no_cross_attention=False, no_epoch_checkpoints=False, no_last_checkpoints=False, no_progress_bar=False, no_reshard_after_forward=False, no_save=False, no_save_optimizer_state=False, no_scale_embedding=False, no_seed_provided=False, no_token_positional_embeddings=False, not_fsdp_flatten_parameters=False, nprocs_per_node=1, num_shards=1, num_workers=1, offload_activations=False, on_cpu_convert_precision=False, optimizer='adam', optimizer_overrides='{}', pad=1, patience=10, pipeline_balance=None, pipeline_checkpoint='never', pipeline_chunks=0, pipeline_decoder_balance=None, pipeline_decoder_devices=None, pipeline_devices=None, pipeline_encoder_balance=None, pipeline_encoder_devices=None, pipeline_model_parallel=False, plasma_path='/tmp/plasma', profile=False, quant_noise_pq=0, quant_noise_pq_block_size=8, quant_noise_scalar=0, quantization_config_path=None, report_accuracy=False, required_batch_size_multiple=8, required_seq_len_multiple=1, reset_dataloader=False, reset_logging=False, reset_lr_scheduler=False, reset_meters=False, reset_optimizer=True, restore_file='/storage/master-thesis/models/resdrop__nl-en_it-en_ro-en_en-de/checkpoint_last.pt', sampling_method='concat', sampling_temperature=1.5, sampling_weights=None, sampling_weights_from_file=None, save_dir='/storage/master-thesis/models/resdrop__nl-en_it-en_ro-en_en-de/', save_interval=1, save_interval_updates=0, scoring='bleu', seed=1, sentence_avg=False, shard_id=0, share_all_embeddings=True, share_decoder_input_output_embed=False, skip_invalid_size_inputs_valid_test=False, skip_remainder_batch=False, slowmo_base_algorithm='localsgd', slowmo_momentum=None, source_dict=None, source_lang=None, stop_min_lr=-1.0, stop_time_hours=0, store_ema=False, suppress_crashes=False, target_dict=None, target_lang=None, task='translation_multi_simple_epoch', tensorboard_logdir=None, threshold_loss_scale=None, tie_adaptive_weights=False, tokenizer=None, tpu=False, train_subset='train', truncate_source=False, unk=3, update_epoch_batch_itr=False, update_freq=[1], update_ordered_indices_seed=False, upsample_primary=1, use_bmuf=False, use_old_adam=False, use_plasma_view=False, use_sharded_state=False, user_dir='/storage/code/fairseq/examples/residual_drop/residual_drop_src/', valid_subset='valid', validate_after_updates=0, validate_interval=1, validate_interval_updates=0, virtual_data_size=None, virtual_epoch_size=None, wandb_project=None, warmup_init_lr=-1, warmup_updates=4000, weight_decay=0.0001, write_checkpoints_asynchronously=False, zero_sharding='none'), 'criterion': {'_name': 'label_smoothed_cross_entropy', 'label_smoothing': 0.1, 'report_accuracy': False, 'ignore_prefix_size': 0, 'sentence_avg': False}, 'optimizer': {'_name': 'adam', 'adam_betas': '(0.9, 0.98)', 'adam_eps': 1e-08, 'weight_decay': 0.0001, 'use_old_adam': False, 'fp16_adam_stats': False, 'tpu': False, 'lr': [0.0005]}, 'lr_scheduler': {'_name': 'inverse_sqrt', 'warmup_updates': 4000, 'warmup_init_lr': -1.0, 'lr': [0.0005]}, 'scoring': {'_name': 'bleu', 'pad': 1, 'eos': 2, 'unk': 3}, 'bpe': None, 'tokenizer': None, 'ema': {'_name': None, 'store_ema': False, 'ema_decay': 0.9999, 'ema_start_update': 0, 'ema_seed_model': None, 'ema_update_freq': 1, 'ema_fp32': False}}\n",
      "2022-10-29 22:21:46 | WARNING | fairseq.data.multilingual.multilingual_data_manager | External language dictionary is not provided; use lang-pairs to infer the set of supported languages. The language ordering is not stable which might cause misalignment in pretraining and finetuning.\n",
      "2022-10-29 22:21:46 | INFO | fairseq.data.multilingual.multilingual_data_manager | inferred language list: ['de', 'en', 'it', 'nl', 'ro']\n",
      "2022-10-29 22:21:46 | INFO | fairseq.data.multilingual.multilingual_data_manager | [ro] dictionary: 29317 types\n",
      "2022-10-29 22:21:46 | INFO | fairseq.data.multilingual.multilingual_data_manager | [en] dictionary: 29317 types\n",
      "2022-10-29 22:21:47 | INFO | fairseq_cli.train | ResidualDropTransformerModel(\n",
      "  (encoder): ResidualDropTransformerEncoder(\n",
      "    (dropout_module): FairseqDropout()\n",
      "    (embed_tokens): Embedding(29317, 512, padding_idx=1)\n",
      "    (embed_positions): SinusoidalPositionalEmbedding()\n",
      "    (layers): ModuleList(\n",
      "      (0): ResidualDropTransformerEncoderLayer(\n",
      "        (self_attn): MultiheadAttention(\n",
      "          (dropout_module): FairseqDropout()\n",
      "          (k_proj): Linear(in_features=512, out_features=512, bias=True)\n",
      "          (v_proj): Linear(in_features=512, out_features=512, bias=True)\n",
      "          (q_proj): Linear(in_features=512, out_features=512, bias=True)\n",
      "          (out_proj): Linear(in_features=512, out_features=512, bias=True)\n",
      "        )\n",
      "        (self_attn_layer_norm): LayerNorm((512,), eps=1e-05, elementwise_affine=True)\n",
      "        (dropout_module): FairseqDropout()\n",
      "        (activation_dropout_module): FairseqDropout()\n",
      "        (fc1): Linear(in_features=512, out_features=2048, bias=True)\n",
      "        (fc2): Linear(in_features=2048, out_features=512, bias=True)\n",
      "        (final_layer_norm): LayerNorm((512,), eps=1e-05, elementwise_affine=True)\n",
      "      )\n",
      "      (1): ResidualDropTransformerEncoderLayer(\n",
      "        (self_attn): MultiheadAttention(\n",
      "          (dropout_module): FairseqDropout()\n",
      "          (k_proj): Linear(in_features=512, out_features=512, bias=True)\n",
      "          (v_proj): Linear(in_features=512, out_features=512, bias=True)\n",
      "          (q_proj): Linear(in_features=512, out_features=512, bias=True)\n",
      "          (out_proj): Linear(in_features=512, out_features=512, bias=True)\n",
      "        )\n",
      "        (self_attn_layer_norm): LayerNorm((512,), eps=1e-05, elementwise_affine=True)\n",
      "        (dropout_module): FairseqDropout()\n",
      "        (activation_dropout_module): FairseqDropout()\n",
      "        (fc1): Linear(in_features=512, out_features=2048, bias=True)\n",
      "        (fc2): Linear(in_features=2048, out_features=512, bias=True)\n",
      "        (final_layer_norm): LayerNorm((512,), eps=1e-05, elementwise_affine=True)\n",
      "      )\n",
      "      (2): ResidualDropTransformerEncoderLayer(\n",
      "        (self_attn): MultiheadAttention(\n",
      "          (dropout_module): FairseqDropout()\n",
      "          (k_proj): Linear(in_features=512, out_features=512, bias=True)\n",
      "          (v_proj): Linear(in_features=512, out_features=512, bias=True)\n",
      "          (q_proj): Linear(in_features=512, out_features=512, bias=True)\n",
      "          (out_proj): Linear(in_features=512, out_features=512, bias=True)\n",
      "        )\n",
      "        (self_attn_layer_norm): LayerNorm((512,), eps=1e-05, elementwise_affine=True)\n",
      "        (dropout_module): FairseqDropout()\n",
      "        (activation_dropout_module): FairseqDropout()\n",
      "        (fc1): Linear(in_features=512, out_features=2048, bias=True)\n",
      "        (fc2): Linear(in_features=2048, out_features=512, bias=True)\n",
      "        (final_layer_norm): LayerNorm((512,), eps=1e-05, elementwise_affine=True)\n",
      "      )\n",
      "      (3): ResidualDropTransformerEncoderLayer(\n",
      "        (self_attn): MultiheadAttention(\n",
      "          (dropout_module): FairseqDropout()\n",
      "          (k_proj): Linear(in_features=512, out_features=512, bias=True)\n",
      "          (v_proj): Linear(in_features=512, out_features=512, bias=True)\n",
      "          (q_proj): Linear(in_features=512, out_features=512, bias=True)\n",
      "          (out_proj): Linear(in_features=512, out_features=512, bias=True)\n",
      "        )\n",
      "        (self_attn_layer_norm): LayerNorm((512,), eps=1e-05, elementwise_affine=True)\n",
      "        (dropout_module): FairseqDropout()\n",
      "        (activation_dropout_module): FairseqDropout()\n",
      "        (fc1): Linear(in_features=512, out_features=2048, bias=True)\n",
      "        (fc2): Linear(in_features=2048, out_features=512, bias=True)\n",
      "        (final_layer_norm): LayerNorm((512,), eps=1e-05, elementwise_affine=True)\n",
      "      )\n",
      "      (4): ResidualDropTransformerEncoderLayer(\n",
      "        (self_attn): MultiheadAttention(\n",
      "          (dropout_module): FairseqDropout()\n",
      "          (k_proj): Linear(in_features=512, out_features=512, bias=True)\n",
      "          (v_proj): Linear(in_features=512, out_features=512, bias=True)\n",
      "          (q_proj): Linear(in_features=512, out_features=512, bias=True)\n",
      "          (out_proj): Linear(in_features=512, out_features=512, bias=True)\n",
      "        )\n",
      "        (self_attn_layer_norm): LayerNorm((512,), eps=1e-05, elementwise_affine=True)\n",
      "        (dropout_module): FairseqDropout()\n",
      "        (activation_dropout_module): FairseqDropout()\n",
      "        (fc1): Linear(in_features=512, out_features=2048, bias=True)\n",
      "        (fc2): Linear(in_features=2048, out_features=512, bias=True)\n",
      "        (final_layer_norm): LayerNorm((512,), eps=1e-05, elementwise_affine=True)\n",
      "      )\n",
      "      (5): ResidualDropTransformerEncoderLayer(\n",
      "        (self_attn): MultiheadAttention(\n",
      "          (dropout_module): FairseqDropout()\n",
      "          (k_proj): Linear(in_features=512, out_features=512, bias=True)\n",
      "          (v_proj): Linear(in_features=512, out_features=512, bias=True)\n",
      "          (q_proj): Linear(in_features=512, out_features=512, bias=True)\n",
      "          (out_proj): Linear(in_features=512, out_features=512, bias=True)\n",
      "        )\n",
      "        (self_attn_layer_norm): LayerNorm((512,), eps=1e-05, elementwise_affine=True)\n",
      "        (dropout_module): FairseqDropout()\n",
      "        (activation_dropout_module): FairseqDropout()\n",
      "        (fc1): Linear(in_features=512, out_features=2048, bias=True)\n",
      "        (fc2): Linear(in_features=2048, out_features=512, bias=True)\n",
      "        (final_layer_norm): LayerNorm((512,), eps=1e-05, elementwise_affine=True)\n",
      "      )\n",
      "    )\n",
      "  )\n",
      "  (decoder): TransformerDecoderBase(\n",
      "    (dropout_module): FairseqDropout()\n",
      "    (embed_tokens): Embedding(29317, 512, padding_idx=1)\n",
      "    (embed_positions): SinusoidalPositionalEmbedding()\n",
      "    (layers): ModuleList(\n",
      "      (0): TransformerDecoderLayerBase(\n",
      "        (dropout_module): FairseqDropout()\n",
      "        (self_attn): MultiheadAttention(\n",
      "          (dropout_module): FairseqDropout()\n",
      "          (k_proj): Linear(in_features=512, out_features=512, bias=True)\n",
      "          (v_proj): Linear(in_features=512, out_features=512, bias=True)\n",
      "          (q_proj): Linear(in_features=512, out_features=512, bias=True)\n",
      "          (out_proj): Linear(in_features=512, out_features=512, bias=True)\n",
      "        )\n",
      "        (activation_dropout_module): FairseqDropout()\n",
      "        (self_attn_layer_norm): LayerNorm((512,), eps=1e-05, elementwise_affine=True)\n",
      "        (encoder_attn): MultiheadAttention(\n",
      "          (dropout_module): FairseqDropout()\n",
      "          (k_proj): Linear(in_features=512, out_features=512, bias=True)\n",
      "          (v_proj): Linear(in_features=512, out_features=512, bias=True)\n",
      "          (q_proj): Linear(in_features=512, out_features=512, bias=True)\n",
      "          (out_proj): Linear(in_features=512, out_features=512, bias=True)\n",
      "        )\n",
      "        (encoder_attn_layer_norm): LayerNorm((512,), eps=1e-05, elementwise_affine=True)\n",
      "        (fc1): Linear(in_features=512, out_features=2048, bias=True)\n",
      "        (fc2): Linear(in_features=2048, out_features=512, bias=True)\n",
      "        (final_layer_norm): LayerNorm((512,), eps=1e-05, elementwise_affine=True)\n",
      "      )\n",
      "      (1): TransformerDecoderLayerBase(\n",
      "        (dropout_module): FairseqDropout()\n",
      "        (self_attn): MultiheadAttention(\n",
      "          (dropout_module): FairseqDropout()\n",
      "          (k_proj): Linear(in_features=512, out_features=512, bias=True)\n",
      "          (v_proj): Linear(in_features=512, out_features=512, bias=True)\n",
      "          (q_proj): Linear(in_features=512, out_features=512, bias=True)\n",
      "          (out_proj): Linear(in_features=512, out_features=512, bias=True)\n",
      "        )\n",
      "        (activation_dropout_module): FairseqDropout()\n",
      "        (self_attn_layer_norm): LayerNorm((512,), eps=1e-05, elementwise_affine=True)\n",
      "        (encoder_attn): MultiheadAttention(\n",
      "          (dropout_module): FairseqDropout()\n",
      "          (k_proj): Linear(in_features=512, out_features=512, bias=True)\n",
      "          (v_proj): Linear(in_features=512, out_features=512, bias=True)\n",
      "          (q_proj): Linear(in_features=512, out_features=512, bias=True)\n",
      "          (out_proj): Linear(in_features=512, out_features=512, bias=True)\n",
      "        )\n",
      "        (encoder_attn_layer_norm): LayerNorm((512,), eps=1e-05, elementwise_affine=True)\n",
      "        (fc1): Linear(in_features=512, out_features=2048, bias=True)\n",
      "        (fc2): Linear(in_features=2048, out_features=512, bias=True)\n",
      "        (final_layer_norm): LayerNorm((512,), eps=1e-05, elementwise_affine=True)\n",
      "      )\n",
      "      (2): TransformerDecoderLayerBase(\n",
      "        (dropout_module): FairseqDropout()\n",
      "        (self_attn): MultiheadAttention(\n",
      "          (dropout_module): FairseqDropout()\n",
      "          (k_proj): Linear(in_features=512, out_features=512, bias=True)\n",
      "          (v_proj): Linear(in_features=512, out_features=512, bias=True)\n",
      "          (q_proj): Linear(in_features=512, out_features=512, bias=True)\n",
      "          (out_proj): Linear(in_features=512, out_features=512, bias=True)\n",
      "        )\n",
      "        (activation_dropout_module): FairseqDropout()\n",
      "        (self_attn_layer_norm): LayerNorm((512,), eps=1e-05, elementwise_affine=True)\n",
      "        (encoder_attn): MultiheadAttention(\n",
      "          (dropout_module): FairseqDropout()\n",
      "          (k_proj): Linear(in_features=512, out_features=512, bias=True)\n",
      "          (v_proj): Linear(in_features=512, out_features=512, bias=True)\n",
      "          (q_proj): Linear(in_features=512, out_features=512, bias=True)\n",
      "          (out_proj): Linear(in_features=512, out_features=512, bias=True)\n",
      "        )\n",
      "        (encoder_attn_layer_norm): LayerNorm((512,), eps=1e-05, elementwise_affine=True)\n",
      "        (fc1): Linear(in_features=512, out_features=2048, bias=True)\n",
      "        (fc2): Linear(in_features=2048, out_features=512, bias=True)\n",
      "        (final_layer_norm): LayerNorm((512,), eps=1e-05, elementwise_affine=True)\n",
      "      )\n",
      "      (3): TransformerDecoderLayerBase(\n",
      "        (dropout_module): FairseqDropout()\n",
      "        (self_attn): MultiheadAttention(\n",
      "          (dropout_module): FairseqDropout()\n",
      "          (k_proj): Linear(in_features=512, out_features=512, bias=True)\n",
      "          (v_proj): Linear(in_features=512, out_features=512, bias=True)\n",
      "          (q_proj): Linear(in_features=512, out_features=512, bias=True)\n",
      "          (out_proj): Linear(in_features=512, out_features=512, bias=True)\n",
      "        )\n",
      "        (activation_dropout_module): FairseqDropout()\n",
      "        (self_attn_layer_norm): LayerNorm((512,), eps=1e-05, elementwise_affine=True)\n",
      "        (encoder_attn): MultiheadAttention(\n",
      "          (dropout_module): FairseqDropout()\n",
      "          (k_proj): Linear(in_features=512, out_features=512, bias=True)\n",
      "          (v_proj): Linear(in_features=512, out_features=512, bias=True)\n",
      "          (q_proj): Linear(in_features=512, out_features=512, bias=True)\n",
      "          (out_proj): Linear(in_features=512, out_features=512, bias=True)\n",
      "        )\n",
      "        (encoder_attn_layer_norm): LayerNorm((512,), eps=1e-05, elementwise_affine=True)\n",
      "        (fc1): Linear(in_features=512, out_features=2048, bias=True)\n",
      "        (fc2): Linear(in_features=2048, out_features=512, bias=True)\n",
      "        (final_layer_norm): LayerNorm((512,), eps=1e-05, elementwise_affine=True)\n",
      "      )\n",
      "      (4): TransformerDecoderLayerBase(\n",
      "        (dropout_module): FairseqDropout()\n",
      "        (self_attn): MultiheadAttention(\n",
      "          (dropout_module): FairseqDropout()\n",
      "          (k_proj): Linear(in_features=512, out_features=512, bias=True)\n",
      "          (v_proj): Linear(in_features=512, out_features=512, bias=True)\n",
      "          (q_proj): Linear(in_features=512, out_features=512, bias=True)\n",
      "          (out_proj): Linear(in_features=512, out_features=512, bias=True)\n",
      "        )\n",
      "        (activation_dropout_module): FairseqDropout()\n",
      "        (self_attn_layer_norm): LayerNorm((512,), eps=1e-05, elementwise_affine=True)\n",
      "        (encoder_attn): MultiheadAttention(\n",
      "          (dropout_module): FairseqDropout()\n",
      "          (k_proj): Linear(in_features=512, out_features=512, bias=True)\n",
      "          (v_proj): Linear(in_features=512, out_features=512, bias=True)\n",
      "          (q_proj): Linear(in_features=512, out_features=512, bias=True)\n",
      "          (out_proj): Linear(in_features=512, out_features=512, bias=True)\n",
      "        )\n",
      "        (encoder_attn_layer_norm): LayerNorm((512,), eps=1e-05, elementwise_affine=True)\n",
      "        (fc1): Linear(in_features=512, out_features=2048, bias=True)\n",
      "        (fc2): Linear(in_features=2048, out_features=512, bias=True)\n",
      "        (final_layer_norm): LayerNorm((512,), eps=1e-05, elementwise_affine=True)\n",
      "      )\n",
      "      (5): TransformerDecoderLayerBase(\n",
      "        (dropout_module): FairseqDropout()\n",
      "        (self_attn): MultiheadAttention(\n",
      "          (dropout_module): FairseqDropout()\n",
      "          (k_proj): Linear(in_features=512, out_features=512, bias=True)\n",
      "          (v_proj): Linear(in_features=512, out_features=512, bias=True)\n",
      "          (q_proj): Linear(in_features=512, out_features=512, bias=True)\n",
      "          (out_proj): Linear(in_features=512, out_features=512, bias=True)\n",
      "        )\n",
      "        (activation_dropout_module): FairseqDropout()\n",
      "        (self_attn_layer_norm): LayerNorm((512,), eps=1e-05, elementwise_affine=True)\n",
      "        (encoder_attn): MultiheadAttention(\n",
      "          (dropout_module): FairseqDropout()\n",
      "          (k_proj): Linear(in_features=512, out_features=512, bias=True)\n",
      "          (v_proj): Linear(in_features=512, out_features=512, bias=True)\n",
      "          (q_proj): Linear(in_features=512, out_features=512, bias=True)\n",
      "          (out_proj): Linear(in_features=512, out_features=512, bias=True)\n",
      "        )\n",
      "        (encoder_attn_layer_norm): LayerNorm((512,), eps=1e-05, elementwise_affine=True)\n",
      "        (fc1): Linear(in_features=512, out_features=2048, bias=True)\n",
      "        (fc2): Linear(in_features=2048, out_features=512, bias=True)\n",
      "        (final_layer_norm): LayerNorm((512,), eps=1e-05, elementwise_affine=True)\n",
      "      )\n",
      "    )\n",
      "    (output_projection): Linear(in_features=512, out_features=29317, bias=False)\n",
      "  )\n",
      ")\n",
      "2022-10-29 22:21:47 | INFO | fairseq_cli.train | task: TranslationMultiSimpleEpochTask\n",
      "2022-10-29 22:21:47 | INFO | fairseq_cli.train | model: ResidualDropTransformerModel\n",
      "2022-10-29 22:21:47 | INFO | fairseq_cli.train | criterion: LabelSmoothedCrossEntropyCriterion\n",
      "2022-10-29 22:21:47 | INFO | fairseq_cli.train | num. shared model params: 78,050,816 (num. trained: 78,050,816)\n",
      "2022-10-29 22:21:47 | INFO | fairseq_cli.train | num. expert model params: 0 (num. trained: 0)\n",
      "2022-10-29 22:21:47 | INFO | fairseq.tasks.translation_multi_simple_epoch | loading data for valid epoch=1/None\n",
      "2022-10-29 22:21:47 | INFO | fairseq.tasks.translation_multi_simple_epoch | mem usage: N/A\n",
      "2022-10-29 22:21:47 | INFO | fairseq.data.multilingual.multilingual_data_manager | langtoks settings: {'main': ('src', 'tgt')}\n",
      "2022-10-29 22:21:47 | INFO | fairseq.data.multilingual.multilingual_data_manager | [valid] num of shards: {'main:it-en': 1, 'main:nl-en': 1, 'main:ro-en': 1, 'main:en-de': 1}\n",
      "2022-10-29 22:21:47 | INFO | fairseq.data.multilingual.multilingual_data_manager | main:it-en src_langtok: 29314; tgt_langtok: 29313\n",
      "2022-10-29 22:21:47 | INFO | fairseq.data.data_utils | loaded 929 examples from: /storage/master-thesis/models/resdrop__nl-en_it-en_ro-en_en-de/tokenizers/it-nl-ro-en-de/bin/valid.it-en.it\n",
      "2022-10-29 22:21:47 | INFO | fairseq.data.data_utils | loaded 929 examples from: /storage/master-thesis/models/resdrop__nl-en_it-en_ro-en_en-de/tokenizers/it-nl-ro-en-de/bin/valid.it-en.en\n",
      "2022-10-29 22:21:47 | INFO | fairseq.data.multilingual.multilingual_data_manager | /storage/master-thesis/models/resdrop__nl-en_it-en_ro-en_en-de/tokenizers/it-nl-ro-en-de/bin valid it-en 929 examples\n",
      "2022-10-29 22:21:47 | INFO | fairseq.data.multilingual.multilingual_data_manager | main:nl-en src_langtok: 29315; tgt_langtok: 29313\n",
      "2022-10-29 22:21:47 | INFO | fairseq.data.data_utils | loaded 1,003 examples from: /storage/master-thesis/models/resdrop__nl-en_it-en_ro-en_en-de/tokenizers/it-nl-ro-en-de/bin/valid.nl-en.nl\n",
      "2022-10-29 22:21:47 | INFO | fairseq.data.data_utils | loaded 1,003 examples from: /storage/master-thesis/models/resdrop__nl-en_it-en_ro-en_en-de/tokenizers/it-nl-ro-en-de/bin/valid.nl-en.en\n",
      "2022-10-29 22:21:47 | INFO | fairseq.data.multilingual.multilingual_data_manager | /storage/master-thesis/models/resdrop__nl-en_it-en_ro-en_en-de/tokenizers/it-nl-ro-en-de/bin valid nl-en 1003 examples\n",
      "2022-10-29 22:21:47 | INFO | fairseq.data.multilingual.multilingual_data_manager | main:ro-en src_langtok: 29316; tgt_langtok: 29313\n",
      "2022-10-29 22:21:47 | INFO | fairseq.data.data_utils | loaded 914 examples from: /storage/master-thesis/models/resdrop__nl-en_it-en_ro-en_en-de/tokenizers/it-nl-ro-en-de/bin/valid.ro-en.ro\n",
      "2022-10-29 22:21:47 | INFO | fairseq.data.data_utils | loaded 914 examples from: /storage/master-thesis/models/resdrop__nl-en_it-en_ro-en_en-de/tokenizers/it-nl-ro-en-de/bin/valid.ro-en.en\n",
      "2022-10-29 22:21:47 | INFO | fairseq.data.multilingual.multilingual_data_manager | /storage/master-thesis/models/resdrop__nl-en_it-en_ro-en_en-de/tokenizers/it-nl-ro-en-de/bin valid ro-en 914 examples\n",
      "2022-10-29 22:21:47 | INFO | fairseq.data.multilingual.multilingual_data_manager | main:en-de src_langtok: 29313; tgt_langtok: 29312\n",
      "2022-10-29 22:21:47 | INFO | fairseq.data.data_utils | loaded 1,138 examples from: /storage/master-thesis/models/resdrop__nl-en_it-en_ro-en_en-de/tokenizers/it-nl-ro-en-de/bin/valid.en-de.en\n",
      "2022-10-29 22:21:47 | INFO | fairseq.data.data_utils | loaded 1,138 examples from: /storage/master-thesis/models/resdrop__nl-en_it-en_ro-en_en-de/tokenizers/it-nl-ro-en-de/bin/valid.en-de.de\n",
      "2022-10-29 22:21:47 | INFO | fairseq.data.multilingual.multilingual_data_manager | /storage/master-thesis/models/resdrop__nl-en_it-en_ro-en_en-de/tokenizers/it-nl-ro-en-de/bin valid en-de 1138 examples\n",
      "2022-10-29 22:21:52 | INFO | fairseq.trainer | detected shared parameter: encoder.embed_tokens.weight <- decoder.embed_tokens.weight\n",
      "2022-10-29 22:21:52 | INFO | fairseq.trainer | detected shared parameter: encoder.embed_tokens.weight <- decoder.output_projection.weight\n",
      "2022-10-29 22:21:52 | INFO | fairseq.utils | ***********************CUDA enviroments for all 1 workers***********************\n",
      "2022-10-29 22:21:52 | INFO | fairseq.utils | rank   0: capabilities =  8.6  ; total memory = 15.740 GB ; name = NVIDIA RTX A4000                        \n",
      "2022-10-29 22:21:52 | INFO | fairseq.utils | ***********************CUDA enviroments for all 1 workers***********************\n",
      "2022-10-29 22:21:52 | INFO | fairseq_cli.train | training on 1 devices (GPUs/TPUs)\n",
      "2022-10-29 22:21:52 | INFO | fairseq_cli.train | max tokens per device = 4096 and max sentences per device = None\n",
      "2022-10-29 22:21:52 | INFO | fairseq.trainer | Preparing to load checkpoint /storage/master-thesis/models/resdrop__nl-en_it-en_ro-en_en-de/checkpoint_last.pt\n",
      "2022-10-29 22:21:52 | INFO | fairseq.trainer | No existing checkpoint found /storage/master-thesis/models/resdrop__nl-en_it-en_ro-en_en-de/checkpoint_last.pt\n",
      "2022-10-29 22:21:52 | INFO | fairseq.trainer | loading train data for epoch 1\n",
      "2022-10-29 22:21:52 | INFO | fairseq.tasks.translation_multi_simple_epoch | loading data for train epoch=1/None\n",
      "2022-10-29 22:21:52 | INFO | fairseq.tasks.translation_multi_simple_epoch | mem usage: N/A\n",
      "2022-10-29 22:21:52 | INFO | fairseq.data.multilingual.multilingual_data_manager | langtoks settings: {'main': ('src', 'tgt')}\n",
      "2022-10-29 22:21:52 | INFO | fairseq.data.multilingual.multilingual_data_manager | [train] num of shards: {'main:it-en': 1, 'main:nl-en': 1, 'main:ro-en': 1, 'main:en-de': 1}\n",
      "2022-10-29 22:21:52 | INFO | fairseq.data.multilingual.multilingual_data_manager | main:it-en src_langtok: 29314; tgt_langtok: 29313\n",
      "2022-10-29 22:21:52 | INFO | fairseq.data.data_utils | loaded 145,105 examples from: /storage/master-thesis/models/resdrop__nl-en_it-en_ro-en_en-de/tokenizers/it-nl-ro-en-de/bin/train.it-en.it\n",
      "2022-10-29 22:21:52 | INFO | fairseq.data.data_utils | loaded 145,105 examples from: /storage/master-thesis/models/resdrop__nl-en_it-en_ro-en_en-de/tokenizers/it-nl-ro-en-de/bin/train.it-en.en\n",
      "2022-10-29 22:21:52 | INFO | fairseq.data.multilingual.multilingual_data_manager | /storage/master-thesis/models/resdrop__nl-en_it-en_ro-en_en-de/tokenizers/it-nl-ro-en-de/bin train it-en 145105 examples\n",
      "2022-10-29 22:21:52 | INFO | fairseq.data.multilingual.multilingual_data_manager | main:nl-en src_langtok: 29315; tgt_langtok: 29313\n",
      "2022-10-29 22:21:52 | INFO | fairseq.data.data_utils | loaded 145,105 examples from: /storage/master-thesis/models/resdrop__nl-en_it-en_ro-en_en-de/tokenizers/it-nl-ro-en-de/bin/train.nl-en.nl\n",
      "2022-10-29 22:21:52 | INFO | fairseq.data.data_utils | loaded 145,105 examples from: /storage/master-thesis/models/resdrop__nl-en_it-en_ro-en_en-de/tokenizers/it-nl-ro-en-de/bin/train.nl-en.en\n",
      "2022-10-29 22:21:52 | INFO | fairseq.data.multilingual.multilingual_data_manager | /storage/master-thesis/models/resdrop__nl-en_it-en_ro-en_en-de/tokenizers/it-nl-ro-en-de/bin train nl-en 145105 examples\n",
      "2022-10-29 22:21:52 | INFO | fairseq.data.multilingual.multilingual_data_manager | main:ro-en src_langtok: 29316; tgt_langtok: 29313\n",
      "2022-10-29 22:21:52 | INFO | fairseq.data.data_utils | loaded 145,105 examples from: /storage/master-thesis/models/resdrop__nl-en_it-en_ro-en_en-de/tokenizers/it-nl-ro-en-de/bin/train.ro-en.ro\n",
      "2022-10-29 22:21:52 | INFO | fairseq.data.data_utils | loaded 145,105 examples from: /storage/master-thesis/models/resdrop__nl-en_it-en_ro-en_en-de/tokenizers/it-nl-ro-en-de/bin/train.ro-en.en\n",
      "2022-10-29 22:21:52 | INFO | fairseq.data.multilingual.multilingual_data_manager | /storage/master-thesis/models/resdrop__nl-en_it-en_ro-en_en-de/tokenizers/it-nl-ro-en-de/bin train ro-en 145105 examples\n",
      "2022-10-29 22:21:52 | INFO | fairseq.data.multilingual.multilingual_data_manager | main:en-de src_langtok: 29313; tgt_langtok: 29312\n",
      "2022-10-29 22:21:52 | INFO | fairseq.data.data_utils | loaded 14,510 examples from: /storage/master-thesis/models/resdrop__nl-en_it-en_ro-en_en-de/tokenizers/it-nl-ro-en-de/bin/train.en-de.en\n",
      "2022-10-29 22:21:52 | INFO | fairseq.data.data_utils | loaded 14,510 examples from: /storage/master-thesis/models/resdrop__nl-en_it-en_ro-en_en-de/tokenizers/it-nl-ro-en-de/bin/train.en-de.de\n",
      "2022-10-29 22:21:52 | INFO | fairseq.data.multilingual.multilingual_data_manager | /storage/master-thesis/models/resdrop__nl-en_it-en_ro-en_en-de/tokenizers/it-nl-ro-en-de/bin train en-de 14510 examples\n",
      "2022-10-29 22:21:52 | INFO | fairseq.data.multilingual.multilingual_data_manager | estimated total data sizes of all shards used in sampling ratios: [('main:it-en', 145105), ('main:nl-en', 145105), ('main:ro-en', 145105), ('main:en-de', 14510)]. Note that if the data a shard has not been loaded yet, use the max known data size to approximate\n",
      "2022-10-29 22:21:52 | INFO | fairseq.data.multilingual.sampling_method | selected sampler: concat\n",
      "2022-10-29 22:21:52 | INFO | fairseq.data.multilingual.sampled_multi_dataset | [train] Raw sizes: {'main:it-en': 145105, 'main:nl-en': 145105, 'main:ro-en': 145105, 'main:en-de': 14510}; raw total size: 449825\n",
      "2022-10-29 22:21:52 | INFO | fairseq.data.multilingual.sampled_multi_dataset | [train] Resampled sizes: {'main:it-en': 145105, 'main:nl-en': 145105, 'main:ro-en': 145105, 'main:en-de': 14510}; resampled total size: 449825\n",
      "2022-10-29 22:21:52 | INFO | fairseq.data.multilingual.sampled_multi_dataset | [train] A concat dataset\n",
      "2022-10-29 22:21:52 | INFO | fairseq.data.multilingual.sampled_multi_dataset | [train] virtual dataset established time: 0:00:00.034140\n",
      "2022-10-29 22:21:52 | INFO | fairseq.tasks.translation_multi_simple_epoch | start batch sampler: mem usage: N/A\n",
      "2022-10-29 22:21:52 | INFO | fairseq.data.multilingual.sampled_multi_dataset | sizes() calling time: 0:00:00.005804\n",
      "2022-10-29 22:21:52 | INFO | fairseq.tasks.translation_multi_simple_epoch | [train] @batch_sampler order indices time: 0:00:00.131797\n",
      "2022-10-29 22:21:52 | INFO | fairseq.tasks.translation_multi_simple_epoch | mem usage: N/A\n",
      "2022-10-29 22:21:52 | INFO | fairseq.tasks.translation_multi_simple_epoch | [train] @batch_sampler filter_by_size time: 0:00:00.005872\n",
      "2022-10-29 22:21:52 | INFO | fairseq.tasks.translation_multi_simple_epoch | mem usage: N/A\n",
      "2022-10-29 22:21:52 | INFO | fairseq.tasks.translation_multi_simple_epoch | [train] @batch_sampler batch_by_size time: 0:00:00.044611\n",
      "2022-10-29 22:21:52 | INFO | fairseq.tasks.translation_multi_simple_epoch | [train] per epoch batch_sampler set-up time: 0:00:00.183590\n",
      "2022-10-29 22:21:52 | INFO | fairseq.tasks.translation_multi_simple_epoch | mem usage: N/A\n",
      "2022-10-29 22:21:52 | INFO | fairseq.data.iterators | grouped total_num_itrs = 2996\n",
      "epoch 001:   0%|                                       | 0/2996 [00:00<?, ?it/s]2022-10-29 22:21:52 | INFO | fairseq.trainer | begin training epoch 1\n",
      "2022-10-29 22:21:52 | INFO | fairseq_cli.train | Start iterating over samples\n",
      "epoch 001:   0%|                               | 1/2996 [00:00<12:36,  3.96it/s]2022-10-29 22:21:52 | INFO | fairseq.trainer | NOTE: gradient overflow detected, ignoring gradient, setting loss scale to: 64.0\n",
      "epoch 001:   1%|2                             | 23/2996 [00:02<05:09,  9.60it/s]2022-10-29 22:21:55 | INFO | fairseq.trainer | NOTE: gradient overflow detected, ignoring gradient, setting loss scale to: 32.0\n",
      "epoch 001:  64%|6| 1929/2996 [03:23<01:53,  9.41it/s, loss=7.384, nll_loss=6.2322022-10-29 22:25:15 | INFO | fairseq.trainer | NOTE: gradient overflow detected, ignoring gradient, setting loss scale to: 16.0\n",
      "epoch 001: 100%|9| 2995/2996 [05:15<00:00,  9.23it/s, loss=7.036, nll_loss=5.8382022-10-29 22:27:08 | INFO | fairseq_cli.train | begin validation on \"valid\" subset\n",
      "2022-10-29 22:27:08 | INFO | fairseq.tasks.translation_multi_simple_epoch | start batch sampler: mem usage: N/A\n",
      "2022-10-29 22:27:08 | INFO | fairseq.tasks.translation_multi_simple_epoch | [valid] @batch_sampler order indices time: 0:00:00.001229\n",
      "2022-10-29 22:27:08 | INFO | fairseq.tasks.translation_multi_simple_epoch | mem usage: N/A\n",
      "2022-10-29 22:27:08 | INFO | fairseq.tasks.translation_multi_simple_epoch | [valid] @batch_sampler filter_by_size time: 0:00:00.031246\n",
      "2022-10-29 22:27:08 | INFO | fairseq.tasks.translation_multi_simple_epoch | mem usage: N/A\n",
      "2022-10-29 22:27:08 | INFO | fairseq.tasks.translation_multi_simple_epoch | [valid] @batch_sampler batch_by_size time: 0:00:00.023220\n",
      "2022-10-29 22:27:08 | INFO | fairseq.tasks.translation_multi_simple_epoch | [valid] per epoch batch_sampler set-up time: 0:00:00.056230\n",
      "2022-10-29 22:27:08 | INFO | fairseq.tasks.translation_multi_simple_epoch | mem usage: N/A\n",
      "\n",
      "epoch 001 | valid on 'valid' subset:   0%|               | 0/47 [00:00<?, ?it/s]\u001b[A\n",
      "epoch 001 | valid on 'valid' subset:   6%|4      | 3/47 [00:00<00:01, 23.93it/s]\u001b[A\n",
      "epoch 001 | valid on 'valid' subset:  15%|#      | 7/47 [00:00<00:01, 26.58it/s]\u001b[A\n",
      "epoch 001 | valid on 'valid' subset:  23%|#4    | 11/47 [00:00<00:01, 29.54it/s]\u001b[A\n",
      "epoch 001 | valid on 'valid' subset:  32%|#9    | 15/47 [00:00<00:01, 31.18it/s]\u001b[A\n",
      "epoch 001 | valid on 'valid' subset:  40%|##4   | 19/47 [00:00<00:00, 32.02it/s]\u001b[A\n",
      "epoch 001 | valid on 'valid' subset:  49%|##9   | 23/47 [00:00<00:00, 32.68it/s]\u001b[A\n",
      "epoch 001 | valid on 'valid' subset:  57%|###4  | 27/47 [00:00<00:00, 33.50it/s]\u001b[A\n",
      "epoch 001 | valid on 'valid' subset:  66%|###9  | 31/47 [00:00<00:00, 33.51it/s]\u001b[A\n",
      "epoch 001 | valid on 'valid' subset:  74%|####4 | 35/47 [00:01<00:00, 33.75it/s]\u001b[A\n",
      "epoch 001 | valid on 'valid' subset:  83%|####9 | 39/47 [00:01<00:00, 33.39it/s]\u001b[A\n",
      "epoch 001 | valid on 'valid' subset:  91%|#####4| 43/47 [00:01<00:00, 33.86it/s]\u001b[A\n",
      "epoch 001 | valid on 'valid' subset: 100%|######| 47/47 [00:01<00:00, 35.09it/s]\u001b[A\n",
      "                                                                                \u001b[A2022-10-29 22:27:10 | INFO | valid | epoch 001 | valid on 'valid' subset | loss 8.297 | nll_loss 7.209 | ppl 147.96 | wps 81008.1 | wpb 2297.1 | bsz 84.8 | num_updates 2993\n",
      "2022-10-29 22:27:10 | INFO | fairseq.checkpoint_utils | Preparing to save checkpoint for epoch 1 @ 2993 updates\n",
      "2022-10-29 22:27:10 | INFO | fairseq.trainer | Saving checkpoint to /storage/master-thesis/models/resdrop__nl-en_it-en_ro-en_en-de/checkpoint1.pt\n",
      "2022-10-29 22:27:12 | INFO | fairseq.trainer | Finished saving checkpoint to /storage/master-thesis/models/resdrop__nl-en_it-en_ro-en_en-de/checkpoint1.pt\n",
      "2022-10-29 22:27:13 | INFO | fairseq.checkpoint_utils | Saved checkpoint /storage/master-thesis/models/resdrop__nl-en_it-en_ro-en_en-de/checkpoint1.pt (epoch 1 @ 2993 updates, score 8.297) (writing took 3.764174936339259 seconds)\n",
      "2022-10-29 22:27:13 | INFO | fairseq_cli.train | end of epoch 1 (average epoch stats below)\n",
      "2022-10-29 22:27:13 | INFO | train | epoch 001 | loss 8.192 | nll_loss 7.165 | ppl 143.53 | wps 33761.1 | ups 9.32 | wpb 3622.1 | bsz 150.1 | num_updates 2993 | lr 0.000374125 | gnorm 1.717 | loss_scale 16 | train_wall 309 | gb_free 12.2 | wall 322\n",
      "2022-10-29 22:27:13 | INFO | fairseq.tasks.translation_multi_simple_epoch | start batch sampler: mem usage: N/A\n",
      "2022-10-29 22:27:13 | INFO | fairseq.tasks.translation_multi_simple_epoch | [train] @batch_sampler order indices time: 0:00:00.100028\n",
      "2022-10-29 22:27:13 | INFO | fairseq.tasks.translation_multi_simple_epoch | mem usage: N/A\n",
      "2022-10-29 22:27:13 | INFO | fairseq.tasks.translation_multi_simple_epoch | [train] @batch_sampler filter_by_size time: 0:00:00.004867\n",
      "2022-10-29 22:27:13 | INFO | fairseq.tasks.translation_multi_simple_epoch | mem usage: N/A\n",
      "2022-10-29 22:27:13 | INFO | fairseq.tasks.translation_multi_simple_epoch | [train] @batch_sampler batch_by_size time: 0:00:00.015925\n",
      "2022-10-29 22:27:13 | INFO | fairseq.tasks.translation_multi_simple_epoch | [train] per epoch batch_sampler set-up time: 0:00:00.121761\n",
      "2022-10-29 22:27:13 | INFO | fairseq.tasks.translation_multi_simple_epoch | mem usage: N/A\n",
      "2022-10-29 22:27:14 | INFO | fairseq.data.iterators | grouped total_num_itrs = 2996\n",
      "epoch 002:   0%|                                       | 0/2996 [00:00<?, ?it/s]2022-10-29 22:27:14 | INFO | fairseq.trainer | begin training epoch 2\n",
      "2022-10-29 22:27:14 | INFO | fairseq_cli.train | Start iterating over samples\n",
      "epoch 002:   0%|                               | 3/2996 [00:00<05:48,  8.58it/s]Exception ignored in: <bound method _MultiProcessingDataLoaderIter.__del__ of <torch.utils.data.dataloader._MultiProcessingDataLoaderIter object at 0x7f7e25a151d0>>\n",
      "Traceback (most recent call last):\n",
      "  File \"/usr/local/lib/python3.6/dist-packages/torch/utils/data/dataloader.py\", line 1328, in __del__\n",
      "    self._shutdown_workers()\n",
      "  File \"/usr/local/lib/python3.6/dist-packages/torch/utils/data/dataloader.py\", line 1320, in _shutdown_workers\n",
      "    if w.is_alive():\n",
      "  File \"/usr/lib/python3.6/multiprocessing/process.py\", line 134, in is_alive\n",
      "    assert self._parent_pid == os.getpid(), 'can only test a child process'\n",
      "AssertionError: can only test a child process\n",
      "epoch 002:   9%| | 279/2996 [00:29<04:49,  9.38it/s, loss=7.01, nll_loss=5.809, Exception ignored in: <bound method _MultiProcessingDataLoaderIter.__del__ of <torch.utils.data.dataloader._MultiProcessingDataLoaderIter object at 0x7f7e333e6b70>>\n",
      "Traceback (most recent call last):\n",
      "  File \"/usr/local/lib/python3.6/dist-packages/torch/utils/data/dataloader.py\", line 1328, in __del__\n",
      "    self._shutdown_workers()\n",
      "  File \"/usr/local/lib/python3.6/dist-packages/torch/utils/data/dataloader.py\", line 1320, in _shutdown_workers\n",
      "    if w.is_alive():\n",
      "  File \"/usr/lib/python3.6/multiprocessing/process.py\", line 134, in is_alive\n",
      "    assert self._parent_pid == os.getpid(), 'can only test a child process'\n",
      "AssertionError: can only test a child process\n",
      "epoch 002: 100%|9| 2995/2996 [05:16<00:00,  9.27it/s, loss=6.277, nll_loss=4.9782022-10-29 22:32:30 | INFO | fairseq_cli.train | begin validation on \"valid\" subset\n",
      "2022-10-29 22:32:30 | INFO | fairseq.tasks.translation_multi_simple_epoch | start batch sampler: mem usage: N/A\n",
      "2022-10-29 22:32:30 | INFO | fairseq.tasks.translation_multi_simple_epoch | [valid] @batch_sampler order indices time: 0:00:00.001173\n",
      "2022-10-29 22:32:30 | INFO | fairseq.tasks.translation_multi_simple_epoch | mem usage: N/A\n",
      "2022-10-29 22:32:30 | INFO | fairseq.tasks.translation_multi_simple_epoch | [valid] @batch_sampler filter_by_size time: 0:00:00.030998\n",
      "2022-10-29 22:32:30 | INFO | fairseq.tasks.translation_multi_simple_epoch | mem usage: N/A\n",
      "2022-10-29 22:32:30 | INFO | fairseq.tasks.translation_multi_simple_epoch | [valid] @batch_sampler batch_by_size time: 0:00:00.023409\n",
      "2022-10-29 22:32:30 | INFO | fairseq.tasks.translation_multi_simple_epoch | [valid] per epoch batch_sampler set-up time: 0:00:00.056246\n",
      "2022-10-29 22:32:30 | INFO | fairseq.tasks.translation_multi_simple_epoch | mem usage: N/A\n",
      "\n",
      "epoch 002 | valid on 'valid' subset:   0%|               | 0/47 [00:00<?, ?it/s]\u001b[A\n",
      "epoch 002 | valid on 'valid' subset:   6%|4      | 3/47 [00:00<00:01, 28.07it/s]\u001b[A\n",
      "epoch 002 | valid on 'valid' subset:  15%|#      | 7/47 [00:00<00:01, 30.03it/s]\u001b[A\n",
      "epoch 002 | valid on 'valid' subset:  23%|#4    | 11/47 [00:00<00:01, 32.36it/s]\u001b[A\n",
      "epoch 002 | valid on 'valid' subset:  32%|#9    | 15/47 [00:00<00:00, 33.20it/s]\u001b[A\n",
      "epoch 002 | valid on 'valid' subset:  40%|##4   | 19/47 [00:00<00:00, 33.46it/s]\u001b[A\n",
      "epoch 002 | valid on 'valid' subset:  49%|##9   | 23/47 [00:00<00:00, 33.69it/s]\u001b[A\n",
      "epoch 002 | valid on 'valid' subset:  57%|###4  | 27/47 [00:00<00:00, 34.28it/s]\u001b[A\n",
      "epoch 002 | valid on 'valid' subset:  66%|###9  | 31/47 [00:00<00:00, 34.15it/s]\u001b[A\n",
      "epoch 002 | valid on 'valid' subset:  74%|####4 | 35/47 [00:01<00:00, 34.23it/s]\u001b[A\n",
      "epoch 002 | valid on 'valid' subset:  83%|####9 | 39/47 [00:01<00:00, 33.58it/s]\u001b[A\n",
      "epoch 002 | valid on 'valid' subset:  91%|#####4| 43/47 [00:01<00:00, 34.10it/s]\u001b[A\n",
      "epoch 002 | valid on 'valid' subset: 100%|######| 47/47 [00:01<00:00, 35.31it/s]\u001b[A\n",
      "                                                                                \u001b[A2022-10-29 22:32:31 | INFO | valid | epoch 002 | valid on 'valid' subset | loss 7.584 | nll_loss 6.371 | ppl 82.75 | wps 80839.4 | wpb 2297.1 | bsz 84.8 | num_updates 5989 | best_loss 7.584\n",
      "2022-10-29 22:32:31 | INFO | fairseq.checkpoint_utils | Preparing to save checkpoint for epoch 2 @ 5989 updates\n",
      "2022-10-29 22:32:31 | INFO | fairseq.trainer | Saving checkpoint to /storage/master-thesis/models/resdrop__nl-en_it-en_ro-en_en-de/checkpoint2.pt\n",
      "2022-10-29 22:32:33 | INFO | fairseq.trainer | Finished saving checkpoint to /storage/master-thesis/models/resdrop__nl-en_it-en_ro-en_en-de/checkpoint2.pt\n",
      "2022-10-29 22:32:35 | INFO | fairseq.checkpoint_utils | Saved checkpoint /storage/master-thesis/models/resdrop__nl-en_it-en_ro-en_en-de/checkpoint2.pt (epoch 2 @ 5989 updates, score 7.584) (writing took 3.909039521589875 seconds)\n",
      "2022-10-29 22:32:35 | INFO | fairseq_cli.train | end of epoch 2 (average epoch stats below)\n",
      "2022-10-29 22:32:35 | INFO | train | epoch 002 | loss 6.665 | nll_loss 5.419 | ppl 42.77 | wps 33724.1 | ups 9.31 | wpb 3621.9 | bsz 150.1 | num_updates 5989 | lr 0.000408623 | gnorm 0.963 | loss_scale 16 | train_wall 309 | gb_free 12.2 | wall 643\n",
      "2022-10-29 22:32:35 | INFO | fairseq.tasks.translation_multi_simple_epoch | start batch sampler: mem usage: N/A\n",
      "2022-10-29 22:32:35 | INFO | fairseq.tasks.translation_multi_simple_epoch | [train] @batch_sampler order indices time: 0:00:00.108054\n",
      "2022-10-29 22:32:35 | INFO | fairseq.tasks.translation_multi_simple_epoch | mem usage: N/A\n",
      "2022-10-29 22:32:35 | INFO | fairseq.tasks.translation_multi_simple_epoch | [train] @batch_sampler filter_by_size time: 0:00:00.004917\n",
      "2022-10-29 22:32:35 | INFO | fairseq.tasks.translation_multi_simple_epoch | mem usage: N/A\n",
      "2022-10-29 22:32:35 | INFO | fairseq.tasks.translation_multi_simple_epoch | [train] @batch_sampler batch_by_size time: 0:00:00.018043\n",
      "2022-10-29 22:32:35 | INFO | fairseq.tasks.translation_multi_simple_epoch | [train] per epoch batch_sampler set-up time: 0:00:00.132057\n",
      "2022-10-29 22:32:35 | INFO | fairseq.tasks.translation_multi_simple_epoch | mem usage: N/A\n",
      "2022-10-29 22:32:35 | INFO | fairseq.data.iterators | grouped total_num_itrs = 2996\n",
      "epoch 003:   0%|                                       | 0/2996 [00:00<?, ?it/s]2022-10-29 22:32:35 | INFO | fairseq.trainer | begin training epoch 3\n",
      "2022-10-29 22:32:35 | INFO | fairseq_cli.train | Start iterating over samples\n",
      "epoch 003:   0%|                               | 3/2996 [00:00<05:48,  8.59it/s]Exception ignored in: <bound method _MultiProcessingDataLoaderIter.__del__ of <torch.utils.data.dataloader._MultiProcessingDataLoaderIter object at 0x7f7e2557e390>>\n",
      "Traceback (most recent call last):\n",
      "  File \"/usr/local/lib/python3.6/dist-packages/torch/utils/data/dataloader.py\", line 1328, in __del__\n",
      "    self._shutdown_workers()\n",
      "  File \"/usr/local/lib/python3.6/dist-packages/torch/utils/data/dataloader.py\", line 1320, in _shutdown_workers\n",
      "    if w.is_alive():\n",
      "  File \"/usr/lib/python3.6/multiprocessing/process.py\", line 134, in is_alive\n",
      "    assert self._parent_pid == os.getpid(), 'can only test a child process'\n",
      "AssertionError: can only test a child process\n",
      "epoch 003:   7%| | 195/2996 [00:20<04:59,  9.36it/s, loss=6.342, nll_loss=5.051,Exception ignored in: <bound method _MultiProcessingDataLoaderIter.__del__ of <torch.utils.data.dataloader._MultiProcessingDataLoaderIter object at 0x7f7e333e6b70>>\n",
      "Traceback (most recent call last):\n",
      "  File \"/usr/local/lib/python3.6/dist-packages/torch/utils/data/dataloader.py\", line 1328, in __del__\n",
      "    self._shutdown_workers()\n",
      "  File \"/usr/local/lib/python3.6/dist-packages/torch/utils/data/dataloader.py\", line 1320, in _shutdown_workers\n",
      "    if w.is_alive():\n",
      "  File \"/usr/lib/python3.6/multiprocessing/process.py\", line 134, in is_alive\n",
      "    assert self._parent_pid == os.getpid(), 'can only test a child process'\n",
      "AssertionError: can only test a child process\n",
      "Exception ignored in: <bound method _MultiProcessingDataLoaderIter.__del__ of <torch.utils.data.dataloader._MultiProcessingDataLoaderIter object at 0x7f7e24494dd8>>\n",
      "Traceback (most recent call last):\n",
      "  File \"/usr/local/lib/python3.6/dist-packages/torch/utils/data/dataloader.py\", line 1328, in __del__\n",
      "    self._shutdown_workers()\n",
      "  File \"/usr/local/lib/python3.6/dist-packages/torch/utils/data/dataloader.py\", line 1320, in _shutdown_workers\n",
      "    if w.is_alive():\n",
      "  File \"/usr/lib/python3.6/multiprocessing/process.py\", line 134, in is_alive\n",
      "    assert self._parent_pid == os.getpid(), 'can only test a child process'\n",
      "AssertionError: can only test a child process\n",
      "epoch 003: 100%|9| 2995/2996 [05:15<00:00,  9.08it/s, loss=5.959, nll_loss=4.6112022-10-29 22:37:51 | INFO | fairseq_cli.train | begin validation on \"valid\" subset\n",
      "2022-10-29 22:37:51 | INFO | fairseq.tasks.translation_multi_simple_epoch | start batch sampler: mem usage: N/A\n",
      "2022-10-29 22:37:51 | INFO | fairseq.tasks.translation_multi_simple_epoch | [valid] @batch_sampler order indices time: 0:00:00.001345\n",
      "2022-10-29 22:37:51 | INFO | fairseq.tasks.translation_multi_simple_epoch | mem usage: N/A\n",
      "2022-10-29 22:37:51 | INFO | fairseq.tasks.translation_multi_simple_epoch | [valid] @batch_sampler filter_by_size time: 0:00:00.030332\n",
      "2022-10-29 22:37:51 | INFO | fairseq.tasks.translation_multi_simple_epoch | mem usage: N/A\n",
      "2022-10-29 22:37:51 | INFO | fairseq.tasks.translation_multi_simple_epoch | [valid] @batch_sampler batch_by_size time: 0:00:00.023224\n",
      "2022-10-29 22:37:51 | INFO | fairseq.tasks.translation_multi_simple_epoch | [valid] per epoch batch_sampler set-up time: 0:00:00.055750\n",
      "2022-10-29 22:37:51 | INFO | fairseq.tasks.translation_multi_simple_epoch | mem usage: N/A\n",
      "\n",
      "epoch 003 | valid on 'valid' subset:   0%|               | 0/47 [00:00<?, ?it/s]\u001b[A\n",
      "epoch 003 | valid on 'valid' subset:   6%|4      | 3/47 [00:00<00:01, 26.34it/s]\u001b[A\n",
      "epoch 003 | valid on 'valid' subset:  15%|#      | 7/47 [00:00<00:01, 28.43it/s]\u001b[A\n",
      "epoch 003 | valid on 'valid' subset:  23%|#4    | 11/47 [00:00<00:01, 30.99it/s]\u001b[A\n",
      "epoch 003 | valid on 'valid' subset:  32%|#9    | 15/47 [00:00<00:00, 32.17it/s]\u001b[A\n",
      "epoch 003 | valid on 'valid' subset:  40%|##4   | 19/47 [00:00<00:00, 32.81it/s]\u001b[A\n",
      "epoch 003 | valid on 'valid' subset:  49%|##9   | 23/47 [00:00<00:00, 33.26it/s]\u001b[A\n",
      "epoch 003 | valid on 'valid' subset:  57%|###4  | 27/47 [00:00<00:00, 33.71it/s]\u001b[A\n",
      "epoch 003 | valid on 'valid' subset:  66%|###9  | 31/47 [00:00<00:00, 33.81it/s]\u001b[A\n",
      "epoch 003 | valid on 'valid' subset:  74%|####4 | 35/47 [00:01<00:00, 33.99it/s]\u001b[A\n",
      "epoch 003 | valid on 'valid' subset:  83%|####9 | 39/47 [00:01<00:00, 33.64it/s]\u001b[A\n",
      "epoch 003 | valid on 'valid' subset:  91%|#####4| 43/47 [00:01<00:00, 34.15it/s]\u001b[A\n",
      "epoch 003 | valid on 'valid' subset: 100%|######| 47/47 [00:01<00:00, 35.18it/s]\u001b[A\n",
      "                                                                                \u001b[A2022-10-29 22:37:53 | INFO | valid | epoch 003 | valid on 'valid' subset | loss 7.226 | nll_loss 5.966 | ppl 62.51 | wps 80664.4 | wpb 2297.1 | bsz 84.8 | num_updates 8985 | best_loss 7.226\n",
      "2022-10-29 22:37:53 | INFO | fairseq.checkpoint_utils | Preparing to save checkpoint for epoch 3 @ 8985 updates\n",
      "2022-10-29 22:37:53 | INFO | fairseq.trainer | Saving checkpoint to /storage/master-thesis/models/resdrop__nl-en_it-en_ro-en_en-de/checkpoint3.pt\n",
      "2022-10-29 22:37:55 | INFO | fairseq.trainer | Finished saving checkpoint to /storage/master-thesis/models/resdrop__nl-en_it-en_ro-en_en-de/checkpoint3.pt\n",
      "2022-10-29 22:37:57 | INFO | fairseq.checkpoint_utils | Saved checkpoint /storage/master-thesis/models/resdrop__nl-en_it-en_ro-en_en-de/checkpoint3.pt (epoch 3 @ 8985 updates, score 7.226) (writing took 3.7615119609981775 seconds)\n",
      "2022-10-29 22:37:57 | INFO | fairseq_cli.train | end of epoch 3 (average epoch stats below)\n",
      "2022-10-29 22:37:57 | INFO | train | epoch 003 | loss 6.07 | nll_loss 4.739 | ppl 26.71 | wps 33753.2 | ups 9.32 | wpb 3621.9 | bsz 150.1 | num_updates 8985 | lr 0.000333611 | gnorm 0.864 | loss_scale 16 | train_wall 309 | gb_free 12.1 | wall 965\n",
      "2022-10-29 22:37:57 | INFO | fairseq.tasks.translation_multi_simple_epoch | start batch sampler: mem usage: N/A\n",
      "2022-10-29 22:37:57 | INFO | fairseq.tasks.translation_multi_simple_epoch | [train] @batch_sampler order indices time: 0:00:00.102707\n",
      "2022-10-29 22:37:57 | INFO | fairseq.tasks.translation_multi_simple_epoch | mem usage: N/A\n",
      "2022-10-29 22:37:57 | INFO | fairseq.tasks.translation_multi_simple_epoch | [train] @batch_sampler filter_by_size time: 0:00:00.004930\n",
      "2022-10-29 22:37:57 | INFO | fairseq.tasks.translation_multi_simple_epoch | mem usage: N/A\n",
      "2022-10-29 22:37:57 | INFO | fairseq.tasks.translation_multi_simple_epoch | [train] @batch_sampler batch_by_size time: 0:00:00.015676\n",
      "2022-10-29 22:37:57 | INFO | fairseq.tasks.translation_multi_simple_epoch | [train] per epoch batch_sampler set-up time: 0:00:00.124341\n",
      "2022-10-29 22:37:57 | INFO | fairseq.tasks.translation_multi_simple_epoch | mem usage: N/A\n",
      "2022-10-29 22:37:57 | INFO | fairseq.data.iterators | grouped total_num_itrs = 2996\n",
      "epoch 004:   0%|                                       | 0/2996 [00:00<?, ?it/s]2022-10-29 22:37:57 | INFO | fairseq.trainer | begin training epoch 4\n",
      "2022-10-29 22:37:57 | INFO | fairseq_cli.train | Start iterating over samples\n",
      "Exception ignored in: <bound method _MultiProcessingDataLoaderIter.__del__ of <torch.utils.data.dataloader._MultiProcessingDataLoaderIter object at 0x7f7e2557e208>>\n",
      "Traceback (most recent call last):\n",
      "  File \"/usr/local/lib/python3.6/dist-packages/torch/utils/data/dataloader.py\", line 1328, in __del__\n",
      "    self._shutdown_workers()\n",
      "  File \"/usr/local/lib/python3.6/dist-packages/torch/utils/data/dataloader.py\", line 1320, in _shutdown_workers\n",
      "    if w.is_alive():\n",
      "  File \"/usr/lib/python3.6/multiprocessing/process.py\", line 134, in is_alive\n",
      "    assert self._parent_pid == os.getpid(), 'can only test a child process'\n",
      "AssertionError: can only test a child process\n",
      "epoch 004:   0%|                               | 3/2996 [00:00<06:05,  8.18it/s]Exception ignored in: <bound method _MultiProcessingDataLoaderIter.__del__ of <torch.utils.data.dataloader._MultiProcessingDataLoaderIter object at 0x7f7e333e6b70>>\n",
      "Traceback (most recent call last):\n",
      "  File \"/usr/local/lib/python3.6/dist-packages/torch/utils/data/dataloader.py\", line 1328, in __del__\n",
      "    self._shutdown_workers()\n",
      "  File \"/usr/local/lib/python3.6/dist-packages/torch/utils/data/dataloader.py\", line 1320, in _shutdown_workers\n",
      "    if w.is_alive():\n",
      "  File \"/usr/lib/python3.6/multiprocessing/process.py\", line 134, in is_alive\n",
      "    assert self._parent_pid == os.getpid(), 'can only test a child process'\n",
      "AssertionError: can only test a child process\n",
      "Exception ignored in: <bound method _MultiProcessingDataLoaderIter.__del__ of <torch.utils.data.dataloader._MultiProcessingDataLoaderIter object at 0x7f7e24494dd8>>\n",
      "Traceback (most recent call last):\n",
      "  File \"/usr/local/lib/python3.6/dist-packages/torch/utils/data/dataloader.py\", line 1328, in __del__\n",
      "    self._shutdown_workers()\n",
      "  File \"/usr/local/lib/python3.6/dist-packages/torch/utils/data/dataloader.py\", line 1320, in _shutdown_workers\n",
      "    if w.is_alive():\n",
      "  File \"/usr/lib/python3.6/multiprocessing/process.py\", line 134, in is_alive\n",
      "    assert self._parent_pid == os.getpid(), 'can only test a child process'\n",
      "AssertionError: can only test a child process\n",
      "Exception ignored in: <bound method _MultiProcessingDataLoaderIter.__del__ of <torch.utils.data.dataloader._MultiProcessingDataLoaderIter object at 0x7f7e25a439e8>>\n",
      "Traceback (most recent call last):\n",
      "  File \"/usr/local/lib/python3.6/dist-packages/torch/utils/data/dataloader.py\", line 1328, in __del__\n",
      "    self._shutdown_workers()\n",
      "  File \"/usr/local/lib/python3.6/dist-packages/torch/utils/data/dataloader.py\", line 1320, in _shutdown_workers\n",
      "    if w.is_alive():\n",
      "  File \"/usr/lib/python3.6/multiprocessing/process.py\", line 134, in is_alive\n",
      "    assert self._parent_pid == os.getpid(), 'can only test a child process'\n",
      "AssertionError: can only test a child process\n",
      "epoch 004: 100%|9| 2995/2996 [05:16<00:00,  9.35it/s, loss=5.626, nll_loss=4.2282022-10-29 22:43:13 | INFO | fairseq_cli.train | begin validation on \"valid\" subset\n",
      "2022-10-29 22:43:13 | INFO | fairseq.tasks.translation_multi_simple_epoch | start batch sampler: mem usage: N/A\n",
      "2022-10-29 22:43:13 | INFO | fairseq.tasks.translation_multi_simple_epoch | [valid] @batch_sampler order indices time: 0:00:00.001110\n",
      "2022-10-29 22:43:13 | INFO | fairseq.tasks.translation_multi_simple_epoch | mem usage: N/A\n",
      "2022-10-29 22:43:14 | INFO | fairseq.tasks.translation_multi_simple_epoch | [valid] @batch_sampler filter_by_size time: 0:00:00.030412\n",
      "2022-10-29 22:43:14 | INFO | fairseq.tasks.translation_multi_simple_epoch | mem usage: N/A\n",
      "2022-10-29 22:43:14 | INFO | fairseq.tasks.translation_multi_simple_epoch | [valid] @batch_sampler batch_by_size time: 0:00:00.023111\n",
      "2022-10-29 22:43:14 | INFO | fairseq.tasks.translation_multi_simple_epoch | [valid] per epoch batch_sampler set-up time: 0:00:00.055168\n",
      "2022-10-29 22:43:14 | INFO | fairseq.tasks.translation_multi_simple_epoch | mem usage: N/A\n",
      "\n",
      "epoch 004 | valid on 'valid' subset:   0%|               | 0/47 [00:00<?, ?it/s]\u001b[A\n",
      "epoch 004 | valid on 'valid' subset:   6%|4      | 3/47 [00:00<00:01, 29.09it/s]\u001b[A\n",
      "epoch 004 | valid on 'valid' subset:  15%|#      | 7/47 [00:00<00:01, 30.78it/s]\u001b[A\n",
      "epoch 004 | valid on 'valid' subset:  23%|#4    | 11/47 [00:00<00:01, 32.92it/s]\u001b[A\n",
      "epoch 004 | valid on 'valid' subset:  32%|#9    | 15/47 [00:00<00:00, 33.59it/s]\u001b[A\n",
      "epoch 004 | valid on 'valid' subset:  40%|##4   | 19/47 [00:00<00:00, 33.66it/s]\u001b[A\n",
      "epoch 004 | valid on 'valid' subset:  49%|##9   | 23/47 [00:00<00:00, 33.88it/s]\u001b[A\n",
      "epoch 004 | valid on 'valid' subset:  57%|###4  | 27/47 [00:00<00:00, 34.00it/s]\u001b[A\n",
      "epoch 004 | valid on 'valid' subset:  66%|###9  | 31/47 [00:00<00:00, 33.96it/s]\u001b[A\n",
      "epoch 004 | valid on 'valid' subset:  74%|####4 | 35/47 [00:01<00:00, 34.02it/s]\u001b[A\n",
      "epoch 004 | valid on 'valid' subset:  83%|####9 | 39/47 [00:01<00:00, 33.62it/s]\u001b[A\n",
      "epoch 004 | valid on 'valid' subset:  91%|#####4| 43/47 [00:01<00:00, 34.01it/s]\u001b[A\n",
      "epoch 004 | valid on 'valid' subset: 100%|######| 47/47 [00:01<00:00, 35.29it/s]\u001b[A\n",
      "                                                                                \u001b[A2022-10-29 22:43:15 | INFO | valid | epoch 004 | valid on 'valid' subset | loss 7.083 | nll_loss 5.795 | ppl 55.54 | wps 80529.7 | wpb 2297.1 | bsz 84.8 | num_updates 11981 | best_loss 7.083\n",
      "2022-10-29 22:43:15 | INFO | fairseq.checkpoint_utils | Preparing to save checkpoint for epoch 4 @ 11981 updates\n",
      "2022-10-29 22:43:15 | INFO | fairseq.trainer | Saving checkpoint to /storage/master-thesis/models/resdrop__nl-en_it-en_ro-en_en-de/checkpoint4.pt\n",
      "2022-10-29 22:43:22 | INFO | fairseq.trainer | Finished saving checkpoint to /storage/master-thesis/models/resdrop__nl-en_it-en_ro-en_en-de/checkpoint4.pt\n",
      "2022-10-29 22:43:24 | INFO | fairseq.checkpoint_utils | Saved checkpoint /storage/master-thesis/models/resdrop__nl-en_it-en_ro-en_en-de/checkpoint4.pt (epoch 4 @ 11981 updates, score 7.083) (writing took 8.826292145065963 seconds)\n",
      "2022-10-29 22:43:24 | INFO | fairseq_cli.train | end of epoch 4 (average epoch stats below)\n",
      "2022-10-29 22:43:24 | INFO | train | epoch 004 | loss 5.732 | nll_loss 4.349 | ppl 20.38 | wps 33164.2 | ups 9.16 | wpb 3621.9 | bsz 150.1 | num_updates 11981 | lr 0.000288904 | gnorm 0.892 | loss_scale 16 | train_wall 310 | gb_free 12.1 | wall 1292\n",
      "2022-10-29 22:43:24 | INFO | fairseq.tasks.translation_multi_simple_epoch | start batch sampler: mem usage: N/A\n",
      "2022-10-29 22:43:24 | INFO | fairseq.tasks.translation_multi_simple_epoch | [train] @batch_sampler order indices time: 0:00:00.104849\n",
      "2022-10-29 22:43:24 | INFO | fairseq.tasks.translation_multi_simple_epoch | mem usage: N/A\n",
      "2022-10-29 22:43:24 | INFO | fairseq.tasks.translation_multi_simple_epoch | [train] @batch_sampler filter_by_size time: 0:00:00.004885\n",
      "2022-10-29 22:43:24 | INFO | fairseq.tasks.translation_multi_simple_epoch | mem usage: N/A\n",
      "2022-10-29 22:43:24 | INFO | fairseq.tasks.translation_multi_simple_epoch | [train] @batch_sampler batch_by_size time: 0:00:00.015024\n",
      "2022-10-29 22:43:24 | INFO | fairseq.tasks.translation_multi_simple_epoch | [train] per epoch batch_sampler set-up time: 0:00:00.125723\n",
      "2022-10-29 22:43:24 | INFO | fairseq.tasks.translation_multi_simple_epoch | mem usage: N/A\n",
      "2022-10-29 22:43:24 | INFO | fairseq.data.iterators | grouped total_num_itrs = 2996\n",
      "epoch 005:   0%|                                       | 0/2996 [00:00<?, ?it/s]2022-10-29 22:43:24 | INFO | fairseq.trainer | begin training epoch 5\n",
      "2022-10-29 22:43:24 | INFO | fairseq_cli.train | Start iterating over samples\n",
      "epoch 005:  39%|3| 1154/2996 [02:01<03:19,  9.24it/s, loss=5.587, nll_loss=4.178Exception ignored in: <bound method _MultiProcessingDataLoaderIter.__del__ of <torch.utils.data.dataloader._MultiProcessingDataLoaderIter object at 0x7f7f0063cb00>>\n",
      "Traceback (most recent call last):\n",
      "  File \"/usr/local/lib/python3.6/dist-packages/torch/utils/data/dataloader.py\", line 1328, in __del__\n",
      "    self._shutdown_workers()\n",
      "  File \"/usr/local/lib/python3.6/dist-packages/torch/utils/data/dataloader.py\", line 1320, in _shutdown_workers\n",
      "    if w.is_alive():\n",
      "  File \"/usr/lib/python3.6/multiprocessing/process.py\", line 134, in is_alive\n",
      "    assert self._parent_pid == os.getpid(), 'can only test a child process'\n",
      "AssertionError: can only test a child process\n",
      "epoch 005:  44%|4| 1328/2996 [02:19<02:56,  9.47it/s, loss=5.45, nll_loss=4.025,"
     ]
    }
   ],
   "source": [
    "! fairseq-train $BIN_DIR \\\n",
    "    --user-dir /storage/code/fairseq/examples/residual_drop/residual_drop_src/ \\\n",
    "    --arch=residual_drop_transformer --share-all-embeddings \\\n",
    "    --task translation_multi_simple_epoch --lang-pairs it-en,nl-en,ro-en,en-de \\\n",
    "    --optimizer adam --adam-betas '(0.9, 0.98)' --clip-norm 0.0 \\\n",
    "    --lr 5e-4 --lr-scheduler inverse_sqrt --warmup-updates 4000 \\\n",
    "    --dropout 0.3 --weight-decay 0.0001 \\\n",
    "    --criterion label_smoothed_cross_entropy --label-smoothing 0.1 \\\n",
    "    --max-tokens 4096 \\\n",
    "    --restore-file $MODEL_DIR/checkpoint_last.pt \\\n",
    "    --save-dir $MODEL_DIR/ \\\n",
    "    --keep-last-epochs 2 \\\n",
    "    --reset-optimizer \\\n",
    "    --encoder-langtok \"src\" \\\n",
    "    --decoder-langtok \\\n",
    "    --fp16 \\\n",
    "    --max-epoch 200 \\\n",
    "    --patience 10 \\\n",
    "    --encoder-drop-residual 2"
   ]
  },
  {
   "cell_type": "code",
   "execution_count": 34,
   "metadata": {},
   "outputs": [
    {
     "name": "stdout",
     "output_type": "stream",
     "text": [
      "/storage/master-thesis/models/quy-es+es-en\n"
     ]
    }
   ],
   "source": [
    "! echo $MODEL_DIR"
   ]
  },
  {
   "cell_type": "code",
   "execution_count": 36,
   "metadata": {},
   "outputs": [
    {
     "name": "stdout",
     "output_type": "stream",
     "text": [
      "/storage/master-thesis/models/quy-es+es-en\n"
     ]
    }
   ],
   "source": [
    "cd /storage/master-thesis/models/quy-es+es-en"
   ]
  },
  {
   "cell_type": "code",
   "execution_count": 38,
   "metadata": {},
   "outputs": [],
   "source": [
    "! rm checkpoint108.pt\n",
    "! rm checkpoint109.pt\n",
    "! rm checkpoint_best.pt\n",
    "! rm checkpoint_last.pt"
   ]
  },
  {
   "cell_type": "code",
   "execution_count": 29,
   "metadata": {},
   "outputs": [],
   "source": [
    "! rm dict.en.txt\n",
    "! rm dict.es.txt\n",
    "! rm dict.quy.txt"
   ]
  },
  {
   "cell_type": "code",
   "execution_count": 84,
   "metadata": {},
   "outputs": [
    {
     "name": "stdout",
     "output_type": "stream",
     "text": [
      "2.5K\t/notebooks/CITATION.cff\n",
      "5.5K\t/notebooks/CODE_OF_CONDUCT.md\n",
      "15K\t/notebooks/CONTRIBUTING.md\n",
      "19K\t/notebooks/ISSUES.md\n",
      "12K\t/notebooks/LICENSE\n",
      "512\t/notebooks/MANIFEST.in\n",
      "3.5K\t/notebooks/Makefile\n",
      "41K\t/notebooks/README.md\n",
      "41K\t/notebooks/README_zh-hans.md\n",
      "42K\t/notebooks/README_zh-hant.md\n",
      "12K\t/notebooks/docker\n",
      "4.6M\t/notebooks/docs\n",
      "5.0M\t/notebooks/examples\n",
      "8.5K\t/notebooks/hubconf.py\n",
      "7.8G\t/notebooks/master-thesis\n",
      "1.5K\t/notebooks/model_cards\n",
      "9.5K\t/notebooks/notebooks\n",
      "512\t/notebooks/pyproject.toml\n",
      "64K\t/notebooks/scripts\n",
      "1.0K\t/notebooks/setup.cfg\n",
      "13K\t/notebooks/setup.py\n",
      "13M\t/notebooks/src\n",
      "731K\t/notebooks/templates\n",
      "4.5K\t/notebooks/test quy-es -> es-en model.ipynb\n",
      "6.8M\t/notebooks/tests\n",
      "147K\t/notebooks/train es-en model.ipynb\n",
      "158K\t/notebooks/train quy-es + es-en model.ipynb\n",
      "160K\t/notebooks/utils\n",
      "3.5K\t/notebooks/valohai.yaml\n",
      "7.9G\ttotal\n"
     ]
    }
   ],
   "source": [
    "! du -shc /notebooks/*"
   ]
  },
  {
   "cell_type": "code",
   "execution_count": 85,
   "metadata": {},
   "outputs": [
    {
     "name": "stdout",
     "output_type": "stream",
     "text": [
      "512\t/notebooks/master-thesis/Untitled.ipynb\n",
      "362M\t/notebooks/master-thesis/corpora\n",
      "7.5G\t/notebooks/master-thesis/models\n",
      "7.8G\ttotal\n"
     ]
    }
   ],
   "source": [
    "! du -shc /notebooks/master-thesis/*"
   ]
  },
  {
   "cell_type": "code",
   "execution_count": 86,
   "metadata": {},
   "outputs": [
    {
     "name": "stdout",
     "output_type": "stream",
     "text": [
      "1.6G\t/notebooks/master-thesis/models/es-en\n",
      "802M\t/notebooks/master-thesis/models/quy-es\n",
      "5.2G\t/notebooks/master-thesis/models/quy-es+es-en\n",
      "7.5G\ttotal\n"
     ]
    }
   ],
   "source": [
    "! du -shc /notebooks/master-thesis/models/*"
   ]
  },
  {
   "cell_type": "code",
   "execution_count": 78,
   "metadata": {},
   "outputs": [
    {
     "name": "stdout",
     "output_type": "stream",
     "text": [
      "19M\t/apex\n",
      "5.0M\t/bin\n",
      "4.0K\t/boot\n",
      "24K\t/content\n",
      "^C\n"
     ]
    }
   ],
   "source": [
    "! du -shc /*"
   ]
  },
  {
   "cell_type": "code",
   "execution_count": 89,
   "metadata": {},
   "outputs": [
    {
     "name": "stdout",
     "output_type": "stream",
     "text": [
      " CITATION.cff         \u001b[0m\u001b[01;34mdocker\u001b[0m/          setup.py\n",
      " CODE_OF_CONDUCT.md   \u001b[01;34mdocs\u001b[0m/            \u001b[01;34msrc\u001b[0m/\n",
      " CONTRIBUTING.md      \u001b[01;34mexamples\u001b[0m/        \u001b[01;34mtemplates\u001b[0m/\n",
      " ISSUES.md            hubconf.py      'test quy-es -> es-en model.ipynb'\n",
      " LICENSE              \u001b[01;34mmaster-thesis\u001b[0m/   \u001b[01;34mtests\u001b[0m/\n",
      " MANIFEST.in          \u001b[01;34mmodel_cards\u001b[0m/    'train es-en model.ipynb'\n",
      " Makefile             \u001b[01;34mnotebooks\u001b[0m/      'train quy-es + es-en model.ipynb'\n",
      " README.md            pyproject.toml   \u001b[01;34mutils\u001b[0m/\n",
      " README_zh-hans.md    \u001b[01;34mscripts\u001b[0m/         valohai.yaml\n",
      " README_zh-hant.md    setup.cfg\n"
     ]
    }
   ],
   "source": [
    "ls"
   ]
  },
  {
   "cell_type": "code",
   "execution_count": 98,
   "metadata": {},
   "outputs": [],
   "source": []
  },
  {
   "cell_type": "code",
   "execution_count": 92,
   "metadata": {},
   "outputs": [],
   "source": []
  },
  {
   "cell_type": "code",
   "execution_count": 94,
   "metadata": {},
   "outputs": [],
   "source": []
  },
  {
   "cell_type": "code",
   "execution_count": 95,
   "metadata": {},
   "outputs": [],
   "source": []
  },
  {
   "cell_type": "code",
   "execution_count": 96,
   "metadata": {},
   "outputs": [
    {
     "name": "stdout",
     "output_type": "stream",
     "text": [
      "/storage/master-thesis\n"
     ]
    }
   ],
   "source": []
  },
  {
   "cell_type": "code",
   "execution_count": null,
   "metadata": {},
   "outputs": [],
   "source": []
  }
 ],
 "metadata": {
  "kernelspec": {
   "display_name": "Python 3",
   "language": "python",
   "name": "python3"
  },
  "language_info": {
   "codemirror_mode": {
    "name": "ipython",
    "version": 3
   },
   "file_extension": ".py",
   "mimetype": "text/x-python",
   "name": "python",
   "nbconvert_exporter": "python",
   "pygments_lexer": "ipython3",
   "version": "3.6.9"
  }
 },
 "nbformat": 4,
 "nbformat_minor": 4
}
